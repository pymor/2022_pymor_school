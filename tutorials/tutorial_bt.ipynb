{
 "cells": [
  {
   "cell_type": "markdown",
   "id": "1224a4e7",
   "metadata": {},
   "source": [
    "```{try_on_binder}\n",
    "```"
   ]
  },
  {
   "cell_type": "code",
   "execution_count": null,
   "id": "905b6c0d",
   "metadata": {
    "load": "myst_code_init.py",
    "tags": [
     "remove-cell"
    ]
   },
   "outputs": [],
   "source": []
  },
  {
   "cell_type": "markdown",
   "id": "5b23c9bd",
   "metadata": {},
   "source": [
    "# Tutorial: Reducing an LTI system using balanced truncation\n",
    "\n",
    "\n",
    "Here we briefly describe the balanced truncation method,\n",
    "for asymptotically stable LTI systems with an invertible {math}`E` matrix,\n",
    "and demonstrate it on the heat equation example from\n",
    "{doc}`tutorial_lti_systems`.\n",
    "First, we import necessary packages, including\n",
    "{class}`~pymor.reductors.bt.BTReductor`."
   ]
  },
  {
   "cell_type": "code",
   "execution_count": null,
   "id": "0590441c",
   "metadata": {},
   "outputs": [],
   "source": [
    "import matplotlib.pyplot as plt\n",
    "import numpy as np\n",
    "import scipy.sparse as sps\n",
    "from pymor.models.iosys import LTIModel\n",
    "from pymor.reductors.bt import BTReductor\n",
    "\n",
    "plt.rcParams['axes.grid'] = True"
   ]
  },
  {
   "cell_type": "markdown",
   "id": "2238613a",
   "metadata": {},
   "source": [
    "Then we build the matrices"
   ]
  },
  {
   "cell_type": "code",
   "execution_count": null,
   "id": "1646073d",
   "metadata": {
    "load": "heat_equation.py"
   },
   "outputs": [],
   "source": []
  },
  {
   "cell_type": "markdown",
   "id": "d87d1062",
   "metadata": {},
   "source": [
    "and form the full-order model."
   ]
  },
  {
   "cell_type": "code",
   "execution_count": null,
   "id": "e8aa9228",
   "metadata": {},
   "outputs": [],
   "source": [
    "fom = LTIModel.from_matrices(A, B, C, E=E)"
   ]
  },
  {
   "cell_type": "markdown",
   "id": "c9353b6a",
   "metadata": {},
   "source": [
    "## Balanced truncation\n",
    "\n",
    "As the name suggests,\n",
    "the balanced truncation method consists of\n",
    "finding a *balanced* realization of the full-order LTI system and\n",
    "*truncating* it to obtain a reduced-order model.\n",
    "\n",
    "The balancing part is based on the fact that a single LTI system has many\n",
    "realizations.\n",
    "For example, starting from a realization\n",
    "\n",
    "```{math}\n",
    "\\begin{align}\n",
    "    E \\dot{x}(t) & = A x(t) + B u(t), \\\\\n",
    "    y(t) & = C x(t) + D u(t),\n",
    "\\end{align}\n",
    "```\n",
    "\n",
    "another realization can be obtained by replacing {math}`x(t)` with\n",
    "{math}`T \\tilde{x}(t)` or by pre-multiplying the differential equation with an\n",
    "invertible matrix.\n",
    "In particular, there exist invertible transformation matrices\n",
    "{math}`T, S \\in \\mathbb{R}^{n \\times n}` such that the realization with\n",
    "{math}`\\tilde{E} = S^{\\operatorname{T}} E T = I`,\n",
    "{math}`\\tilde{A} = S^{\\operatorname{T}} A T`,\n",
    "{math}`\\tilde{B} = S^{\\operatorname{T}} B`,\n",
    "{math}`\\tilde{C} = C T`\n",
    "has Gramians {math}`\\tilde{P}` and {math}`\\tilde{Q}` satisfying\n",
    "{math}`\\tilde{P} = \\tilde{Q} = \\Sigma = \\operatorname{diag}(\\sigma_i)`,\n",
    "where {math}`\\sigma_i` are the Hankel singular values\n",
    "(see {doc}`tutorial_lti_systems` for more details).\n",
    "Such a realization is called balanced.\n",
    "\n",
    "The truncation part is based on the controllability and observability energies.\n",
    "The controllability energy {math}`E_c(x_0)` is the minimum energy (squared\n",
    "{math}`\\mathcal{L}_2` norm of the input) necessary to steer the system from the\n",
    "zero state to {math}`x_0`.\n",
    "The observability energy {math}`E_o(x_0)` is the energy of the output (squared\n",
    "{math}`\\mathcal{L}_2` norm of the output) for a system starting at the state\n",
    "{math}`x_0` and with zero input.\n",
    "It can be shown for the balanced realization\n",
    "(and same for any other realization)\n",
    "that,\n",
    "if {math}`\\tilde{P}` is invertible,\n",
    "then\n",
    "\n",
    "```{math}\n",
    "E_c(x_0) = x_0 \\tilde{P}^{-1} x_0, \\quad\n",
    "E_o(x_0) = x_0 \\tilde{Q} x_0.\n",
    "```\n",
    "\n",
    "Therefore, states corresponding to small Hankel singular values are more\n",
    "difficult to reach (they have a large controllability energy) and are difficult\n",
    "to observe (they produce a small observability energy).\n",
    "In this sense, it is then reasonable to truncate these states.\n",
    "This can be achieved by taking as basis matrices\n",
    "{math}`V, W \\in \\mathbb{R}^{n \\times r}` the first {math}`r` columns of\n",
    "{math}`T` and {math}`S`,\n",
    "possibly after orthonormalization,\n",
    "giving a reduced-order model\n",
    "\n",
    "```{math}\n",
    "\\begin{align}\n",
    "    \\hat{E} \\dot{\\hat{x}}(t)\n",
    "    & = \\hat{A} \\hat{x}(t) + \\hat{B} u(t), \\\\\n",
    "    \\hat{y}(t)\n",
    "    & = \\hat{C} \\hat{x}(t) + D u(t),\n",
    "\\end{align}\n",
    "```\n",
    "\n",
    "with\n",
    "{math}`\\hat{E} = W^{\\operatorname{T}} E V`,\n",
    "{math}`\\hat{A} = W^{\\operatorname{T}} A V`,\n",
    "{math}`\\hat{B} = W^{\\operatorname{T}} B`,\n",
    "{math}`\\hat{C} = C V`.\n",
    "\n",
    "It is known that the reduced-order model is asymptotically stable if\n",
    "{math}`\\sigma_r > \\sigma_{r + 1}`.\n",
    "Furthermore, it satisfies the {math}`\\mathcal{H}_\\infty` error bound\n",
    "\n",
    "```{math}\n",
    "\\lVert H - \\hat{H} \\rVert_{\\mathcal{H}_\\infty}\n",
    "\\leqslant 2 \\sum_{i = r + 1}^n \\sigma_i.\n",
    "```\n",
    "\n",
    "Note that any reduced-order model (not only from balanced truncation) satisfies\n",
    "the lower bound\n",
    "\n",
    "```{math}\n",
    "\\lVert H - \\hat{H} \\rVert_{\\mathcal{H}_\\infty}\n",
    "\\geqslant \\sigma_{r + 1}.\n",
    "```\n",
    "\n",
    "## Balanced truncation in pyMOR\n",
    "\n",
    "To run balanced truncation in pyMOR, we first need the reductor object"
   ]
  },
  {
   "cell_type": "code",
   "execution_count": null,
   "id": "da17e8a3",
   "metadata": {},
   "outputs": [],
   "source": [
    "bt = BTReductor(fom)"
   ]
  },
  {
   "cell_type": "markdown",
   "id": "244ae56d",
   "metadata": {},
   "source": [
    "Calling its {meth}`~pymor.reductors.bt.GenericBTReductor.reduce` method runs the\n",
    "balanced truncation algorithm. This reductor additionally has an `error_bounds`\n",
    "method which can compute the a priori {math}`\\mathcal{H}_\\infty` error bounds\n",
    "based on the Hankel singular values:"
   ]
  },
  {
   "cell_type": "code",
   "execution_count": null,
   "id": "52759570",
   "metadata": {},
   "outputs": [],
   "source": [
    "error_bounds = bt.error_bounds()\n",
    "hsv = fom.hsv()\n",
    "fig, ax = plt.subplots()\n",
    "ax.semilogy(range(1, len(error_bounds) + 1), error_bounds, '.-')\n",
    "ax.semilogy(range(1, len(hsv)), hsv[1:], '.-')\n",
    "ax.set_xlabel('Reduced order')\n",
    "_ = ax.set_title(r'Upper and lower $\\mathcal{H}_\\infty$ error bounds')"
   ]
  },
  {
   "cell_type": "markdown",
   "id": "a96052e1",
   "metadata": {},
   "source": [
    "To get a reduced-order model of order 10, we call the `reduce` method with the\n",
    "appropriate argument:"
   ]
  },
  {
   "cell_type": "code",
   "execution_count": null,
   "id": "cbcf4263",
   "metadata": {},
   "outputs": [],
   "source": [
    "rom = bt.reduce(10)"
   ]
  },
  {
   "cell_type": "markdown",
   "id": "16a8de58",
   "metadata": {},
   "source": [
    "Instead, or in addition, a tolerance for the {math}`\\mathcal{H}_\\infty` error\n",
    "can be specified, as well as the projection algorithm (by default, the\n",
    "balancing-free square root method is used).\n",
    "The used Petrov-Galerkin bases are stored in `bt.V` and `bt.W`.\n",
    "\n",
    "We can compare the magnitude plots between the full-order and reduced-order\n",
    "models"
   ]
  },
  {
   "cell_type": "code",
   "execution_count": null,
   "id": "a943ce2b",
   "metadata": {},
   "outputs": [],
   "source": [
    "w = np.logspace(-2, 8, 300)\n",
    "fig, ax = plt.subplots()\n",
    "fom.transfer_function.mag_plot(w, ax=ax, label='FOM')\n",
    "rom.transfer_function.mag_plot(w, ax=ax, linestyle='--', label='ROM')\n",
    "_ = ax.legend()"
   ]
  },
  {
   "cell_type": "markdown",
   "id": "a49697f2",
   "metadata": {},
   "source": [
    "as well as Bode plots"
   ]
  },
  {
   "cell_type": "code",
   "execution_count": null,
   "id": "2633d847",
   "metadata": {},
   "outputs": [],
   "source": [
    "fig, axs = plt.subplots(6, 2, figsize=(12, 24), sharex=True, constrained_layout=True)\n",
    "fom.transfer_function.bode_plot(w, ax=axs)\n",
    "_ = rom.transfer_function.bode_plot(w, ax=axs, linestyle='--')"
   ]
  },
  {
   "cell_type": "markdown",
   "id": "70c65fa0",
   "metadata": {},
   "source": [
    "Also, we can plot the magnitude plot of the error system,\n",
    "which is again an LTI system.\n",
    "\n",
    "```{math}\n",
    "\\begin{align}\n",
    "    \\begin{bmatrix}\n",
    "        E & 0 \\\\\n",
    "        0 & \\hat{E}\n",
    "    \\end{bmatrix}\n",
    "    \\begin{bmatrix}\n",
    "        \\dot{x}(t) \\\\\n",
    "        \\dot{\\hat{x}}(t)\n",
    "    \\end{bmatrix}\n",
    "    & =\n",
    "    \\begin{bmatrix}\n",
    "        A & 0 \\\\\n",
    "        0 & \\hat{A}\n",
    "    \\end{bmatrix}\n",
    "    \\begin{bmatrix}\n",
    "        x(t) \\\\\n",
    "        \\hat{x}(t)\n",
    "    \\end{bmatrix}\n",
    "    +\n",
    "    \\begin{bmatrix}\n",
    "        B \\\\\n",
    "        \\hat{B}\n",
    "    \\end{bmatrix}\n",
    "    u(t), \\\\\n",
    "    y(t) - \\hat{y}(t)\n",
    "    & =\n",
    "    \\begin{bmatrix}\n",
    "        C & -\\hat{C}\n",
    "    \\end{bmatrix}\n",
    "    \\begin{bmatrix}\n",
    "        x(t) \\\\\n",
    "        \\hat{x}(t)\n",
    "    \\end{bmatrix}.\n",
    "\\end{align}\n",
    "```"
   ]
  },
  {
   "cell_type": "code",
   "execution_count": null,
   "id": "0834de77",
   "metadata": {},
   "outputs": [],
   "source": [
    "err = fom - rom\n",
    "_ = err.transfer_function.mag_plot(w)"
   ]
  },
  {
   "cell_type": "markdown",
   "id": "a10bd1ae",
   "metadata": {},
   "source": [
    "and its Bode plot"
   ]
  },
  {
   "cell_type": "code",
   "execution_count": null,
   "id": "bddb5616",
   "metadata": {},
   "outputs": [],
   "source": [
    "_ = err.transfer_function.bode_plot(w)"
   ]
  },
  {
   "cell_type": "markdown",
   "id": "d030e06e",
   "metadata": {},
   "source": [
    "Finally, we can compute the relative errors in different system norms."
   ]
  },
  {
   "cell_type": "code",
   "execution_count": null,
   "id": "f50e6f32",
   "metadata": {},
   "outputs": [],
   "source": [
    "print(f'Relative Hinf error:   {err.hinf_norm() / fom.hinf_norm():.3e}')\n",
    "print(f'Relative H2 error:     {err.h2_norm() / fom.h2_norm():.3e}')\n",
    "print(f'Relative Hankel error: {err.hankel_norm() / fom.hankel_norm():.3e}')"
   ]
  },
  {
   "cell_type": "markdown",
   "id": "477c20a2",
   "metadata": {},
   "source": [
    "Download the code:\n",
    "{download}`tutorial_bt.md`,\n",
    "{nb-download}`tutorial_bt.ipynb`."
   ]
  }
 ],
 "metadata": {
  "jupyter": {
   "jupytext": {
    "cell_metadata_filter": "-all",
    "formats": "ipynb,myst",
    "main_language": "python",
    "text_representation": {
     "extension": ".md",
     "format_name": "myst",
     "format_version": "1.3",
     "jupytext_version": "1.11.2"
    }
   }
  },
  "kernelspec": {
   "display_name": "Python 3",
   "name": "python3"
  }
 },
 "nbformat": 4,
 "nbformat_minor": 5
}
