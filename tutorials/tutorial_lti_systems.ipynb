{
 "cells": [
  {
   "cell_type": "markdown",
   "id": "efb0bb8b",
   "metadata": {},
   "source": [
    "```{try_on_binder}\n",
    "```"
   ]
  },
  {
   "cell_type": "code",
   "execution_count": null,
   "id": "4b9c600b",
   "metadata": {
    "load": "myst_code_init.py",
    "tags": [
     "remove-cell"
    ]
   },
   "outputs": [],
   "source": []
  },
  {
   "cell_type": "markdown",
   "id": "927cc443",
   "metadata": {},
   "source": [
    "# Tutorial: Linear time-invariant systems\n",
    "\n",
    "In this tutorial,\n",
    "we discuss finite-dimensional, continuous-time, linear time-invariant (LTI)\n",
    "systems of the form\n",
    "\n",
    "```{math}\n",
    "\\begin{align}\n",
    "    E \\dot{x}(t) & = A x(t) + B u(t), \\\\\n",
    "    y(t) & = C x(t) + D u(t).\n",
    "\\end{align}\n",
    "```\n",
    "\n",
    "where\n",
    "{math}`u` is the input,\n",
    "{math}`x` the state, and\n",
    "{math}`y` the output of the system,\n",
    "and {math}`A, B, C, D, E` are matrices of appropriate dimensions\n",
    "(more details can be found in {cite}`A05`).\n",
    "In pyMOR, these models are captured by {{ LTIModels }},\n",
    "which contain the matrices {math}`A, B, C, D, E` as {{ Operators }}.\n",
    "We start by building an {{ LTIModel }} and then demonstrate some of its properties,\n",
    "using a discretized heat equation as the example.\n",
    "\n",
    "We focus on a non-parametric example,\n",
    "but parametric LTI systems can be handled similarly\n",
    "by constructing {math}`A, B, C, D, E` as parametric {{ Operators }} and\n",
    "passing {{ parameter_values }} via the `mu` argument to the methods of the\n",
    "{{ LTIModel }}.\n",
    "\n",
    "::: {note}\n",
    "\n",
    "Discrete-time LTI systems can be constructed by passing positive values for the\n",
    "`sampling_time` to any constructor of an {{LTIModel}}.\n",
    "\n",
    ":::\n",
    "## Building a model\n",
    "\n",
    "We consider the following one-dimensional heat equation over {math}`(0, 1)` with\n",
    "two inputs {math}`u_1, u_2` and three outputs {math}`y_1, y_2, y_2`:\n",
    "\n",
    "```{math}\n",
    "\\begin{align}\n",
    "    \\partial_t T(\\xi, t) & = \\partial_{\\xi \\xi} T(\\xi, t) + u_1(t),\n",
    "    & 0 < \\xi < 1,\\ t > 0, \\\\\n",
    "    -\\partial_\\xi T(0, t) & = -T(0, t) + u_2(t),\n",
    "    & t > 0, \\\\\n",
    "    \\partial_\\xi T(1, t) & = -T(1, t),\n",
    "    & t > 0, \\\\\n",
    "    y_1(t) & = T(0, t),\n",
    "    & t > 0, \\\\\n",
    "    y_2(t) & = T(0.5, t),\n",
    "    & t > 0, \\\\\n",
    "    y_3(t) & = T(1, t),\n",
    "    & t > 0.\n",
    "\\end{align}\n",
    "```\n",
    "\n",
    "There are many ways of building an {{ LTIModel }}.\n",
    "Here, we show how to build one from custom matrices,\n",
    "instead of using a discretizer as in {doc}`tutorial_builtin_discretizer`\n",
    "(and the {meth}`~pymor.models.basic.InstationaryModel.to_lti` method of\n",
    "{{ InstationaryModel }} to obtain an {{ LTIModel }}).\n",
    "In particular, we will use the\n",
    "{meth}`~pymor.models.iosys.LTIModel.from_matrices` method of {{ LTIModel }},\n",
    "which instantiates an {{ LTIModel }} from NumPy or SciPy matrices.\n",
    "\n",
    "First, we do the necessary imports and some matplotlib style choices."
   ]
  },
  {
   "cell_type": "code",
   "execution_count": null,
   "id": "515a5b9a",
   "metadata": {},
   "outputs": [],
   "source": [
    "import matplotlib.pyplot as plt\n",
    "import numpy as np\n",
    "import scipy.sparse as sps\n",
    "from pymor.models.iosys import LTIModel\n",
    "\n",
    "plt.rcParams['axes.grid'] = True"
   ]
  },
  {
   "cell_type": "markdown",
   "id": "d5d8ed9b",
   "metadata": {},
   "source": [
    "Next, we can assemble the matrices based on a centered finite difference\n",
    "approximation using standard methods of NumPy and SciPy."
   ]
  },
  {
   "cell_type": "code",
   "execution_count": null,
   "id": "549de7ff",
   "metadata": {
    "load": "heat_equation.py"
   },
   "outputs": [],
   "source": []
  },
  {
   "cell_type": "markdown",
   "id": "f23cb89c",
   "metadata": {},
   "source": [
    "Then, we can create an {{ LTIModel }} from NumPy and SciPy matrices `A`, `B`, `C`,\n",
    "`E`."
   ]
  },
  {
   "cell_type": "code",
   "execution_count": null,
   "id": "811c4cd8",
   "metadata": {},
   "outputs": [],
   "source": [
    "fom = LTIModel.from_matrices(A, B, C, E=E)"
   ]
  },
  {
   "cell_type": "markdown",
   "id": "ce1d27d5",
   "metadata": {},
   "source": [
    "We can take a look at the internal representation of the {{ LTIModel }} `fom`."
   ]
  },
  {
   "cell_type": "code",
   "execution_count": null,
   "id": "24cc0a00",
   "metadata": {},
   "outputs": [],
   "source": [
    "fom"
   ]
  },
  {
   "cell_type": "markdown",
   "id": "dfcfb545",
   "metadata": {},
   "source": [
    "From this, we see that the matrices were wrapped in {{ NumpyMatrixOperators }},\n",
    "while the default value was chosen for the {math}`D` matrix\n",
    "({class}`~pymor.operators.constructions.ZeroOperator`).\n",
    "The operators in an {{ LTIModel }} can be accessed via its attributes, e.g.,\n",
    "`fom.A` is the {{ Operator }} representing the {math}`A` matrix.\n",
    "\n",
    "We can also see some basic information from `fom`'s string representation"
   ]
  },
  {
   "cell_type": "code",
   "execution_count": null,
   "id": "440d323d",
   "metadata": {},
   "outputs": [],
   "source": [
    "print(fom)"
   ]
  },
  {
   "cell_type": "markdown",
   "id": "6a5affd4",
   "metadata": {},
   "source": [
    "which gives the dimensions of the underlying system more directly,\n",
    "together with some of its properties.\n",
    "\n",
    "## Transfer function evaluation\n",
    "\n",
    "The transfer function {math}`H` is the function such that\n",
    "{math}`Y(s) = H(s) U(s)`,\n",
    "where {math}`U` and {math}`Y` are respectively the Laplace transforms of\n",
    "the input {math}`u` and the output {math}`y`,\n",
    "assuming zero initial condition ({math}`x(0) = 0`).\n",
    "The expression for {math}`H` can be found by applying the Laplace transform\n",
    "to the system equations to obtain\n",
    "\n",
    "```{math}\n",
    "\\begin{align}\n",
    "    s E X(s) & = A X(s) + B U(s), \\\\\n",
    "    Y(s) & = C X(s) + D U(s).\n",
    "\\end{align}\n",
    "```\n",
    "\n",
    "using that {math}`s X(s)` is the Laplace transform of {math}`\\dot{x}(t)`.\n",
    "Eliminating {math}`X(s)` leads to\n",
    "\n",
    "```{math}\n",
    "Y(s) = \\left( C (s E - A)^{-1} B + D \\right) U(s),\n",
    "```\n",
    "\n",
    "i.e., {math}`H(s) = C (s E - A)^{-1} B + D`.\n",
    "Note that {math}`H` is a matrix-valued rational function\n",
    "(each component is a rational function).\n",
    "\n",
    "The transfer function of a given {{ LTIModel }} is stored as the attribute\n",
    "`transfer_function`.\n",
    "It can be evaluated using its\n",
    "{meth}`~pymor.models.transfer_function.TransferFunction.eval_tf` method.\n",
    "The result is a NumPy array."
   ]
  },
  {
   "cell_type": "code",
   "execution_count": null,
   "id": "fe7ff92f",
   "metadata": {},
   "outputs": [],
   "source": [
    "print(fom.transfer_function.eval_tf(0))\n",
    "print(fom.transfer_function.eval_tf(1))\n",
    "print(fom.transfer_function.eval_tf(1j))"
   ]
  },
  {
   "cell_type": "markdown",
   "id": "747a39fb",
   "metadata": {},
   "source": [
    "Similarly, the derivative of the transfer function can be computed using the\n",
    "{meth}`~pymor.models.transfer_function.TransferFunction.eval_dtf` method.\n",
    "The result is again a NumPy array."
   ]
  },
  {
   "cell_type": "code",
   "execution_count": null,
   "id": "e8bfb14b",
   "metadata": {},
   "outputs": [],
   "source": [
    "print(fom.transfer_function.eval_dtf(0))\n",
    "print(fom.transfer_function.eval_dtf(1))\n",
    "print(fom.transfer_function.eval_dtf(1j))"
   ]
  },
  {
   "cell_type": "markdown",
   "id": "52c4bd03",
   "metadata": {},
   "source": [
    "To evaluate the transfer function over a sequence of points on the imaginary\n",
    "axis,\n",
    "the {meth}`~pymor.models.transfer_function.TransferFunction.freq_resp` method\n",
    "can be used.\n",
    "A typical use case is plotting the transfer function,\n",
    "which is discussed in the next section.\n",
    "\n",
    "## Magnitude and Bode plots\n",
    "\n",
    "It is known that if the input is chosen as\n",
    "{math}`u(t) = a e^{\\xi t} \\sin(\\omega t + \\varphi) e_j`\n",
    "(where {math}`e_j` is the {math}`j`-th canonical vector),\n",
    "then\n",
    "\n",
    "```{math}\n",
    "\\lim_{t \\to \\infty}\n",
    "\\left(\n",
    "  y_i(t)\n",
    "  - a \\lvert H_{ij}(\\xi + \\boldsymbol{\\imath} \\omega) \\rvert e^{\\xi t}\n",
    "  \\sin(\\omega t + \\varphi + \\arg(H_{ij}(\\xi + \\boldsymbol{\\imath} \\omega)))\n",
    "\\right)\n",
    "= 0.\n",
    "```\n",
    "\n",
    "In words, if the input is a pure exponential,\n",
    "the frequency is preserved in the output,\n",
    "the amplitude is multiplied by the amplitude of the transfer function, and\n",
    "the phase is shifted by the argument of the transfer function.\n",
    "In particular, if the input is sinusiodal, i.e., {math}`\\xi = 0`,\n",
    "then the output is also sinusiodal.\n",
    "\n",
    "It is of interest to plot the transfer function over the imaginary axis to\n",
    "visualize how the LTI system responds to each frequency in the input.\n",
    "Since the transfer function is complex-valued (and matrix-valued),\n",
    "there are multiple ways to plot it.\n",
    "\n",
    "One way is the \"magnitude plot\", a visualization of the mapping\n",
    "{math}`\\omega \\mapsto \\lVert H(\\boldsymbol{\\imath} \\omega) \\rVert`,\n",
    "using the {meth}`~pymor.models.transfer_function.TransferFunction.mag_plot`\n",
    "method."
   ]
  },
  {
   "cell_type": "code",
   "execution_count": null,
   "id": "e7253655",
   "metadata": {},
   "outputs": [],
   "source": [
    "w = np.logspace(-2, 8, 300)\n",
    "_ = fom.transfer_function.mag_plot(w)"
   ]
  },
  {
   "cell_type": "markdown",
   "id": "119a41e3",
   "metadata": {},
   "source": [
    "Note that {meth}`~pymor.models.transfer_function.TransferFunction.mag_plot`\n",
    "computes the Frobenius norm of {math}`H(\\boldsymbol{\\imath} \\omega)` by default,\n",
    "just as `scipy.linalg.norm`.\n",
    "Likewise, the choice of the norm {math}`\\lVert \\cdot \\rVert` can be controlled\n",
    "using the `ord` parameter.\n",
    "\n",
    "Another visualization is the Bode plot,\n",
    "which shows the magnitude and phase of each component of the transfer function.\n",
    "More specifically,\n",
    "{math}`\\omega \\mapsto \\lvert H_{ij}(\\boldsymbol{\\imath} \\omega) \\rvert`\n",
    "is in subplot {math}`(2 i - 1, j)` and\n",
    "{math}`\\omega \\mapsto \\arg(H_{ij}(\\boldsymbol{\\imath} \\omega))`\n",
    "is in subplot {math}`(2 i, j)`."
   ]
  },
  {
   "cell_type": "code",
   "execution_count": null,
   "id": "6178e3b0",
   "metadata": {},
   "outputs": [],
   "source": [
    "_ = fom.transfer_function.bode_plot(w)"
   ]
  },
  {
   "cell_type": "markdown",
   "id": "4be12814",
   "metadata": {},
   "source": [
    "## System poles\n",
    "\n",
    "The poles of an LTI system are the poles of its transfer function.\n",
    "From the form of the transfer function\n",
    "it follows that the poles are eigenvalues of {math}`E^{-1} A`,\n",
    "assuming that {math}`E` is invertible.\n",
    "Conversely, the eigenvalues of {math}`E^{-1} A` are the poles of the system\n",
    "in the generic case\n",
    "(more precisely, if the system is minimal, i.e., controllable and observable;\n",
    "see {cite}`A05`).\n",
    "\n",
    "The poles of an {{ LTIModel }} can be obtained using its\n",
    "{meth}`~pymor.models.iosys.LTIModel.poles` method\n",
    "(assuming the system is minimal)."
   ]
  },
  {
   "cell_type": "code",
   "execution_count": null,
   "id": "11250b83",
   "metadata": {},
   "outputs": [],
   "source": [
    "poles = fom.poles()\n",
    "fig, ax = plt.subplots()\n",
    "ax.plot(poles.real, poles.imag, '.')\n",
    "_ = ax.set_title('Poles')"
   ]
  },
  {
   "cell_type": "markdown",
   "id": "6bb772e7",
   "metadata": {},
   "source": [
    ":::{note}\n",
    "\n",
    "The {meth}`~pymor.models.iosys.LTIModel.poles` method uses a dense\n",
    "eigenvalue solver,\n",
    "which is applicable only up to medium-sized problems.\n",
    "\n",
    ":::\n",
    "\n",
    "## System Gramians\n",
    "\n",
    "The controllability and observability Gramians of an asymptotically stable\n",
    "system with invertible {math}`E` are respectively\n",
    "\n",
    "```{math}\n",
    "\\begin{align*}\n",
    "    P & =\n",
    "    \\int_0^\\infty\n",
    "    e^{t E^{-1} A} E^{-1} B\n",
    "    B^{\\operatorname{T}} E^{-\\!\\operatorname{T}}\n",
    "    e^{t A^{\\operatorname{T}} E^{-\\!\\operatorname{T}}}\n",
    "    \\operatorname{d}\\!t, \\text{ and} \\\\\n",
    "    E^{\\operatorname{T}} Q E & =\n",
    "    \\int_0^\\infty\n",
    "    e^{t A^{\\operatorname{T}} E^{-\\!\\operatorname{T}}}\n",
    "    C^{\\operatorname{T}} C\n",
    "    e^{t E^{-1} A}\n",
    "    \\operatorname{d}\\!t.\n",
    "\\end{align*}\n",
    "```\n",
    "\n",
    "From this,\n",
    "it is clear that {math}`P` and {math}`Q` are symmetric positive semidefinite.\n",
    "Furthermore,\n",
    "it can be shown that {math}`P` and {math}`Q` are solutions to Lyapunov equation\n",
    "\n",
    "```{math}\n",
    "\\begin{align*}\n",
    "    A P E^{\\operatorname{T}}\n",
    "    + E P A^{\\operatorname{T}}\n",
    "    + B B^{\\operatorname{T}}\n",
    "    & = 0, \\\\\n",
    "    A^{\\operatorname{T}} Q E\n",
    "    + E^{\\operatorname{T}} Q A\n",
    "    + C^{\\operatorname{T}} C\n",
    "    & = 0.\n",
    "\\end{align*}\n",
    "```\n",
    "\n",
    "The Gramians can be used to quantify how much does the input influence the state\n",
    "(controllability) and state the output (observability).\n",
    "This is used to motivate the balanced truncation method\n",
    "(see {doc}`tutorial_bt`).\n",
    "Also, they can be used to compute the {math}`\\mathcal{H}_2` norm (see below).\n",
    "\n",
    "To find the \"Gramians\" {math}`P` and {math}`Q` of an {{ LTIModel }},\n",
    "the {meth}`~pymor.models.iosys.LTIModel.gramian` method can be used.\n",
    "Although solutions to Lyapunov equations are generally dense matrices,\n",
    "they can be often be very well approximated by a low-rank matrix.\n",
    "With {meth}`~pymor.models.iosys.LTIModel.gramian`,\n",
    "it is possible to compute the dense solution or only the low-rank Cholesky\n",
    "factor.\n",
    "For example, the following computes the low-rank Cholesky factor of the\n",
    "controllability Gramian as a {{ VectorArray }}:"
   ]
  },
  {
   "cell_type": "code",
   "execution_count": null,
   "id": "430bb850",
   "metadata": {},
   "outputs": [],
   "source": [
    "fom.gramian('c_lrcf')"
   ]
  },
  {
   "cell_type": "markdown",
   "id": "35523d2d",
   "metadata": {},
   "source": [
    "## Hankel singular values\n",
    "\n",
    "The Hankel singular values of an LTI system are\n",
    "{math}`\\sigma_i = \\sqrt{\\lambda_i(E^{\\operatorname{T}} Q E P)}`,\n",
    "where {math}`\\lambda_i` is the {math}`i`-th eigenvalue.\n",
    "\n",
    "Plotting the Hankel singular values shows us how well an LTI system can be\n",
    "approximated by a reduced-order model.\n",
    "The {meth}`~pymor.models.iosys.LTIModel.hsv` method can be used to compute them."
   ]
  },
  {
   "cell_type": "code",
   "execution_count": null,
   "id": "70085e0e",
   "metadata": {},
   "outputs": [],
   "source": [
    "hsv = fom.hsv()\n",
    "fig, ax = plt.subplots()\n",
    "ax.semilogy(range(1, len(hsv) + 1), hsv, '.-')\n",
    "_ = ax.set_title('Hankel singular values')"
   ]
  },
  {
   "cell_type": "markdown",
   "id": "c8132440",
   "metadata": {},
   "source": [
    "As expected for a heat equation, the Hankel singular values decay rapidly.\n",
    "\n",
    "## System norms\n",
    "\n",
    "There are various system norms,\n",
    "used for quantifying the sensitivity of system's outputs to its inputs.\n",
    "pyMOR currently has methods for computing:\n",
    "the {math}`\\mathcal{H}_2` norm,\n",
    "the {math}`\\mathcal{H}_\\infty` norm, and\n",
    "the Hankel (semi)norm.\n",
    "\n",
    "The {math}`\\mathcal{H}_2` norm is\n",
    "(if {math}`E` is invertible,\n",
    "{math}`E^{-1} A` has eigenvalues in the open left half plane, and\n",
    "{math}`D` is zero)\n",
    "\n",
    "```{math}\n",
    "\\lVert H \\rVert_{\\mathcal{H}_2}\n",
    "=\n",
    "\\left(\n",
    "  \\frac{1}{2 \\pi}\n",
    "  \\int_{-\\infty}^{\\infty}\n",
    "  \\lVert H(\\boldsymbol{\\imath} \\omega) \\rVert_{\\operatorname{F}}^2\n",
    "  \\operatorname{d}\\!\\omega\n",
    "\\right)^{\\frac{1}{2}}.\n",
    "```\n",
    "\n",
    "It can be shown that\n",
    "\n",
    "```{math}\n",
    "\\lVert y \\rVert_{\\mathcal{L}_\\infty}\n",
    "\\leqslant\n",
    "\\lVert H \\rVert_{\\mathcal{H}_2}\n",
    "\\lVert u \\rVert_{\\mathcal{L}_2}.\n",
    "```\n",
    "\n",
    "Additionally, for systems with a single input or a single output\n",
    "(i.e., {math}`u(t) \\in \\mathbb{R}` or {math}`y(t) \\in \\mathbb{R}`),\n",
    "\n",
    "```{math}\n",
    "\\lVert H \\rVert_{\\mathcal{H}_2}\n",
    "=\n",
    "\\sup_{u \\neq 0}\n",
    "\\frac{\\lVert y \\rVert_{\\mathcal{L}_\\infty}}{\\lVert u \\rVert_{\\mathcal{L}_2}}.\n",
    "```\n",
    "\n",
    "The computation of the {math}`\\mathcal{H}_2` norm is based on the system\n",
    "Gramians\n",
    "\n",
    "```{math}\n",
    "\\lVert H \\rVert_{\\mathcal{H}_2}^2\n",
    "= \\operatorname{tr}\\!\\left(C P C^{\\operatorname{T}}\\right)\n",
    "= \\operatorname{tr}\\!\\left(B^{\\operatorname{T}} Q B\\right).\n",
    "```\n",
    "\n",
    "The {meth}`~pymor.models.iosys.LTIModel.h2_norm` method of an {{ LTIModel }} can be\n",
    "used to compute it."
   ]
  },
  {
   "cell_type": "code",
   "execution_count": null,
   "id": "e777b94e",
   "metadata": {},
   "outputs": [],
   "source": [
    "fom.h2_norm()"
   ]
  },
  {
   "cell_type": "markdown",
   "id": "28b03aab",
   "metadata": {},
   "source": [
    "The {math}`\\mathcal{H}_\\infty` norm is\n",
    "(if {math}`E` is invertible and\n",
    "{math}`E^{-1} A` has eigenvalues in the open left half plane)\n",
    "\n",
    "```{math}\n",
    "\\lVert H \\rVert_{\\mathcal{H}_\\infty}\n",
    "= \\sup_{\\omega \\in \\mathbb{R}}\n",
    "\\lVert H(\\boldsymbol{\\imath} \\omega) \\rVert_2.\n",
    "```\n",
    "\n",
    "It is always true that\n",
    "\n",
    "```{math}\n",
    "\\lVert H \\rVert_{\\mathcal{H}_\\infty}\n",
    "=\n",
    "\\sup_{u \\neq 0}\n",
    "\\frac{\\lVert y \\rVert_{\\mathcal{L}_2}}{\\lVert u \\rVert_{\\mathcal{L}_2}},\n",
    "```\n",
    "\n",
    "and, in particular,\n",
    "\n",
    "```{math}\n",
    "\\lVert y \\rVert_{\\mathcal{L}_2}\n",
    "\\leqslant\n",
    "\\lVert H \\rVert_{\\mathcal{H}_\\infty}\n",
    "\\lVert u \\rVert_{\\mathcal{L}_2}.\n",
    "```\n",
    "\n",
    "The {meth}`~pymor.models.iosys.LTIModel.hinf_norm` method uses a dense solver\n",
    "from [Slycot](<https://github.com/python-control/Slycot>) to compute the\n",
    "{math}`\\mathcal{H}_\\infty` norm."
   ]
  },
  {
   "cell_type": "code",
   "execution_count": null,
   "id": "44de0a65",
   "metadata": {},
   "outputs": [],
   "source": [
    "fom.hinf_norm()"
   ]
  },
  {
   "cell_type": "markdown",
   "id": "1f66a9a8",
   "metadata": {},
   "source": [
    "The Hankel norm is\n",
    "(if {math}`E` is invertible and\n",
    "{math}`E^{-1} A` has eigenvalues in the open left half plane)\n",
    "\n",
    "```{math}\n",
    "\\lVert H \\rVert_{\\operatorname{H}}\n",
    "= \\sigma_1,\n",
    "```\n",
    "\n",
    "i.e., the largest Hankel singular value.\n",
    "Since it is independent of {math}`D`,\n",
    "the \"Hankel norm\" is only a seminorm in general.\n",
    "\n",
    "It can be shown that the Hankel norm is the norm of the Hankel operator\n",
    "{math}`\\mathcal{H} \\colon \\mathcal{L}_2(-\\infty, 0) \\to \\mathcal{L}_2(0, \\infty)`\n",
    "mapping past inputs {math}`u_-` to future outputs {math}`y_+`\n",
    "\n",
    "```{math}\n",
    "y_+(t)\n",
    "= \\mathcal{H}(u_-)(t)\n",
    "= \\int_{-\\infty}^0 h(t - \\tau) u_-(\\tau) \\operatorname{d}\\!\\tau,\n",
    "```\n",
    "\n",
    "where {math}`h` is the impulse response\n",
    "{math}`h(t) = C e^{t E^{-1} A} E^{-1} B + D \\delta(t)`\n",
    "(i.e., {math}`H` is the Laplace transform of {math}`h`).\n",
    "Thus,\n",
    "\n",
    "```{math}\n",
    "\\lVert H \\rVert_{\\operatorname{H}}\n",
    "=\n",
    "\\sup_{u_- \\neq 0}\n",
    "\\frac{\\lVert y_+ \\rVert_{\\mathcal{L}_2}}{\\lVert u_- \\rVert_{\\mathcal{L}_2}},\n",
    "```\n",
    "\n",
    "The computation of the Hankel norm in\n",
    "{meth}`~pymor.models.iosys.LTIModel.hankel_norm` relies on the\n",
    "{meth}`~pymor.models.iosys.LTIModel.hsv` method."
   ]
  },
  {
   "cell_type": "code",
   "execution_count": null,
   "id": "e03d17ec",
   "metadata": {},
   "outputs": [],
   "source": [
    "fom.hankel_norm()"
   ]
  },
  {
   "cell_type": "markdown",
   "id": "50cf17c7",
   "metadata": {},
   "source": [
    "Download the code:\n",
    "{download}`tutorial_lti_systems.md`,\n",
    "{nb-download}`tutorial_lti_systems.ipynb`."
   ]
  }
 ],
 "metadata": {
  "jupyter": {
   "jupytext": {
    "cell_metadata_filter": "-all",
    "formats": "ipynb,myst",
    "main_language": "python",
    "text_representation": {
     "extension": ".md",
     "format_name": "myst",
     "format_version": "1.3",
     "jupytext_version": "1.11.2"
    }
   }
  },
  "kernelspec": {
   "display_name": "Python 3",
   "name": "python3"
  }
 },
 "nbformat": 4,
 "nbformat_minor": 5
}
