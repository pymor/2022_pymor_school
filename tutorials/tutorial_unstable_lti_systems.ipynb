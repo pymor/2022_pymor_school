{
 "cells": [
  {
   "cell_type": "markdown",
   "id": "b81d434a",
   "metadata": {},
   "source": [
    "```{try_on_binder}\n",
    "```"
   ]
  },
  {
   "cell_type": "code",
   "execution_count": null,
   "id": "edf11312",
   "metadata": {
    "load": "myst_code_init.py",
    "tags": [
     "remove-cell"
    ]
   },
   "outputs": [],
   "source": []
  },
  {
   "cell_type": "markdown",
   "id": "4586d9cf",
   "metadata": {},
   "source": [
    "# Tutorial: Model order reduction for unstable LTI systems\n",
    "\n",
    "In {doc}`tutorial_lti_systems` we introduced LTI systems of the form\n",
    "\n",
    "```{math}\n",
    "\\begin{align}\n",
    "    E \\dot{x}(t) & = A x(t) + B u(t), \\\\\n",
    "    y(t) & = C x(t) + D u(t).\n",
    "\\end{align}\n",
    "```\n",
    "\n",
    "If the system is asymptotically stable, i.e., all eigenvalues of the\n",
    "matrix pair {math}`(A, E)` lie in the open left half plane, methods like\n",
    "balanced truncation (see {doc}`tutorial_bt`) can be used for model\n",
    "order reduction. Asymptotic stability of the LTI system is a crucial\n",
    "assumption for balanced truncation because the observability and\n",
    "controllability Gramians are not defined if the matrix pair {math}`(A, E)` has\n",
    "eigenvalues with a positive real part (in this case we call the LTI system\n",
    "unstable). Additionally, commonly used system norms like the\n",
    "{math}`\\mathcal{H}_2` norm, the {math}`\\mathcal{H}_\\infty` norm, and\n",
    "the Hankel (semi)norm are not defined for unstable LTI systems.\n",
    "\n",
    "In this tutorial we show how unstable LTI systems with an invertible\n",
    "{math}`E` matrix can be reduced using pyMOR.\n",
    "\n",
    "## An unstable model\n",
    "\n",
    "We consider the following one-dimensional heat equation over {math}`(0, 1)` with\n",
    "one input {math}`u(t)` and one output {math}`y(t)`:\n",
    "\n",
    "```{math}\n",
    "\\begin{align}\n",
    "    \\partial_t T(\\xi, t) & = \\partial_{\\xi \\xi} T(\\xi, t) + \\lambda T(\\xi, t),\n",
    "    & 0 < \\xi < 1,\\ t > 0, \\\\\n",
    "    -\\partial_\\xi T(0, t) & = -T(0, t) + u(t),\n",
    "    & t > 0, \\\\\n",
    "    \\partial_\\xi T(1, t) & = -T(1, t),\n",
    "    & t > 0, \\\\\n",
    "    y(t) & = T(1, t),\n",
    "    & t > 0.\n",
    "\\end{align}\n",
    "```\n",
    "\n",
    "Depending on the choice of the parameter {math}`\\lambda` the discretization of\n",
    "the above partial differential equation is an unstable LTI system. In order to\n",
    "build the {{ LTIModel }} we follow the lines of {doc}`tutorial_lti_systems`.\n",
    "\n",
    "First, we do the necessary imports and some matplotlib style choices."
   ]
  },
  {
   "cell_type": "code",
   "execution_count": null,
   "id": "fddb7a17",
   "metadata": {},
   "outputs": [],
   "source": [
    "import matplotlib.pyplot as plt\n",
    "import numpy as np\n",
    "import scipy.sparse as sps\n",
    "from pymor.models.iosys import LTIModel\n",
    "\n",
    "plt.rcParams['axes.grid'] = True"
   ]
  },
  {
   "cell_type": "markdown",
   "id": "66d27e6a",
   "metadata": {},
   "source": [
    "Next, we can assemble the matrices based on a centered finite difference\n",
    "approximation using standard methods of NumPy and SciPy. Here we use\n",
    "{math}`\\lambda = 50`."
   ]
  },
  {
   "cell_type": "code",
   "execution_count": null,
   "id": "01a8ca6f",
   "metadata": {
    "load": "unstable_heat_equation.py"
   },
   "outputs": [],
   "source": []
  },
  {
   "cell_type": "markdown",
   "id": "543ba804",
   "metadata": {},
   "source": [
    "Then, we can create an {{ LTIModel }} from NumPy and SciPy matrices `A`, `B`, `C`,\n",
    "`E`."
   ]
  },
  {
   "cell_type": "code",
   "execution_count": null,
   "id": "bd52b044",
   "metadata": {},
   "outputs": [],
   "source": [
    "fom = LTIModel.from_matrices(A, B, C, E=E)"
   ]
  },
  {
   "cell_type": "markdown",
   "id": "029fb390",
   "metadata": {},
   "source": [
    "First, let's check whether our system is indeed unstable. For this, we can use the\n",
    "method {meth}`~pymor.models.iosys.LTIModel.get_ast_spectrum`, which will\n",
    "compute the subset of system poles with a positive real part and the corresponding\n",
    "eigenvectors as well."
   ]
  },
  {
   "cell_type": "code",
   "execution_count": null,
   "id": "e368a0a7",
   "metadata": {},
   "outputs": [],
   "source": [
    "ast_spectrum = fom.get_ast_spectrum()\n",
    "print(ast_spectrum[1])"
   ]
  },
  {
   "cell_type": "markdown",
   "id": "e45db81e",
   "metadata": {},
   "source": [
    "In the code snippet above, all eigenvalues of the matrix pair {math}`(A, E)` are\n",
    "computed using dense methods. This works well for systems with a small state space\n",
    "dimension. For large-scale systems it is wiser to rely on iterative methods for\n",
    "computing eigenvalues. The code below computes 10 system poles which are\n",
    "close to 0 using pyMOR's iterative eigensolver and filters the result for\n",
    "values with a positive real part."
   ]
  },
  {
   "cell_type": "code",
   "execution_count": null,
   "id": "1d4392ee",
   "metadata": {},
   "outputs": [],
   "source": [
    "ast_spectrum = fom.get_ast_spectrum(ast_pole_data={'k': 10, 'sigma': 0})\n",
    "print(ast_spectrum[1])"
   ]
  },
  {
   "cell_type": "markdown",
   "id": "5fdd2253",
   "metadata": {},
   "source": [
    "## Frequency domain balanced truncation\n",
    "\n",
    "The observability and controllability Gramians (defined in the time-domain)\n",
    "introduced in {doc}`tutorial_lti_systems` do not exist for unstable systems.\n",
    "However, the frequency domain representations of these Gramians are defined for\n",
    "systems with no poles on the imaginary axis. Hence, for most unstable systems we\n",
    "can follow a similar approach to the one from {doc}`tutorial_bt` but using the\n",
    "frequency domain representations of the controllability and observability Gramians\n",
    "\n",
    "```{math}\n",
    "\\begin{align*}\n",
    "    P & =\n",
    "    \\frac{1}{2 \\pi} \\int_{-\\infty}^\\infty\n",
    "    (\\imath \\omega E - A)^{-1}\n",
    "    B B^{\\operatorname{T}}\n",
    "    (-\\imath \\omega E^{\\operatorname{T}} - A^{\\operatorname{T}})^{-1}\n",
    "    \\operatorname{d}\\!\\omega, \\text{ and} \\\\\n",
    "    E^{\\operatorname{T}} Q E & =\n",
    "    \\frac{1}{2 \\pi} E^{\\operatorname{T}} \\int_{-\\infty}^\\infty\n",
    "    (-\\imath \\omega E^{\\operatorname{T}} - A^{\\operatorname{T}})^{-1}\n",
    "    C^{\\operatorname{T}} C\n",
    "    (\\imath \\omega E - A)^{-1}\n",
    "    \\operatorname{d}\\!\\omega\\, E.\n",
    "\\end{align*}\n",
    "```\n",
    "\n",
    "Again, two Lyapunov equations have to be solved in order to obtain these Gramians.\n",
    "Additionally, it is necessary to perform a Bernoulli stabilization of the system\n",
    "matrices before solving the matrix equations. Both of these steps are done internally\n",
    "by the {class}`~pymor.reductors.bt.FDBTReductor`.\n",
    "\n",
    "Let us start with initializing a reductor object"
   ]
  },
  {
   "cell_type": "code",
   "execution_count": null,
   "id": "a97f7a85",
   "metadata": {},
   "outputs": [],
   "source": [
    "from pymor.reductors.bt import FDBTReductor\n",
    "fdbt = FDBTReductor(fom, ast_pole_data={'k': 10, 'sigma': 0})"
   ]
  },
  {
   "cell_type": "markdown",
   "id": "c81c52e6",
   "metadata": {},
   "source": [
    "In order to perform a Bernoulli stabilization, knowledge about the anti-stable\n",
    "subset of system poles is required. With the `ast_pole_data` argument we can provide\n",
    "information about the system poles to the reductor (i.e. list of anti-stable\n",
    "eigenvalues with or without corresponding eigenvectors) or specify how eigenvalues\n",
    "should be computed (i.e. `None` for computing all eigenvalues using dense methods\n",
    "or arguments for pyMOR's iterative eigensolver like in the code above).\n",
    "\n",
    "Before we use the {meth}`~pymor.reductors.bt.FDBTReductor.reduce` method to\n",
    "obtain a reduced-order model, we take a look at some a priori error bounds for\n",
    "the reductor. In particular, we get a {math}`\\mathcal{L}_\\infty` rather than the\n",
    "{math}`\\mathcal{H}_\\infty` error bound from classic balanced truncation."
   ]
  },
  {
   "cell_type": "code",
   "execution_count": null,
   "id": "cab49508",
   "metadata": {},
   "outputs": [],
   "source": [
    "error_bounds = fdbt.error_bounds()\n",
    "fig, ax = plt.subplots()\n",
    "ax.semilogy(range(1, len(error_bounds) + 1), error_bounds, '.-')\n",
    "ax.set_xlabel('Reduced order')\n",
    "_ = ax.set_title(r'$\\mathcal{L}_\\infty$ error bounds')"
   ]
  },
  {
   "cell_type": "markdown",
   "id": "14195e09",
   "metadata": {},
   "source": [
    "To get a reduced-order model of order 10, we call the `reduce` method with the\n",
    "appropriate argument:"
   ]
  },
  {
   "cell_type": "code",
   "execution_count": null,
   "id": "0f4f9a0b",
   "metadata": {},
   "outputs": [],
   "source": [
    "rom = fdbt.reduce(10)"
   ]
  },
  {
   "cell_type": "markdown",
   "id": "b62566a1",
   "metadata": {},
   "source": [
    "Alternatively, we can specify a desired error tolerance rather than the order\n",
    "of the reduced model.\n",
    "\n",
    "Finally, we can compute the relative {math}`\\mathcal{L}_\\infty` error to check\n",
    "the quality of the reduced-order model."
   ]
  },
  {
   "cell_type": "code",
   "execution_count": null,
   "id": "be8237fe",
   "metadata": {},
   "outputs": [],
   "source": [
    "err = fom - rom\n",
    "print(f'Relative Linf error:   {err.linf_norm() / fom.linf_norm():.3e}')"
   ]
  },
  {
   "cell_type": "markdown",
   "id": "153abf7a",
   "metadata": {},
   "source": [
    "Clearly, this result is in accordance with our previously computed\n",
    "{math}`\\mathcal{L}_\\infty` error bound:"
   ]
  },
  {
   "cell_type": "code",
   "execution_count": null,
   "id": "f7d6efd8",
   "metadata": {},
   "outputs": [],
   "source": [
    "print(f'Linf error:   {err.linf_norm():.3e}')\n",
    "print(f'Linf upper bound:   {error_bounds[9]:.3e}')"
   ]
  },
  {
   "cell_type": "markdown",
   "id": "ff2fd1e1",
   "metadata": {},
   "source": [
    "## Gap-IRKA\n",
    "\n",
    "The {class}`~pymor.reductors.h2.IRKAReductor` is specifically designed to find\n",
    "{math}`\\mathcal{H}_2`-optimal reduced-order models (see e.g. {cite}`GAB08`).\n",
    "Since we cannot compute {math}`\\mathcal{H}_2`-norms for unstable systems,\n",
    "we can not expect the IRKA to yield high-quality approximations for unstable\n",
    "full-order models.\n",
    "In {cite}`BBG19` the authors introduce a variant of the IRKA (the Gap-IRKA) which\n",
    "is based on the {math}`\\mathcal{H}_2`-gap-norm.\n",
    "As desired, this norm is defined for most unstable systems which makes the\n",
    "Gap-IRKA a suitable algorithm for finding reduced-order models for unstable systems.\n",
    "\n",
    "One major advantage of the {class}`~pymor.reductors.h2.GapIRKAReductor` over the\n",
    "{class}`~pymor.reductors.bt.FDBTReductor` is that\n",
    "no a priori information about the system poles is required. However, we do not\n",
    "obtain an a priori {math}`\\mathcal{L}_\\infty` error bound. Let us compute a\n",
    "reduced-order model of order 10 using the {class}`~pymor.reductors.h2.GapIRKAReductor`."
   ]
  },
  {
   "cell_type": "code",
   "execution_count": null,
   "id": "c6ed4d88",
   "metadata": {},
   "outputs": [],
   "source": [
    "from pymor.reductors.h2 import GapIRKAReductor\n",
    "gapirka = GapIRKAReductor(fom)\n",
    "rom = gapirka.reduce(10)"
   ]
  },
  {
   "cell_type": "markdown",
   "id": "14232ef2",
   "metadata": {},
   "source": [
    "Beside the desired order of the reduced model, the `reduce` method has a few\n",
    "other arguments as well: `conv_crit` allows for choosing the stopping criterion\n",
    "of the algorithm. By specifying `conv_crit='sigma'` the relative change in\n",
    "interpolation points, `conv_crit='htwogap'` the relative change in\n",
    "{math}`\\mathcal{H}_2`-gap distance of the reduced-order models and `conv_crit='ltwo'` the\n",
    "relative change of {math}`\\mathcal{L}_2` distances of the reduced-order models are\n",
    "used as a stopping criterion. The `tol` argument sets the tolerance for\n",
    "any of the chosen stopping criterion.\n",
    "\n",
    "Again, we can compute the relative {math}`\\mathcal{L}_\\infty` error."
   ]
  },
  {
   "cell_type": "code",
   "execution_count": null,
   "id": "a02bad3b",
   "metadata": {},
   "outputs": [],
   "source": [
    "err = fom - rom\n",
    "print(f'Relative Linf error:   {err.linf_norm() / fom.linf_norm():.3e}')"
   ]
  },
  {
   "cell_type": "markdown",
   "id": "41485478",
   "metadata": {},
   "source": [
    "Download the code:\n",
    "{download}`tutorial_unstable_lti_systems.md`,\n",
    "{nb-download}`tutorial_unstable_lti_systems.ipynb`."
   ]
  }
 ],
 "metadata": {
  "jupyter": {
   "jupytext": {
    "cell_metadata_filter": "-all",
    "formats": "ipynb,myst",
    "main_language": "python",
    "text_representation": {
     "extension": ".md",
     "format_name": "myst",
     "format_version": "1.3",
     "jupytext_version": "1.11.2"
    }
   }
  },
  "kernelspec": {
   "display_name": "Python 3",
   "name": "python3"
  }
 },
 "nbformat": 4,
 "nbformat_minor": 5
}
