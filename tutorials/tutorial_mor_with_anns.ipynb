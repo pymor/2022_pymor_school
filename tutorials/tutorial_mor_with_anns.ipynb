{
 "cells": [
  {
   "cell_type": "markdown",
   "id": "29c1bbc3",
   "metadata": {},
   "source": [
    "```{try_on_binder}\n",
    "```"
   ]
  },
  {
   "cell_type": "code",
   "execution_count": null,
   "id": "23cc34ae",
   "metadata": {
    "load": "myst_code_init.py",
    "tags": [
     "remove-cell"
    ]
   },
   "outputs": [],
   "source": []
  },
  {
   "cell_type": "markdown",
   "id": "e75a2c11",
   "metadata": {},
   "source": [
    "# Tutorial: Model order reduction with artificial neural networks\n",
    "\n",
    "Recent success of artificial neural networks led to the development of several\n",
    "methods for model order reduction using neural networks. pyMOR provides the\n",
    "functionality for a simple approach developed by Hesthaven and Ubbiali in {cite}`HU18`.\n",
    "For training and evaluation of the neural networks, [PyTorch](<https://pytorch.org>) is used.\n",
    "\n",
    "In this tutorial we will learn about feedforward neural networks, the basic\n",
    "idea of the approach by Hesthaven et al., and how to use it in pyMOR.\n",
    "\n",
    "## Feedforward neural networks\n",
    "\n",
    "We aim at approximating a mapping {math}`h\\colon\\mathcal{P}\\rightarrow Y`\n",
    "between some input space {math}`\\mathcal{P}\\subset\\mathbb{R}^p` (in our case the\n",
    "parameter space) and an output space {math}`Y\\subset\\mathbb{R}^m` (in our case the\n",
    "reduced space), given a set {math}`S=\\{(\\mu_i,h(\\mu_i))\\in\\mathcal{P}\\times Y: i=1,\\dots,N\\}`\n",
    "of samples, by means of an artificial neural network. In this context, neural\n",
    "networks serve as a special class of functions that are able to \"learn\" the\n",
    "underlying structure of the sample set {math}`S` by adjusting their weights.\n",
    "More precisely, feedforward neural networks consist of several layers, each\n",
    "comprising a set of neurons that are connected to neurons in adjacent layers.\n",
    "A so called \"weight\" is assigned to each of those connections. The weights in\n",
    "the neural network can be adjusted while fitting the neural network to the\n",
    "given sample set. For a given input {math}`\\mu\\in\\mathcal{P}`, the weights between the\n",
    "input layer and the first hidden layer (the one after the input layer) are\n",
    "multiplied with the respective values in {math}`\\mu` and summed up. Subsequently,\n",
    "a so called \"bias\" (also adjustable during training) is added and the result is\n",
    "assigned to the corresponding neuron in the first hidden layer. Before passing\n",
    "those values to the following layer, a (non-linear) activation function\n",
    "{math}`\\rho\\colon\\mathbb{R}\\rightarrow\\mathbb{R}` is applied. If {math}`\\rho`\n",
    "is linear, the function implemented by the neural network is affine, since\n",
    "solely affine operations were performed. Hence, one usually chooses a\n",
    "non-linear activation function to introduce non-linearity in the neural network\n",
    "and thus increase its approximation capability. In some sense, the input\n",
    "{math}`\\mu` is passed through the neural network, affine-linearly combined with the\n",
    "other inputs and non-linearly transformed. These steps are repeated in several\n",
    "layers.\n",
    "\n",
    "The following figure shows a simple example of a neural network with two hidden\n",
    "layers, an input size of two and an output size of three. Each edge between\n",
    "neurons has a corresponding weight that is learnable in the training phase.\n",
    "\n",
    "```{image} neural_network.png\n",
    "\n",
    "```\n",
    "\n",
    "To train the neural network, one considers a so called \"loss function\", that\n",
    "measures how the neural network performs on the training set {math}`S`, i.e.\n",
    "how accurately the neural network reproduces the output {math}`h(\\mu_i)` given\n",
    "the input {math}`\\mu_i`. The weights of the neural network are adjusted\n",
    "iteratively such that the loss function is successively minimized. To this end,\n",
    "one typically uses a Quasi-Newton method for small neural networks or a\n",
    "(stochastic) gradient descent method for deep neural networks (those with many\n",
    "hidden layers).\n",
    "\n",
    "A possibility to use feedforward neural networks in combination with reduced\n",
    "basis methods will be introduced in the following section.\n",
    "\n",
    "## A non-intrusive reduced order method using artificial neural networks\n",
    "\n",
    "We now assume that we are given a parametric pyMOR {{ Model }} for which we want\n",
    "to compute a reduced order surrogate {{ Model }} using a neural network. In this\n",
    "example, we consider the following two-dimensional diffusion problem with\n",
    "parametrized diffusion, right hand side and Dirichlet boundary condition:\n",
    "\n",
    "```{math}\n",
    "-\\nabla \\cdot \\big(\\sigma(x, \\mu) \\nabla u(x, \\mu) \\big) = f(x, \\mu),\\quad x=(x_1,x_2) \\in \\Omega,\n",
    "```\n",
    "\n",
    "on the domain {math}`\\Omega:= (0, 1)^2 \\subset \\mathbb{R}^2` with data\n",
    "functions {math}`f((x_1, x_2), \\mu) = 10 \\cdot \\mu + 0.1`,\n",
    "{math}`\\sigma((x_1, x_2), \\mu) = (1 - x_1) \\cdot \\mu + x_1`, where\n",
    "{math}`\\mu \\in (0.1, 1)` denotes the parameter. Further, we apply the\n",
    "Dirichlet boundary conditions\n",
    "\n",
    "```{math}\n",
    "u((x_1, x_2), \\mu) = 2x_1\\mu + 0.5,\\quad x=(x_1, x_2) \\in \\partial\\Omega.\n",
    "```\n",
    "\n",
    "We discretize the problem using pyMOR's builtin discretization toolkit as\n",
    "explained in {doc}`tutorial_builtin_discretizer`:"
   ]
  },
  {
   "cell_type": "code",
   "execution_count": null,
   "id": "131bb5ee",
   "metadata": {},
   "outputs": [],
   "source": [
    "from pymor.basic import *\n",
    "\n",
    "problem = StationaryProblem(\n",
    "      domain=RectDomain(),\n",
    "\n",
    "      rhs=LincombFunction(\n",
    "          [ExpressionFunction('10', 2), ConstantFunction(1., 2)],\n",
    "          [ProjectionParameterFunctional('mu'), 0.1]),\n",
    "\n",
    "      diffusion=LincombFunction(\n",
    "          [ExpressionFunction('1 - x[0]', 2), ExpressionFunction('x[0]', 2)],\n",
    "          [ProjectionParameterFunctional('mu'), 1]),\n",
    "\n",
    "      dirichlet_data=LincombFunction(\n",
    "          [ExpressionFunction('2 * x[0]', 2), ConstantFunction(1., 2)],\n",
    "          [ProjectionParameterFunctional('mu'), 0.5]),\n",
    "\n",
    "      name='2DProblem'\n",
    "  )\n",
    "\n",
    "fom, _ = discretize_stationary_cg(problem, diameter=1/50)"
   ]
  },
  {
   "cell_type": "markdown",
   "id": "14c2ec7d",
   "metadata": {},
   "source": [
    "Since we employ a single {{ Parameter }}, and thus use the same range for each\n",
    "parameter, we can create the {{ ParameterSpace }} using the following line:"
   ]
  },
  {
   "cell_type": "code",
   "execution_count": null,
   "id": "a65fc0f7",
   "metadata": {},
   "outputs": [],
   "source": [
    "parameter_space = fom.parameters.space((0.1, 1))"
   ]
  },
  {
   "cell_type": "markdown",
   "id": "071f5e04",
   "metadata": {},
   "source": [
    "The main idea of the approach by Hesthaven et al. is to approximate the mapping\n",
    "from the {{ Parameters }} to the coefficients of the respective solution in a\n",
    "reduced basis by means of a neural network. Thus, in the online phase, one\n",
    "performs a forward pass of the {{ Parameters }} through the neural networks and\n",
    "obtains the approximated reduced coordinates. To derive the corresponding\n",
    "high-fidelity solution, one can further use the reduced basis and compute the\n",
    "linear combination defined by the reduced coefficients. The reduced basis is\n",
    "created via POD.\n",
    "\n",
    "The method described above is \"non-intrusive\", which means that no deep insight\n",
    "into the model or its implementation is required and it is completely\n",
    "sufficient to be able to generate full order snapshots for a randomly chosen\n",
    "set of parameters. This is one of the main advantages of the proposed approach,\n",
    "since one can simply train a neural network, check its performance and resort\n",
    "to a different method if the neural network does not provide proper\n",
    "approximation results.\n",
    "\n",
    "In pyMOR, there exists a training routine for feedforward neural networks. This\n",
    "procedure is part of a reductor and it is not necessary to write a custom\n",
    "training algorithm for each specific problem. However, it is sometimes\n",
    "necessary to try different architectures for the neural network to find the one\n",
    "that best fits the problem at hand. In the reductor, one can easily adjust the\n",
    "number of layers and the number of neurons in each hidden layer, for instance.\n",
    "Furthermore, it is also possible to change the deployed activation function.\n",
    "\n",
    "To train the neural network, we create a training and a validation set\n",
    "consisting of 100 and 20 randomly chosen {{ parameter_values }}, respectively:"
   ]
  },
  {
   "cell_type": "code",
   "execution_count": null,
   "id": "978ae720",
   "metadata": {},
   "outputs": [],
   "source": [
    "  training_set = parameter_space.sample_uniformly(100)\n",
    "  validation_set = parameter_space.sample_randomly(20)"
   ]
  },
  {
   "cell_type": "markdown",
   "id": "2486a210",
   "metadata": {},
   "source": [
    "In this tutorial, we construct the reduced basis such that no more modes than\n",
    "required to bound the l2-approximation error by a given value are used.\n",
    "The l2-approximation error is  the error of the orthogonal projection (in the\n",
    "l2-sense) of the training snapshots onto the reduced basis. That is, we\n",
    "prescribe `l2_err` in the reductor. It is also possible to determine a relative\n",
    "or absolute tolerance (in the singular values) that should not be exceeded on\n",
    "the training set. Further, one can preset the size of the reduced basis.\n",
    "\n",
    "The training is aborted when a neural network that guarantees our prescribed\n",
    "tolerance is found. If we set `ann_mse` to `None`, this function will\n",
    "automatically train several neural networks with different initial weights and\n",
    "select the one leading to the best results on the validation set. We can also\n",
    "set `ann_mse` to `'like_basis'`. Then, the algorithm tries to train a neural\n",
    "network that leads to a mean squared error on the training set that is as small\n",
    "as the error of the reduced basis. If the maximal number of restarts is reached\n",
    "without finding a network that fulfills the tolerances, an exception is raised.\n",
    "In such a case, one could try to change the architecture of the neural network\n",
    "or switch to `ann_mse=None` which is guaranteed to produce a reduced order\n",
    "model (perhaps with insufficient approximation properties).\n",
    "\n",
    "We can now construct a reductor with prescribed error for the basis and mean\n",
    "squared error of the neural network:"
   ]
  },
  {
   "cell_type": "code",
   "execution_count": null,
   "id": "2790bdf1",
   "metadata": {},
   "outputs": [],
   "source": [
    "from pymor.reductors.neural_network import NeuralNetworkReductor\n",
    "\n",
    "reductor = NeuralNetworkReductor(fom,\n",
    "                                 training_set,\n",
    "                                 validation_set,\n",
    "                                 l2_err=1e-5,\n",
    "                                 ann_mse=1e-5)"
   ]
  },
  {
   "cell_type": "markdown",
   "id": "47c02181",
   "metadata": {},
   "source": [
    "To reduce the model, i.e. compute a reduced basis via POD and train the neural\n",
    "network, we use the respective function of the\n",
    "{class}`~pymor.reductors.neural_network.NeuralNetworkReductor`:"
   ]
  },
  {
   "cell_type": "code",
   "execution_count": null,
   "id": "d433a8f8",
   "metadata": {},
   "outputs": [],
   "source": [
    "rom = reductor.reduce(restarts=100)"
   ]
  },
  {
   "cell_type": "markdown",
   "id": "a9f7de38",
   "metadata": {},
   "source": [
    "We are now ready to test our reduced model by solving for a random parameter value\n",
    "the full problem and the reduced model and visualize the result:"
   ]
  },
  {
   "cell_type": "code",
   "execution_count": null,
   "id": "d9d189e6",
   "metadata": {},
   "outputs": [],
   "source": [
    "mu = parameter_space.sample_randomly()\n",
    "\n",
    "U = fom.solve(mu)\n",
    "U_red = rom.solve(mu)\n",
    "U_red_recon = reductor.reconstruct(U_red)\n",
    "\n",
    "fom.visualize((U, U_red_recon),\n",
    "              legend=(f'Full solution for parameter {mu}', f'Reduced solution for parameter {mu}'))"
   ]
  },
  {
   "cell_type": "markdown",
   "id": "6a927b18",
   "metadata": {},
   "source": [
    "Finally, we measure the error of our neural network and the performance\n",
    "compared to the solution of the full order problem on a training set. To this\n",
    "end, we sample randomly some {{ parameter_values }} from our {{ ParameterSpace }}:"
   ]
  },
  {
   "cell_type": "code",
   "execution_count": null,
   "id": "e436adde",
   "metadata": {},
   "outputs": [],
   "source": [
    "test_set = parameter_space.sample_randomly(10)"
   ]
  },
  {
   "cell_type": "markdown",
   "id": "f52d9978",
   "metadata": {},
   "source": [
    "Next, we create empty solution arrays for the full and reduced solutions and an\n",
    "empty list for the speedups:"
   ]
  },
  {
   "cell_type": "code",
   "execution_count": null,
   "id": "b6f5330e",
   "metadata": {},
   "outputs": [],
   "source": [
    "U = fom.solution_space.empty(reserve=len(test_set))\n",
    "U_red = fom.solution_space.empty(reserve=len(test_set))\n",
    "\n",
    "speedups = []"
   ]
  },
  {
   "cell_type": "markdown",
   "id": "ea0f343c",
   "metadata": {},
   "source": [
    "Now, we iterate over the test set, compute full and reduced solutions to the\n",
    "respective parameters and measure the speedup:"
   ]
  },
  {
   "cell_type": "code",
   "execution_count": null,
   "id": "2d27cd2c",
   "metadata": {},
   "outputs": [],
   "source": [
    "import time\n",
    "\n",
    "for mu in test_set:\n",
    "    tic = time.perf_counter()\n",
    "    U.append(fom.solve(mu))\n",
    "    time_fom = time.perf_counter() - tic\n",
    "\n",
    "    tic = time.perf_counter()\n",
    "    U_red.append(reductor.reconstruct(rom.solve(mu)))\n",
    "    time_red = time.perf_counter() - tic\n",
    "\n",
    "    speedups.append(time_fom / time_red)"
   ]
  },
  {
   "cell_type": "markdown",
   "id": "408eb8c6",
   "metadata": {},
   "source": [
    "We can now derive the absolute and relative errors on the training set as"
   ]
  },
  {
   "cell_type": "code",
   "execution_count": null,
   "id": "2dc3f623",
   "metadata": {},
   "outputs": [],
   "source": [
    "absolute_errors = (U - U_red).norm()\n",
    "relative_errors = (U - U_red).norm() / U.norm()"
   ]
  },
  {
   "cell_type": "markdown",
   "id": "3c10655c",
   "metadata": {},
   "source": [
    "The average absolute error amounts to"
   ]
  },
  {
   "cell_type": "code",
   "execution_count": null,
   "id": "967bf034",
   "metadata": {},
   "outputs": [],
   "source": [
    "import numpy as np\n",
    "\n",
    "np.average(absolute_errors)"
   ]
  },
  {
   "cell_type": "markdown",
   "id": "0050f552",
   "metadata": {},
   "source": [
    "On the other hand, the average relative error is"
   ]
  },
  {
   "cell_type": "code",
   "execution_count": null,
   "id": "fa7f630f",
   "metadata": {},
   "outputs": [],
   "source": [
    "np.average(relative_errors)"
   ]
  },
  {
   "cell_type": "markdown",
   "id": "0e5389e7",
   "metadata": {},
   "source": [
    "Using neural networks results in the following median speedup compared to\n",
    "solving the full order problem:"
   ]
  },
  {
   "cell_type": "code",
   "execution_count": null,
   "id": "f957ab02",
   "metadata": {},
   "outputs": [],
   "source": [
    "np.median(speedups)"
   ]
  },
  {
   "cell_type": "markdown",
   "id": "9187834e",
   "metadata": {},
   "source": [
    "Since {class}`~pymor.reductors.neural_network.NeuralNetworkReductor` only calls\n",
    "the {meth}`~pymor.models.interface.Model.solve` method of the {{ Model }}, it can easily\n",
    "be applied to {{ Models }} originating from external solvers, without requiring any access to\n",
    "{{ Operators }} internal to the solver.\n",
    "\n",
    "Direct approximation of output quantities\n",
    "-----------------------------------------\n",
    "\n",
    "Thus far, we were mainly interested in approximating the solution state\n",
    "{math}`u(\\mu)\\equiv u(\\cdot,\\mu)` for some parameter {math}`\\mu`. If we consider an output\n",
    "functional {math}`\\mathcal{J}(\\mu):= J(u(\\mu), \\mu)`, one can use the reduced solution\n",
    "{math}`u_N(\\mu)` for computing the output as {math}`\\mathcal{J}(\\mu)\\approx J(u_N(\\mu),\\mu)`.\n",
    "However, when dealing with neural networks, one could also think about directly learning the\n",
    "mapping from parameter to output. That is, one can use a neural network to approximate\n",
    "{math}`\\mathcal{J}\\colon\\mathcal{P}\\to\\mathbb{R}^q`, where {math}`q\\in\\mathbb{N}` denotes\n",
    "the output dimension.\n",
    "\n",
    "In the following, we will extend our problem from the last section by an output functional\n",
    "and use the {class}`~pymor.reductors.neural_network.NeuralNetworkStatefreeOutputReductor` to\n",
    "derive a reduced model that can solely be used to solve for the output quantity without\n",
    "computing a reduced state at all.\n",
    "\n",
    "For the definition of the output, we define the output of out problem as the l2-product of the\n",
    "solution with the right hand side respectively Dirichlet boundary data of our original problem:"
   ]
  },
  {
   "cell_type": "code",
   "execution_count": null,
   "id": "fd2e17a5",
   "metadata": {},
   "outputs": [],
   "source": [
    "problem = problem.with_(outputs=[('l2', problem.rhs), ('l2_boundary', problem.dirichlet_data)])"
   ]
  },
  {
   "cell_type": "markdown",
   "id": "9fa10cc8",
   "metadata": {},
   "source": [
    "Consequently, the output dimension is {math}`q=2`. After adjusting the problem definition,\n",
    "we also have to update the full order model to be aware of the output quantities:"
   ]
  },
  {
   "cell_type": "code",
   "execution_count": null,
   "id": "1dfbda2f",
   "metadata": {},
   "outputs": [],
   "source": [
    "fom, _ = discretize_stationary_cg(problem, diameter=1/50)"
   ]
  },
  {
   "cell_type": "markdown",
   "id": "dc3317a5",
   "metadata": {},
   "source": [
    "We can now import the {class}`~pymor.reductors.neural_network.NeuralNetworkStatefreeOutputReductor`\n",
    "and initialize the reductor using the same data as before:"
   ]
  },
  {
   "cell_type": "code",
   "execution_count": null,
   "id": "c68ed6cc",
   "metadata": {},
   "outputs": [],
   "source": [
    "from pymor.reductors.neural_network import NeuralNetworkStatefreeOutputReductor\n",
    "\n",
    "output_reductor = NeuralNetworkStatefreeOutputReductor(fom,\n",
    "                                                       training_set,\n",
    "                                                       validation_set,\n",
    "                                                       validation_loss=1e-5)"
   ]
  },
  {
   "cell_type": "markdown",
   "id": "f7b9e53b",
   "metadata": {},
   "source": [
    "Similar to the `NeuralNetworkReductor`, we can call `reduce` to obtain a reduced order model.\n",
    "In this case, `reduce` trains a neural network to approximate the mapping from parameter to\n",
    "output directly. Therefore, we can only use the resulting reductor to solve for the outputs\n",
    "and not for state approximations. The `NeuralNetworkReductor` though can be used to do both by\n",
    "calling `solve` respectively `output` (if we had initialized the `NeuralNetworkReductor` with\n",
    "the problem including the output quantities).\n",
    "\n",
    "We now perform the reduction and run some tests with the resulting\n",
    "{class}`~pymor.models.neural_network.NeuralNetworkStatefreeOutputModel`:"
   ]
  },
  {
   "cell_type": "code",
   "execution_count": null,
   "id": "061020ba",
   "metadata": {},
   "outputs": [],
   "source": [
    "output_rom = output_reductor.reduce(restarts=100)\n",
    "\n",
    "outputs = []\n",
    "outputs_red = []\n",
    "outputs_speedups = []\n",
    "\n",
    "for mu in test_set:\n",
    "    tic = time.perf_counter()\n",
    "    outputs.append(fom.output(mu=mu))\n",
    "    time_fom = time.perf_counter() - tic\n",
    "\n",
    "    tic = time.perf_counter()\n",
    "    outputs_red.append(output_rom.output(mu=mu))\n",
    "    time_red = time.perf_counter() - tic\n",
    "\n",
    "    outputs_speedups.append(time_fom / time_red)\n",
    "\n",
    "outputs = np.squeeze(np.array(outputs))\n",
    "outputs_red = np.squeeze(np.array(outputs_red))\n",
    "\n",
    "outputs_absolute_errors = np.abs(outputs - outputs_red)\n",
    "outputs_relative_errors = np.abs(outputs - outputs_red) / np.abs(outputs)"
   ]
  },
  {
   "cell_type": "markdown",
   "id": "ed7356cd",
   "metadata": {},
   "source": [
    "The average absolute error (component-wise) on the training set is given by"
   ]
  },
  {
   "cell_type": "code",
   "execution_count": null,
   "id": "8869d497",
   "metadata": {},
   "outputs": [],
   "source": [
    "np.average(outputs_absolute_errors)"
   ]
  },
  {
   "cell_type": "markdown",
   "id": "682a47e5",
   "metadata": {},
   "source": [
    "The average relative error is"
   ]
  },
  {
   "cell_type": "code",
   "execution_count": null,
   "id": "91a37f1b",
   "metadata": {},
   "outputs": [],
   "source": [
    "np.average(outputs_relative_errors)"
   ]
  },
  {
   "cell_type": "markdown",
   "id": "b26336e0",
   "metadata": {},
   "source": [
    "and the median of the speedups amounts to"
   ]
  },
  {
   "cell_type": "code",
   "execution_count": null,
   "id": "9105c431",
   "metadata": {},
   "outputs": [],
   "source": [
    "np.median(outputs_speedups)"
   ]
  },
  {
   "cell_type": "markdown",
   "id": "0ebd240e",
   "metadata": {},
   "source": [
    "Neural networks for instationary problems\n",
    "-----------------------------------------\n",
    "\n",
    "To solve instationary problems using neural networks, we have extended the\n",
    "{class}`~pymor.reductors.neural_network.NeuralNetworkReductor` to the\n",
    "{class}`~pymor.reductors.neural_network.NeuralNetworkInstationaryReductor`, which treats time\n",
    "as an additional parameter (see {cite}`WHR19`). The resulting\n",
    "{class}`~pymor.models.neural_network.NeuralNetworkInstationaryModel` passes the input, together\n",
    "with the current time instance, through the neural network in each time step to obtain reduced\n",
    "coefficients. In the same fashion, there exists a\n",
    "{class}`~pymor.reductors.neural_network.NeuralNetworkInstationaryStatefreeOutputReductor` and the\n",
    "corresponding {class}`~pymor.models.neural_network.NeuralNetworkInstationaryStatefreeOutputModel`.\n",
    "\n",
    "Download the code:\n",
    "{download}`tutorial_mor_with_anns.md`\n",
    "{nb-download}`tutorial_mor_with_anns.ipynb`"
   ]
  }
 ],
 "metadata": {
  "jupyter": {
   "jupytext": {
    "cell_metadata_filter": "-all",
    "formats": "ipynb,myst",
    "main_language": "python",
    "text_representation": {
     "extension": ".md",
     "format_name": "myst",
     "format_version": "1.3",
     "jupytext_version": "1.11.2"
    }
   }
  },
  "kernelspec": {
   "display_name": "Python 3",
   "name": "python3"
  }
 },
 "nbformat": 4,
 "nbformat_minor": 5
}
