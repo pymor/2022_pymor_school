{
 "cells": [
  {
   "cell_type": "markdown",
   "id": "2647d9e2",
   "metadata": {},
   "source": [
    "```{try_on_binder}\n",
    "```"
   ]
  },
  {
   "cell_type": "code",
   "execution_count": null,
   "id": "6f91d28d",
   "metadata": {
    "load": "myst_code_init.py",
    "tags": [
     "remove-cell"
    ]
   },
   "outputs": [],
   "source": []
  },
  {
   "cell_type": "markdown",
   "id": "4c03f95c",
   "metadata": {},
   "source": [
    "# Tutorial: Projecting a Model\n",
    "\n",
    "In this tutorial we will show how pyMOR builds a reduced-order model by\n",
    "projecting the full-order model onto a given reduced space. If you want to learn\n",
    "more about building a reduced space, you can find an introduction in\n",
    "{doc}`tutorial_basis_generation`.\n",
    "\n",
    "We will start by revisiting the concept of Galerkin projection and then manually\n",
    "project the model ourselves. We will then discuss offline/online decomposition of\n",
    "parametric models and see how pyMOR's algorithms automatically handle building\n",
    "an online-efficient reduced-order model. Along the way, we will take a look at\n",
    "some of pyMOR's source code to get a better understanding of how pyMOR's components\n",
    "fit together.\n",
    "\n",
    "## Model setup\n",
    "\n",
    "As a full-order {{ Model }}, we will use the same\n",
    "{meth}`thermal block <pymor.analyticalproblems.thermalblock.thermal_block_problem>` benchmark\n",
    "problem as in {doc}`tutorial_basis_generation`. In particular, we will use pyMOR's\n",
    "builtin {mod}`discretization toolkit <pymor.discretizers.builtin>`\n",
    "(see {doc}`tutorial_builtin_discretizer`) to construct the FOM. However, all we say\n",
    "works exactly the same when a FOM of the same mathematical structure is provided\n",
    "by an external PDE solver (see {doc}`tutorial_external_solver`).\n",
    "\n",
    "Since this tutorial is also supposed to give you a better overview of pyMOR's\n",
    "architecture, we will not import everything from the {mod}`pymor.basic` convenience\n",
    "module but directly import all classes and methods from their original locations in\n",
    "pyMOR's subpackages.\n",
    "\n",
    "Let's build a 2-by-2 thermal block {{ Model }} as our FOM:"
   ]
  },
  {
   "cell_type": "code",
   "execution_count": null,
   "id": "66505c2d",
   "metadata": {},
   "outputs": [],
   "source": [
    "from pymor.analyticalproblems.thermalblock import thermal_block_problem\n",
    "from pymor.discretizers.builtin import discretize_stationary_cg\n",
    "\n",
    "p = thermal_block_problem((2,2))\n",
    "fom, _ = discretize_stationary_cg(p, diameter=1/100)"
   ]
  },
  {
   "cell_type": "markdown",
   "id": "5dd9cdad",
   "metadata": {},
   "source": [
    "To get started, we take a look at one solution of the FOM for some fixed {{ parameter_values }}."
   ]
  },
  {
   "cell_type": "code",
   "execution_count": null,
   "id": "aff5aefb",
   "metadata": {},
   "outputs": [],
   "source": [
    "U = fom.solve([1., 0.1, 0.1, 1.])\n",
    "fom.visualize(U)"
   ]
  },
  {
   "cell_type": "markdown",
   "id": "2af2fbe2",
   "metadata": {},
   "source": [
    "To build the ROM, we will need a reduced space {math}`V_N` of small dimension {math}`N`.\n",
    "Any subspace of the {attr}`~pymor.models.interface.Model.solution_space` of the FOM will\n",
    "do for our purposes here. We choose to build a basic POD space from some random solution\n",
    "snapshots."
   ]
  },
  {
   "cell_type": "code",
   "execution_count": null,
   "id": "e75cd25c",
   "metadata": {},
   "outputs": [],
   "source": [
    "from pymor.algorithms.pod import pod\n",
    "from matplotlib import pyplot as plt\n",
    "\n",
    "snapshots = fom.solution_space.empty()\n",
    "for mu in p.parameter_space.sample_randomly(20):\n",
    "    snapshots.append(fom.solve(mu))\n",
    "basis, singular_values = pod(snapshots, modes=10)"
   ]
  },
  {
   "cell_type": "markdown",
   "id": "bef97aa4",
   "metadata": {},
   "source": [
    "The singular value decay looks promising:"
   ]
  },
  {
   "cell_type": "code",
   "execution_count": null,
   "id": "5ffb49d0",
   "metadata": {},
   "outputs": [],
   "source": [
    "_ = plt.semilogy(singular_values)"
   ]
  },
  {
   "cell_type": "markdown",
   "id": "90e4061a",
   "metadata": {},
   "source": [
    "## Solving the Model\n",
    "\n",
    "Now that we have our FOM and a reduced space {math}`V_N` spanned by `basis`, we can project\n",
    "the {{ Model }}. However, before doing so, we need to understand how actually\n",
    "solving the FOM works. Let's take a look at what\n",
    "{meth}`~pymor.models.interface.Model.solve` does:"
   ]
  },
  {
   "cell_type": "code",
   "execution_count": null,
   "id": "b70a6dbe",
   "metadata": {},
   "outputs": [],
   "source": [
    "from pymor.tools.formatsrc import print_source\n",
    "print_source(fom.solve)"
   ]
  },
  {
   "cell_type": "markdown",
   "id": "bf96cd56",
   "metadata": {},
   "source": [
    "This does not look too interesting. Actually, {meth}`~pymor.models.interface.Model.solve`\n",
    "is just a convenience method around {meth}`~pymor.models.interface.Model.compute` which\n",
    "handles the actual computation of the solution and various other associated values like\n",
    "outputs or error estimates. Next, we take a look at the implemenation of\n",
    "{meth}`~pymor.models.interface.Model.compute`:"
   ]
  },
  {
   "cell_type": "code",
   "execution_count": null,
   "id": "db0626d4",
   "metadata": {},
   "outputs": [],
   "source": [
    "print_source(fom.compute)"
   ]
  },
  {
   "cell_type": "markdown",
   "id": "eb766fcd",
   "metadata": {},
   "source": [
    "What we see is a default implementation from {class}`~pymor.models.interface.Model` that\n",
    "takes care of checking the input {{ parameter_values }} `mu`, {mod}`caching <pymor.core.cache>` and\n",
    "{mod}`logging <pymor.core.logger>`, but defers the actual computations to further private methods.\n",
    "Implementors can directly implement {meth}`~pymor.models.interface.Model._compute` to compute\n",
    "multiple return values at once in an optimized way. Our given model, however, just implements\n",
    "{meth}`~pymor.models.interface.Model._compute_solution` where we can find the\n",
    "actual code:"
   ]
  },
  {
   "cell_type": "code",
   "execution_count": null,
   "id": "c2ebcf68",
   "metadata": {},
   "outputs": [],
   "source": [
    "print_source(fom._compute_solution)"
   ]
  },
  {
   "cell_type": "markdown",
   "id": "11d3eca0",
   "metadata": {},
   "source": [
    "What does this mean? If we look at the type of `fom`,"
   ]
  },
  {
   "cell_type": "code",
   "execution_count": null,
   "id": "7efc567a",
   "metadata": {},
   "outputs": [],
   "source": [
    "type(fom)"
   ]
  },
  {
   "cell_type": "markdown",
   "id": "9b3d1819",
   "metadata": {},
   "source": [
    "we see that `fom` is a {{ StationaryModel }} which encodes an equation of the\n",
    "form\n",
    "\n",
    "```{math}\n",
    "L(u(\\mu); \\mu) = F(\\mu)\n",
    "```\n",
    "\n",
    "Here, {math}`L` is a linear or non-linear parametric {{ Operator }} and {math}`F` is a\n",
    "parametric right-hand side vector. In {{ StationaryModel }}, {math}`L` is represented by\n",
    "the {attr}`~pymor.models.basic.StationaryModel.operator` attribute. So\n",
    "\n",
    "```\n",
    "self.operator.apply_inverse(X, mu=mu)\n",
    "```\n",
    "\n",
    "determines the solution of this equation for the {{ parameter_values }} `mu` and a right-hand\n",
    "side given by `X`. As you see above, the right-hand side of the equation is given by the\n",
    "{attr}`~pymor.models.basic.StationaryModel.rhs` attribute.\n",
    "However, while {meth}`~pymor.operators.interface.Operator.apply_inverse` expects a\n",
    "{{ VectorArray }},  we see that {attr}`~pymor.models.basic.StationaryModel.rhs` is actually\n",
    "an {{ Operator }}:"
   ]
  },
  {
   "cell_type": "code",
   "execution_count": null,
   "id": "51328d78",
   "metadata": {},
   "outputs": [],
   "source": [
    "fom.rhs"
   ]
  },
  {
   "cell_type": "markdown",
   "id": "bcc298ae",
   "metadata": {},
   "source": [
    "This is due to the fact that {{ VectorArrays }} in pyMOR cannot be parametric. So to allow\n",
    "for parametric right-hand sides, this right-hand side is encoded by a linear {{ Operator }}\n",
    "that maps numbers to scalar multiples of the right-hand side vector. Indeed, we see that"
   ]
  },
  {
   "cell_type": "code",
   "execution_count": null,
   "id": "dc84cb91",
   "metadata": {},
   "outputs": [],
   "source": [
    "fom.rhs.source"
   ]
  },
  {
   "cell_type": "markdown",
   "id": "c8852448",
   "metadata": {},
   "source": [
    "is one-dimensional, and if we look at the base-class implementation of\n",
    "{meth}`~pymor.operators.interface.Operator.as_range_array`"
   ]
  },
  {
   "cell_type": "code",
   "execution_count": null,
   "id": "bd5f89f1",
   "metadata": {},
   "outputs": [],
   "source": [
    "from pymor.operators.interface import Operator\n",
    "print_source(Operator.as_range_array)"
   ]
  },
  {
   "cell_type": "markdown",
   "id": "291f320c",
   "metadata": {},
   "source": [
    "we see all that {meth}`~pymor.operators.interface.Operator.as_range_array`\n",
    "does is to apply the operator to {math}`1`. (`NumpyMatrixOperator.as_range_array`\n",
    "has an optimized implementation which just converts the stored matrix to a\n",
    "{{ NumpyVectorArray }}.)\n",
    "\n",
    "Let's try solving the model on our own:"
   ]
  },
  {
   "cell_type": "code",
   "execution_count": null,
   "id": "c57c4f06",
   "metadata": {
    "tags": [
     "raises-exception"
    ]
   },
   "outputs": [],
   "source": [
    "U2 = fom.operator.apply_inverse(fom.rhs.as_range_array(mu), mu=[1., 0.1, 0.1, 1.])"
   ]
  },
  {
   "cell_type": "markdown",
   "id": "93aa6c78",
   "metadata": {},
   "source": [
    "That did not work too well! In pyMOR, all parametric objects expect the\n",
    "`mu` argument to be an instance of the {class}`~pymor.parameters.base.Mu`\n",
    "class. {meth}`~pymor.models.interface.Model.compute` and related methods\n",
    "like {meth}`~pymor.models.interface.Model.solve` are an exception: for\n",
    "convenience, they accept as a `mu` argument anything that can be converted\n",
    "to a {class}`~pymor.parameters.base.Mu` instance using the\n",
    "{meth}`~pymor.parameters.base.Parameters.parse` method of the\n",
    "{class}`~pymor.parameters.base.Parameters` class. In fact, if you look\n",
    "back at the implementation of {meth}`~pymor.models.interface.Model.compute`,\n",
    "you see the explicit call to {meth}`~pymor.parameters.base.Parameters.parse`.\n",
    "We try again:"
   ]
  },
  {
   "cell_type": "code",
   "execution_count": null,
   "id": "e0383fa3",
   "metadata": {},
   "outputs": [],
   "source": [
    "mu = fom.parameters.parse([1., 0.1, 0.1, 1.])\n",
    "U2 = fom.operator.apply_inverse(fom.rhs.as_range_array(mu), mu=mu)"
   ]
  },
  {
   "cell_type": "markdown",
   "id": "7da56831",
   "metadata": {},
   "source": [
    "We can check that we get exactly the same result as from our earlier call\n",
    "to {meth}`~pymor.models.interface.Model.solve`:"
   ]
  },
  {
   "cell_type": "code",
   "execution_count": null,
   "id": "8c602e38",
   "metadata": {},
   "outputs": [],
   "source": [
    "(U-U2).norm()"
   ]
  },
  {
   "cell_type": "markdown",
   "id": "587796b8",
   "metadata": {},
   "source": [
    "## Galerkin Projection\n",
    "\n",
    "Now that we understand how the FOM works, we want to build a reduced-order model\n",
    "which approximates the FOM solution {math}`U(\\mu)` in {math}`V_N`.\n",
    "To that end we call {math}`\\mathbb{V}_N` the matrix that has the vectors in\n",
    "`basis` as columns. The coefficients of the solution of the ROM w.r.t. these\n",
    "basis vectors will be called {math}`u_N(\\mu)`. We want that\n",
    "\n",
    "```{math}\n",
    "U_N := \\mathbb{V}_N \\cdot u_N(\\mu) \\approx u(\\mu).\n",
    "```\n",
    "\n",
    "Substituting {math}`\\mathbb{V}_N \\cdot u_N(\\mu)` for {math}`u(\\mu)` into the equation system\n",
    "defining the FOM, we arrive at:\n",
    "\n",
    "```{math}\n",
    "L(\\mathbb{V}_N\\cdot u_N(\\mu); \\mu) = F(\\mu).\n",
    "```\n",
    "\n",
    "However, this is an over-determined system: we have decreased the degrees of\n",
    "freedom of the solution, but did not change the number of constraints (the dimension\n",
    "of {math}`F(\\mu)`). So in general, this system will not have a solution.\n",
    "\n",
    "One approach to define {math}`u_N` from this ansatz is to choose {math}`u_N`\n",
    "as a minimizer of norm of the residual of the equations system, i.e. to minimize\n",
    "the defect by which {math}`u_N` fails to satisfy the equations:\n",
    "\n",
    "```{math}\n",
    "u_N(\\mu) := \\operatorname{arg\\,min}_{u \\in \\mathbb{R}^N} \\|F(\\mu) - L(\\mathbb{V}_N \\cdot u; \\mu)\\|.\n",
    "```\n",
    "\n",
    "While this is a feasible (and sometimes necessary) approach that can be realized with\n",
    "pyMOR as well, we choose here an even simpler method by requiring that the residual is\n",
    "orthogonal to our reduced space, i.e.\n",
    "\n",
    "```{math}\n",
    "(\\mathbb{V}_{N,i},\\, F(\\mu) - L(\\mathbb{V}_N \\cdot u_N; \\mu)) = 0 \\qquad i=1,\\ldots,N,\n",
    "```\n",
    "\n",
    "where the {math}`\\mathbb{V}_{N,i}` denote the columns of {math}`\\mathbb{V}_N`\n",
    "and {math}`(\\cdot, \\cdot)` denotes some inner product on our\n",
    "{attr}`~pymor.models.interface.Model.solution_space`.\n",
    "\n",
    "Let us assume that {math}`L` is actually linear for all parameter values {math}`\\mu`,\n",
    "and that {math}`\\mathbb{A}(\\mu)` is its matrix representation. Further assume\n",
    "that {math}`(\\cdot, \\cdot)` is the Euclidean inner product. Then we arrive at\n",
    "\n",
    "```{math}\n",
    "[\\mathbb{V}_N^T \\cdot \\mathbb{A}(\\mu) \\cdot \\mathbb{V}_N] \\cdot u_N =\n",
    "\\mathbb{V}_N^T \\cdot F(\\mu),\n",
    "```\n",
    "\n",
    "which is a {math}`N\\times N` linear equation system. In the common case that\n",
    "{math}`\\mathbb{A}(\\mu)` is positive definite, the reduced system matrix\n",
    "\n",
    "```{math}\n",
    "\\mathbb{A}_N(\\mu) := \\mathbb{V}_N^T \\cdot \\mathbb{A}(\\mu) \\cdot \\mathbb{V}_N\n",
    "```\n",
    "\n",
    "is positive definite as well, and {math}`u_N(\\mu)` is uniquely determined. We call\n",
    "{math}`U_N(\\mu)` the Galerkin projection of {math}`U(\\mu)` onto {math}`V_N`.\n",
    "\n",
    "You may know the concept of Galerkin projection from finite element methods. Indeed, if our\n",
    "equation system comes from the weak formulation of a PDE of the form\n",
    "\n",
    "```{math}\n",
    "a(v, U(\\mu); \\mu) = f(v; \\mu) \\qquad \\forall v \\in V_h,\n",
    "```\n",
    "\n",
    "the matrix of the bilinear form {math}`a(\\cdot, \\cdot; \\mu)` w.r.t. a finite element basis\n",
    "is {math}`\\mathbb{A}(\\mu)`, and {math}`F(\\mu)` is the vector representation of the linear\n",
    "functional {math}`f` w.r.t. the dual finite element basis, then\n",
    "\n",
    "```{math}\n",
    "\\mathbb{A}_N(\\mu) \\cdot u_N = \\mathbb{V}_N^T \\cdot F(\\mu)\n",
    "```\n",
    "\n",
    "is exactly the equation system obtained from Galerkin projection of the weak PDE formulation onto\n",
    "the reduced space, i.e. solving\n",
    "\n",
    "```{math}\n",
    "a(v, u_N(\\mu); \\mu) = f(v; \\mu) \\qquad \\forall v \\in V_N\n",
    "```\n",
    "\n",
    "for {math}`U_N(\\mu) \\in V_N`. As for finite element methods,\n",
    "[Cea's Lemma](<https://en.wikipedia.org/wiki/Cea's_lemma>) guarantees that when {math}`a(\\cdot, \\cdot, \\mu)`\n",
    "is positive definite, {math}`U_N` will be a quasi-best approximation\n",
    "of {math}`U(\\mu)` in {math}`V_N`. So, if we have constructed a good reduced space {math}`V_N`, then\n",
    "Galerkin projection will also give us a good ROM to actually find a good approximation in {math}`V_N`.\n",
    "\n",
    "Let's compute the Galerkin ROM for our FOM at hand with pyMOR. To compute {math}`\\mathbb{A}_N`\n",
    "we use the {meth}`~pymor.operators.interface.Operator.apply2` method of `fom.operator`.\n",
    "For computing the inner products {math}`\\mathbb{V}_N^T \\cdot F(\\mu)` we can simply compute the\n",
    "inner product with the `basis` {{ VectorArray }} using its {meth}`~pymor.vectorarrays.interface.VectorArray.inner`\n",
    "method:"
   ]
  },
  {
   "cell_type": "code",
   "execution_count": null,
   "id": "3e50cced",
   "metadata": {},
   "outputs": [],
   "source": [
    "reduced_operator = fom.operator.apply2(basis, basis, mu=mu)\n",
    "reduced_rhs = basis.inner(fom.rhs.as_range_array(mu))"
   ]
  },
  {
   "cell_type": "markdown",
   "id": "2c4850c4",
   "metadata": {},
   "source": [
    "Now we just need to solve the resulting linear equation system using {{ NumPy }} to obtain\n",
    "{math}`u_N(\\mu)`:"
   ]
  },
  {
   "cell_type": "code",
   "execution_count": null,
   "id": "a387ae13",
   "metadata": {},
   "outputs": [],
   "source": [
    "import numpy as np\n",
    "\n",
    "u_N = np.linalg.solve(reduced_operator, reduced_rhs)\n",
    "u_N"
   ]
  },
  {
   "cell_type": "markdown",
   "id": "69cb752b",
   "metadata": {},
   "source": [
    "To reconstruct the high-dimensional approximation {math}`\\mathbb{V}_N \\cdot u_N(\\mu)`\n",
    "from {math}`u_N(\\mu)` we can use the {meth}`~pymor.vectorarrays.interface.VectorArray.lincomb`\n",
    "method:"
   ]
  },
  {
   "cell_type": "code",
   "execution_count": null,
   "id": "f57a582e",
   "metadata": {},
   "outputs": [],
   "source": [
    "U_N = basis.lincomb(u_N.T)\n",
    "U_N"
   ]
  },
  {
   "cell_type": "markdown",
   "id": "7c49a41b",
   "metadata": {},
   "source": [
    "Let's see, how good our reduced approximation is:"
   ]
  },
  {
   "cell_type": "code",
   "execution_count": null,
   "id": "71d508ca",
   "metadata": {},
   "outputs": [],
   "source": [
    "(U-U_N).norm(fom.h1_0_product) / U.norm(fom.h1_0_product)"
   ]
  },
  {
   "cell_type": "markdown",
   "id": "b333273a",
   "metadata": {},
   "source": [
    "With only 10 basis vectors, we have achieved a relative {math}`H^1`-error of 2%.\n",
    "We can also visually inspect our solution and the approximation error:"
   ]
  },
  {
   "cell_type": "code",
   "execution_count": null,
   "id": "0b687449",
   "metadata": {},
   "outputs": [],
   "source": [
    "fom.visualize((U, U_N, U-U_N), separate_colorbars=True)"
   ]
  },
  {
   "cell_type": "markdown",
   "id": "842e576c",
   "metadata": {},
   "source": [
    "## Building the ROM\n",
    "\n",
    "So far, we have only constructed the ROM in the form of {{ NumPy }} data structures:"
   ]
  },
  {
   "cell_type": "code",
   "execution_count": null,
   "id": "8e9b01af",
   "metadata": {},
   "outputs": [],
   "source": [
    "type(reduced_operator)"
   ]
  },
  {
   "cell_type": "markdown",
   "id": "8b38fc8c",
   "metadata": {},
   "source": [
    "To build a proper pyMOR {{ Model }} for the ROM, which can be used everywhere a {{ Model }} is\n",
    "expected, we first wrap these data structures as pyMOR {{ Operators }}:"
   ]
  },
  {
   "cell_type": "code",
   "execution_count": null,
   "id": "cf54fc0b",
   "metadata": {},
   "outputs": [],
   "source": [
    "from pymor.operators.numpy import NumpyMatrixOperator\n",
    "\n",
    "reduced_operator = NumpyMatrixOperator(reduced_operator)\n",
    "reduced_rhs = NumpyMatrixOperator(reduced_rhs)"
   ]
  },
  {
   "cell_type": "markdown",
   "id": "27939a46",
   "metadata": {},
   "source": [
    "Galerkin projection does not change the structure of the model. So the ROM should again\n",
    "be a {{ StationaryModel }}. We can construct it easily as follows:"
   ]
  },
  {
   "cell_type": "code",
   "execution_count": null,
   "id": "15400243",
   "metadata": {},
   "outputs": [],
   "source": [
    "from pymor.models.basic import StationaryModel\n",
    "rom = StationaryModel(reduced_operator, reduced_rhs)\n",
    "rom"
   ]
  },
  {
   "cell_type": "markdown",
   "id": "1263e4b9",
   "metadata": {},
   "source": [
    "Let's check if it works as expected:"
   ]
  },
  {
   "cell_type": "code",
   "execution_count": null,
   "id": "65671d99",
   "metadata": {},
   "outputs": [],
   "source": [
    "u_N2 = rom.solve()\n",
    "u_N.T - u_N2.to_numpy()"
   ]
  },
  {
   "cell_type": "markdown",
   "id": "8ad12ebc",
   "metadata": {},
   "source": [
    "We get exactly the same result, so we have successfully built a pyMOR ROM.\n",
    "\n",
    "## Offline/Online Decomposition\n",
    "\n",
    "There is one issue however. Our ROM has lost the parametrization since we\n",
    "have assembled the reduced-order system for a specific set of\n",
    "{{ parameter_values }}:"
   ]
  },
  {
   "cell_type": "code",
   "execution_count": null,
   "id": "7550f666",
   "metadata": {},
   "outputs": [],
   "source": [
    "print(fom.parameters)\n",
    "print(rom.parameters)"
   ]
  },
  {
   "cell_type": "markdown",
   "id": "0c9d2612",
   "metadata": {},
   "source": [
    "Solving the ROM for a new `mu` would mean to build a new ROM with updated\n",
    "system matrix and right-hand side. However, if we compare the timings,"
   ]
  },
  {
   "cell_type": "code",
   "execution_count": null,
   "id": "54d6f1c5",
   "metadata": {},
   "outputs": [],
   "source": [
    "from time import perf_counter\n",
    "\n",
    "tic = perf_counter()\n",
    "fom.solve(mu)\n",
    "toc = perf_counter()\n",
    "fom.operator.apply2(basis, basis, mu=mu)\n",
    "basis.inner(fom.rhs.as_range_array(mu))\n",
    "tac = perf_counter()\n",
    "rom.solve()\n",
    "tuc = perf_counter()\n",
    "print(f'FOM:          {toc-tic:.5f} (s)')\n",
    "print(f'ROM assemble: {tac-toc:.5f} (s)')\n",
    "print(f'ROM solve:    {tuc-tac:.5f} (s)')"
   ]
  },
  {
   "cell_type": "markdown",
   "id": "6d6ec5aa",
   "metadata": {},
   "source": [
    "we see that we lose a lot of our speedup when we assemble the ROM\n",
    "(which involves a lot of full-order dimensional operations).\n",
    "\n",
    "To solve this issue we need to find a way to pre-compute everything we need\n",
    "to solve the ROM once-and-for-all for all possible {{ parameter_values }}. Luckily,\n",
    "the system operator of our FOM has a special structure:"
   ]
  },
  {
   "cell_type": "code",
   "execution_count": null,
   "id": "e47ea3ad",
   "metadata": {},
   "outputs": [],
   "source": [
    "fom.operator"
   ]
  },
  {
   "cell_type": "markdown",
   "id": "b5715d0f",
   "metadata": {},
   "source": [
    "We see that `operator` is a {{ LincombOperator }}, a linear combination of {{ Operators }}\n",
    "with coefficients that may either be a number or a parameter-dependent number,\n",
    "called a {{ ParameterFunctional }} in pyMOR. In our case, all\n",
    "{attr}`~pymor.operators.constructions.LincombOperator.operators` are\n",
    "{{ NumpyMatrixOperators }}, which themselves don't depend on any parameter. Only the\n",
    "{attr}`~pymor.operators.constructions.LincombOperator.coefficients` are\n",
    "parameter-dependent.  This allows us to easily build a parametric ROM that no longer\n",
    "requires any high-dimensional operations for its solution by projecting each\n",
    "{{ Operator }} in the sum separately:"
   ]
  },
  {
   "cell_type": "code",
   "execution_count": null,
   "id": "3b52d3d3",
   "metadata": {},
   "outputs": [],
   "source": [
    "reduced_operators = [NumpyMatrixOperator(op.apply2(basis, basis))\n",
    "                     for op in fom.operator.operators]"
   ]
  },
  {
   "cell_type": "markdown",
   "id": "1b903a66",
   "metadata": {},
   "source": [
    "We could instantiate a new {{ LincombOperator }} of these `reduced_operators` manually.\n",
    "An easier way is to use the {meth}`~pymor.core.base.ImmutableObject.with_` method,\n",
    "which allows us to create a new object from a given {{ ImmutableObject }} by replacing\n",
    "some of its attributes by new values:"
   ]
  },
  {
   "cell_type": "code",
   "execution_count": null,
   "id": "5d1bd56a",
   "metadata": {},
   "outputs": [],
   "source": [
    "reduced_operator = fom.operator.with_(operators=reduced_operators)"
   ]
  },
  {
   "cell_type": "markdown",
   "id": "92fea8f6",
   "metadata": {},
   "source": [
    "The right-hand side of our problem is non-parametric,"
   ]
  },
  {
   "cell_type": "code",
   "execution_count": null,
   "id": "fe158dd0",
   "metadata": {},
   "outputs": [],
   "source": [
    "fom.rhs.parameters"
   ]
  },
  {
   "cell_type": "markdown",
   "id": "1be5cea0",
   "metadata": {},
   "source": [
    "so we don't need to do anything special about it. We build a new ROM,"
   ]
  },
  {
   "cell_type": "code",
   "execution_count": null,
   "id": "d63fa6cb",
   "metadata": {},
   "outputs": [],
   "source": [
    "rom = StationaryModel(reduced_operator, reduced_rhs)"
   ]
  },
  {
   "cell_type": "markdown",
   "id": "478a91dc",
   "metadata": {},
   "source": [
    "which now depends on the same {{ Parameters }} as the FOM:"
   ]
  },
  {
   "cell_type": "code",
   "execution_count": null,
   "id": "948cda6b",
   "metadata": {},
   "outputs": [],
   "source": [
    "rom.parameters"
   ]
  },
  {
   "cell_type": "markdown",
   "id": "ee155014",
   "metadata": {},
   "source": [
    "We check that our new ROM still computes the same solution:"
   ]
  },
  {
   "cell_type": "code",
   "execution_count": null,
   "id": "bd4c4f2a",
   "metadata": {},
   "outputs": [],
   "source": [
    "u_N3 = rom.solve(mu)\n",
    "u_N.T - u_N3.to_numpy()"
   ]
  },
  {
   "cell_type": "markdown",
   "id": "6f4fea37",
   "metadata": {},
   "source": [
    "Let's see if our new ROM is actually faster than the FOM:"
   ]
  },
  {
   "cell_type": "code",
   "execution_count": null,
   "id": "deced2cc",
   "metadata": {},
   "outputs": [],
   "source": [
    "tic = perf_counter()\n",
    "fom.solve(mu)\n",
    "toc = perf_counter()\n",
    "rom.solve(mu)\n",
    "tac = perf_counter()\n",
    "print(f'FOM: {toc-tic:.5f} (s)')\n",
    "print(f'ROM: {tac-toc:.5f} (s)')"
   ]
  },
  {
   "cell_type": "markdown",
   "id": "b8eb1407",
   "metadata": {},
   "source": [
    "You should see a significant speedup of around two orders of magnitude.\n",
    "In model order reduction, problems where the {{ parameter_values }} only enter\n",
    "as linear coefficients are called parameter separable. Many real-life\n",
    "application problems are actually of this type, and as you have seen in this\n",
    "section, these problems admit an *offline/online decomposition* that\n",
    "enables the *online efficient* solution of the ROM.\n",
    "\n",
    "For problems that do not allow such an decomposition and also for non-linear\n",
    "problems, more advanced techniques are necessary such as\n",
    "{mod}`empiricial interpolation <pymor.algorithms.ei>`.\n",
    "\n",
    "## Letting pyMOR do the work\n",
    "\n",
    "So far we completely built the ROM ourselves. While this may not have been\n",
    "very complicated after all, you'd expect a model order reduction library\n",
    "to do the work for you and to automatically keep an eye on proper\n",
    "offline/online decomposition.\n",
    "\n",
    "In pyMOR, the heavy lifting is handled by the\n",
    "{meth}`~pymor.algorithms.projection.project` method, which is able to perform\n",
    "a Galerkin projection, or more general a Petrov-Galerkin projection, of any\n",
    "pyMOR {{ Operator }}. Let's see, how it works:"
   ]
  },
  {
   "cell_type": "code",
   "execution_count": null,
   "id": "5ce5e81e",
   "metadata": {},
   "outputs": [],
   "source": [
    "from pymor.algorithms.projection import project\n",
    "\n",
    "reduced_operator = project(fom.operator, basis, basis)\n",
    "reduced_rhs      = project(fom.rhs,      basis, None )"
   ]
  },
  {
   "cell_type": "markdown",
   "id": "3e8db2f3",
   "metadata": {},
   "source": [
    "The arguments of {meth}`~pymor.algorithms.projection.project` are the {{ Operator }}\n",
    "to project, a reduced basis for the {attr}`~pymor.operators.interface.Operator.range`\n",
    "(test) space and a reduced basis for the {attr}`~pymor.operators.interface.Operator.source`\n",
    "(ansatz) space of the {{ Operator }}. If no projection for one of these spaces shall be performed,\n",
    "`None` is passed.  Since we are performing Galerkin-projection, where test space into\n",
    "which the residual is projected is the same as the ansatz space in which the solution\n",
    "is determined, we pass `basis` twice when projecting `fom.operator`. Note that\n",
    "`fom.rhs` only takes scalars as input, so we do not need to project anything in the ansatz space.\n",
    "\n",
    "If we check the result,"
   ]
  },
  {
   "cell_type": "code",
   "execution_count": null,
   "id": "4f667cb7",
   "metadata": {},
   "outputs": [],
   "source": [
    "reduced_operator"
   ]
  },
  {
   "cell_type": "markdown",
   "id": "66d35f96",
   "metadata": {},
   "source": [
    "we see, that pyMOR indeed has taken care of projecting each individual {{ Operator }}\n",
    "of the linear combination. We check again that we have built the same ROM:"
   ]
  },
  {
   "cell_type": "code",
   "execution_count": null,
   "id": "e9cc7baf",
   "metadata": {},
   "outputs": [],
   "source": [
    "rom = StationaryModel(reduced_operator, reduced_rhs)\n",
    "u_N4 = rom.solve(mu)\n",
    "u_N.T - u_N4.to_numpy()"
   ]
  },
  {
   "cell_type": "markdown",
   "id": "94beb489",
   "metadata": {},
   "source": [
    "So how does {meth}`~pymor.algorithms.projection.project` actually work? Let's take\n",
    "a look at the source:"
   ]
  },
  {
   "cell_type": "code",
   "execution_count": null,
   "id": "113da325",
   "metadata": {},
   "outputs": [],
   "source": [
    "print_source(project)"
   ]
  },
  {
   "cell_type": "markdown",
   "id": "b227c32b",
   "metadata": {},
   "source": [
    "We see there is error checking and some code to handle the optional `product` {{ Operator }}\n",
    "used to project into the reduced {attr}`~pymor.operators.interface.Operator.range` space.\n",
    "The actual work is done by the {meth}`~pymor.algorithms.rules.RuleTable.apply` method\n",
    "of the `ProjectRules` object.\n",
    "\n",
    "`ProjectRules` is a {{ RuleTable }}, an ordered list of conditions with corresponding actions.\n",
    "The list is traversed from top to bottom, and the action of the first matching condition is\n",
    "executed. These {{ RuleTables }} can also be modified by the user to customize the behavior\n",
    "of an algorithm for a specific application. We will not go into the details of defining\n",
    "or modifying a {{ RuleTable }} here, but we will look at the rules of `ProjectRules` by looking\n",
    "at its string representation:"
   ]
  },
  {
   "cell_type": "code",
   "execution_count": null,
   "id": "3fff6a33",
   "metadata": {},
   "outputs": [],
   "source": [
    "from pymor.algorithms.projection import ProjectRules\n",
    "ProjectRules"
   ]
  },
  {
   "cell_type": "markdown",
   "id": "169d270e",
   "metadata": {},
   "source": [
    "In the case of `fom.operator`, which is a {{ LincombOperator }}, the rule with index 8 will\n",
    "be the first matching rule. We can take a look at it:"
   ]
  },
  {
   "cell_type": "code",
   "execution_count": null,
   "id": "3eb750e8",
   "metadata": {
    "tags": [
     "hide-code",
     "hide-output"
    ]
   },
   "outputs": [],
   "source": [
    "assert ProjectRules.rules[8].action_description == 'LincombOperator'"
   ]
  },
  {
   "cell_type": "code",
   "execution_count": null,
   "id": "2d7f10cc",
   "metadata": {},
   "outputs": [],
   "source": [
    "ProjectRules.rules[8]"
   ]
  },
  {
   "cell_type": "markdown",
   "id": "a12813ff",
   "metadata": {},
   "source": [
    "The implementation of the action for {{ LincombOperators }} uses the\n",
    "{meth}`~pymor.algorithms.rules.RuleTable.replace_children` method of {{ RuleTable }},\n",
    "which will recursively apply `ProjectionRules` to all\n",
    "{meth}`children <pymor.algorithms.rules.RuleTable.get_children>` of the\n",
    "{{ Operator }}, collect the results and then return a new {{ Operator }} where\n",
    "the children have been replaced by the results of the applications of the\n",
    "{{ RuleTable }}. Here, the {meth}`children <pymor.algorithms.rules.RuleTable.get_children>`\n",
    "of an {{ Operator }} are all of its attribute that are either {{ Operators }} or lists or dicts\n",
    "of {{ Operators }}.\n",
    "\n",
    "In our case, `ProjectRules` will be applied to all {{ NumpyMatrixOperators }} held by\n",
    "`fom.operator`. These are linear, non-parametric operators, for which rule 3\n",
    "will apply:"
   ]
  },
  {
   "cell_type": "code",
   "execution_count": null,
   "id": "12f15923",
   "metadata": {
    "tags": [
     "hide-code",
     "hide-output"
    ]
   },
   "outputs": [],
   "source": [
    "assert ProjectRules.rules[3].action_description == 'apply_basis'"
   ]
  },
  {
   "cell_type": "code",
   "execution_count": null,
   "id": "80c9aa59",
   "metadata": {},
   "outputs": [],
   "source": [
    "ProjectRules.rules[3]"
   ]
  },
  {
   "cell_type": "markdown",
   "id": "85bfc464",
   "metadata": {},
   "source": [
    "This action has special cases for all possible combinations of given or not-given\n",
    "{attr}`~pymor.operators.interface.Operator.range` and {attr}`~pymor.operators.interface.Operator.source`\n",
    "bases. In our case, the `else` block of the second `else` block applies,\n",
    "where we see our familiar {meth}`~pymor.operators.interface.Operator.apply2` call.\n",
    "\n",
    "If you look at the rules of `ProjectRules` again, you see that\n",
    "{meth}`~pymor.algorithms.projection.project` can handle many more cases.\n",
    "If all rules fail, a `NoMatchingRuleError` will be raised, in which case,\n",
    "{meth}`~pymor.algorithms.projection.project` will return a\n",
    "{class}`~pymor.operators.constructions.ProjectedOperator`, which just stores the\n",
    "projection bases and performs the projection for each call to the {{ Operator }} interface\n",
    "methods. Thus, even when offline/online decomposition fails, still a mathematically correct\n",
    "representation of the projected {{ Operator }} is returned to allow testing the approximation\n",
    "quality of the ROM before taking care of online efficiency in a later step.\n",
    "\n",
    "## Using Reductors\n",
    "\n",
    "Instead of projecting each {{ Operator }} of our FOM separately and then instantiating\n",
    "the ROM with the projected {{ Operators }}, we can use a {mod}`reductor <pymor.reductors>`,\n",
    "which does all the work for us. For a simple Galerkin projection of a {{ StationaryModel }},\n",
    "we can use {class}`~pymor.reductors.basic.StationaryRBReductor`:"
   ]
  },
  {
   "cell_type": "code",
   "execution_count": null,
   "id": "bd6d5de0",
   "metadata": {},
   "outputs": [],
   "source": [
    "from pymor.reductors.basic import StationaryRBReductor\n",
    "\n",
    "reductor = StationaryRBReductor(fom, basis)\n",
    "rom = reductor.reduce()"
   ]
  },
  {
   "cell_type": "markdown",
   "id": "971dd352",
   "metadata": {},
   "source": [
    "Again, we get the same ROM as before:"
   ]
  },
  {
   "cell_type": "code",
   "execution_count": null,
   "id": "f73cce1b",
   "metadata": {},
   "outputs": [],
   "source": [
    "u_N5 = rom.solve(mu)\n",
    "u_N.T - u_N5.to_numpy()"
   ]
  },
  {
   "cell_type": "markdown",
   "id": "b4b5a7be",
   "metadata": {},
   "source": [
    "As an additional feature, {meth}`~pymor.reductors.basic.StationaryRBReductor.reduce`\n",
    "allows to project the model onto a smaller dimensional subspace of {math}`V_N` by\n",
    "extracting the ROM from a previously computed ROM for the full {math}`V_N`. This\n",
    "is useful, in particular, when assessing the ROM for different basis sizes. The\n",
    "actual projection is handled in the\n",
    "{meth}`~pymor.reductor.basic.StationaryRBReductor.project_operators` method,\n",
    "where we can find some well-known code:"
   ]
  },
  {
   "cell_type": "code",
   "execution_count": null,
   "id": "869f8393",
   "metadata": {},
   "outputs": [],
   "source": [
    "print_source(reductor.project_operators)"
   ]
  },
  {
   "cell_type": "markdown",
   "id": "adb4bae2",
   "metadata": {},
   "source": [
    "We see that the reductor also takes care of projecting output functionals and\n",
    "inner products associated with the {{ Model }}. The construction of the ROM from\n",
    "the projected operators is performed by a separate method:"
   ]
  },
  {
   "cell_type": "code",
   "execution_count": null,
   "id": "f33586b0",
   "metadata": {},
   "outputs": [],
   "source": [
    "print_source(reductor.build_rom)"
   ]
  },
  {
   "cell_type": "markdown",
   "id": "19ed21e6",
   "metadata": {},
   "source": [
    "More advanced reductors, such as {class}`~pymor.reductors.coercive.CoerciveRBReductor`\n",
    "also assemble an a posteriori error estimator for the model order reduction error.\n",
    "In the case of {class}`~pymor.reductors.basic.StationaryRBReductor`, however,\n",
    "`error_estimator` is always `None`.\n",
    "\n",
    "Reductors also allow to compute {math}`U_N(\\mu)` from {math}`u_N(\\mu)` using\n",
    "the {meth}`~pymor.reductors.basic.StationaryRBReductor.reconstruct` method:"
   ]
  },
  {
   "cell_type": "code",
   "execution_count": null,
   "id": "99b4987a",
   "metadata": {},
   "outputs": [],
   "source": [
    "U_N5 = reductor.reconstruct(u_N5)\n",
    "(U_N - U_N5).norm()"
   ]
  },
  {
   "cell_type": "markdown",
   "id": "d0057f41",
   "metadata": {},
   "source": [
    "Again, if we look at the source code, we see a familiar expression:"
   ]
  },
  {
   "cell_type": "code",
   "execution_count": null,
   "id": "62804288",
   "metadata": {},
   "outputs": [],
   "source": [
    "print_source(reductor.reconstruct)"
   ]
  },
  {
   "cell_type": "markdown",
   "id": "90fbd1cb",
   "metadata": {},
   "source": [
    "Download the code:\n",
    "{download}`tutorial_projection.md`\n",
    "{nb-download}`tutorial_projection.ipynb`"
   ]
  }
 ],
 "metadata": {
  "jupyter": {
   "jupytext": {
    "cell_metadata_filter": "-all",
    "formats": "ipynb,myst",
    "main_language": "python",
    "text_representation": {
     "extension": ".md",
     "format_name": "myst",
     "format_version": "1.3",
     "jupytext_version": "1.11.2"
    }
   }
  },
  "kernelspec": {
   "display_name": "Python 3",
   "name": "python3"
  }
 },
 "nbformat": 4,
 "nbformat_minor": 5
}
