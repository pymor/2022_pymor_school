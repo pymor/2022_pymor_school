{
 "cells": [
  {
   "cell_type": "markdown",
   "id": "2a197e6f",
   "metadata": {},
   "source": [
    "```{try_on_binder}\n",
    "```"
   ]
  },
  {
   "cell_type": "code",
   "execution_count": null,
   "id": "5672e105",
   "metadata": {
    "load": "myst_code_init.py",
    "tags": [
     "remove-cell"
    ]
   },
   "outputs": [],
   "source": []
  },
  {
   "cell_type": "markdown",
   "id": "3f08a144",
   "metadata": {},
   "source": [
    "# Tutorial: Using pyMOR’s discretization toolkit\n",
    "\n",
    "pyMOR’s discretization toolkit allows to quickly build parameterized\n",
    "full-order models based on the NumPy/SciPy software stack. Currently\n",
    "supported are stationary or instationary scalar PDEs of up to second\n",
    "order with possibly nonlinear advection or reaction terms in one or two\n",
    "spatial dimensions. Unstructured meshes can be imported in the Gmsh file\n",
    "format.\n",
    "\n",
    "In this tutorial we will focus on elliptic equations of the form\n",
    "\n",
    "```{math}\n",
    "-\\nabla \\cdot \\big(\\sigma(x, \\mu) \\nabla u(x, \\mu) \\big) = f(x, \\mu),\\quad x \\in \\Omega,\n",
    "```\n",
    "\n",
    "on the domain {math}`\\Omega:= (0, 1)^2 \\subset \\mathbb{R}^2` with data\n",
    "functions {math}`f(\\cdot, \\mu) \\in L^2(\\Omega)`,\n",
    "{math}`\\sigma(\\cdot, \\mu) \\in L^\\infty(\\Omega)`.\n",
    "\n",
    "## A first equation without parameters\n",
    "\n",
    "First, let us assume that the source {math}`f(x, \\mu)` is an indicator\n",
    "function of a circular disk with radius {math}`0.3` and that\n",
    "{math}`\\sigma(x, \\mu)` is constant:\n",
    "\n",
    "```{math}\n",
    "f(x, \\mu) :=\n",
    "\\begin{cases}\n",
    "   1, & |x - (0.5, 0.5)| < 0.3, \\\\\n",
    "   0, & \\text{otherwise},\n",
    "\\end{cases} \\quad\\text{and}\\quad\n",
    "\\sigma(x, \\mu) :\\equiv 1.\n",
    "```\n",
    "\n",
    "We start by importing commonly used pyMOR classes and methods from the\n",
    "{mod}`~pymor.basic` module:"
   ]
  },
  {
   "cell_type": "code",
   "execution_count": null,
   "id": "c4dee764",
   "metadata": {},
   "outputs": [],
   "source": [
    "from pymor.basic import *"
   ]
  },
  {
   "cell_type": "markdown",
   "id": "d6b1e2f0",
   "metadata": {},
   "source": [
    "To specify the problem at hand using pyMOR’s discretization toolkit, we\n",
    "first need to specify the computational domain {math}`\\Omega`. Multiple\n",
    "classes are available to define such domains in the\n",
    "{mod}`~pymor.analyticalproblems.domaindescriptions` module,\n",
    "which all derive from the {{ DomainDescription }} interface class.\n",
    "\n",
    "In our case, we can use a {{ RectDomain }}:"
   ]
  },
  {
   "cell_type": "code",
   "execution_count": null,
   "id": "d3c0c569",
   "metadata": {},
   "outputs": [],
   "source": [
    "domain = RectDomain([[0.,0.], [1.,1.]])"
   ]
  },
  {
   "cell_type": "markdown",
   "id": "ce193452",
   "metadata": {},
   "source": [
    "Data functions are defined using classes which derive from\n",
    "the {{ Function }} interface. We specify the constant diffusivity {math}`\\sigma`\n",
    "using a {{ ConstantFunction }}:"
   ]
  },
  {
   "cell_type": "code",
   "execution_count": null,
   "id": "983a0155",
   "metadata": {},
   "outputs": [],
   "source": [
    "diffusion = ConstantFunction(1, 2)"
   ]
  },
  {
   "cell_type": "markdown",
   "id": "f39ae1c2",
   "metadata": {},
   "source": [
    "Here, the first argument is the function’s constant value. The second\n",
    "argument is the spatial dimension of the domain the problem is defined\n",
    "on.\n",
    "\n",
    "For the definition of the source term {math}`f` we use an\n",
    "{{ ExpressionFunction }} which is given an arbitrary Python expression\n",
    "used to evaluate the function. In this expression, the coordinates at\n",
    "which the function shall be evaluated are given as the variable `x`.\n",
    "Many NumPy functions can be used directly.\n",
    "Thus, to define {math}`f` we can write"
   ]
  },
  {
   "cell_type": "code",
   "execution_count": null,
   "id": "f2cc50f1",
   "metadata": {},
   "outputs": [],
   "source": [
    "rhs = ExpressionFunction('(sqrt( (x[0]-0.5)**2 + (x[1]-0.5)**2) <= 0.3) * 1.', 2)"
   ]
  },
  {
   "cell_type": "markdown",
   "id": "68c696ce",
   "metadata": {},
   "source": [
    "Similarly to {{ ConstantFunction }}, the second argument is the dimension\n",
    "of the computational domain.\n",
    "\n",
    "Finally, the computational domain and all data functions are collected\n",
    "in a {{ StationaryProblem }}:"
   ]
  },
  {
   "cell_type": "code",
   "execution_count": null,
   "id": "0f87d46b",
   "metadata": {},
   "outputs": [],
   "source": [
    "problem = StationaryProblem(\n",
    "   domain=domain,\n",
    "   diffusion=diffusion,\n",
    "   rhs=rhs,\n",
    ")"
   ]
  },
  {
   "cell_type": "markdown",
   "id": "f8e165e5",
   "metadata": {},
   "source": [
    "This problem definition can now be handed over to discretization methods\n",
    "(see {mod}`pymor.discretizers.builtin`) which assemble corresponding\n",
    "discrete full-order models. For finite elements, we use\n",
    "{func}`~pymor.discretizers.builtin.cg.discretize_stationary_cg`,\n",
    "which receives the maximum mesh element diameter via the `diameter`\n",
    "argument:"
   ]
  },
  {
   "cell_type": "code",
   "execution_count": null,
   "id": "17714307",
   "metadata": {},
   "outputs": [],
   "source": [
    "m, data = discretize_stationary_cg(problem, diameter=1/4)"
   ]
  },
  {
   "cell_type": "markdown",
   "id": "8223503f",
   "metadata": {},
   "source": [
    "The resulting {{ Model }} can be {meth}`solved <pymor.models.interface.Model.solve>`,\n",
    "returning a {{ VectorArray }} with the solution data:"
   ]
  },
  {
   "cell_type": "code",
   "execution_count": null,
   "id": "f7556661",
   "metadata": {},
   "outputs": [],
   "source": [
    "U = m.solve()"
   ]
  },
  {
   "cell_type": "markdown",
   "id": "bfca72c7",
   "metadata": {},
   "source": [
    "Finally, we visualize the solution:"
   ]
  },
  {
   "cell_type": "code",
   "execution_count": null,
   "id": "68c0b811",
   "metadata": {},
   "outputs": [],
   "source": [
    "m.visualize(U)"
   ]
  },
  {
   "cell_type": "markdown",
   "id": "dfc90944",
   "metadata": {},
   "source": [
    "In case a specific grid type shall be used ({{ RectGrid }} or\n",
    "{{ TriaGrid }}), the corresponding class has to be passed to the\n",
    "discretizer as the `grid_type` argument. By using {{ RectGrid }} we get\n",
    "bilinear finite elements:"
   ]
  },
  {
   "cell_type": "code",
   "execution_count": null,
   "id": "0c68aa19",
   "metadata": {},
   "outputs": [],
   "source": [
    "m, data = discretize_stationary_cg(problem, diameter=1/4, grid_type=RectGrid)\n",
    "m.visualize(m.solve())"
   ]
  },
  {
   "cell_type": "markdown",
   "id": "0815bd24",
   "metadata": {},
   "source": [
    "We get a finite volume model using\n",
    "{func}`~pymor.discretizers.builtin.fv.discretize_stationary_fv`:"
   ]
  },
  {
   "cell_type": "code",
   "execution_count": null,
   "id": "88425c3b",
   "metadata": {},
   "outputs": [],
   "source": [
    "m, data = discretize_stationary_fv(problem, diameter=1/4, grid_type=TriaGrid)\n",
    "m.visualize(m.solve())"
   ]
  },
  {
   "cell_type": "markdown",
   "id": "359bbf27",
   "metadata": {},
   "source": [
    "## Defining boundary conditions\n",
    "\n",
    "As the vigilant reader will already have noticed, we did not specify any\n",
    "boundary conditions when defining and solving our problem. When no\n",
    "boundary conditions are specified, pyMOR’s discretization toolkit will\n",
    "assume that homogeneous Dirichlet conditions are implied over the entire\n",
    "boundary of {math}`\\Omega`.\n",
    "\n",
    "As the next example, let us now assume that the data functions are given\n",
    "by\n",
    "\n",
    "```{math}\n",
    "f(x, \\mu) :\\equiv 0 \\quad\\text{and}\\quad\n",
    "\\sigma(x, \\mu) :=\n",
    "\\begin{cases}\n",
    "   0.001, & |x - (0.5, 0.5)| < 0.3, \\\\\n",
    "   1, & \\text{otherwise},\n",
    "\\end{cases}\n",
    "```\n",
    "\n",
    "and that we have the following mixed boundary conditions\n",
    "\n",
    "```{math}\n",
    "\\begin{align}\n",
    " -\\sigma(x, \\mu) \\nabla u(x, \\mu) \\cdot n &= g_N(x), && x \\in (0,1) \\times \\{0\\} =: \\Omega_N \\\\\n",
    " u(x, \\mu) &= 0, && x \\in \\partial\\Omega \\setminus \\Omega_N,\n",
    "\\end{align}\n",
    "```\n",
    "\n",
    "with {math}`g_N(x) \\equiv -1`.\n",
    "\n",
    "Before solving this problem, let us first silence pyMOR’s verbose log\n",
    "messages for the rest of this tutorial using the {func}`~pymor.core.logger.set_log_levels`\n",
    "method:"
   ]
  },
  {
   "cell_type": "code",
   "execution_count": null,
   "id": "f521ed22",
   "metadata": {},
   "outputs": [],
   "source": [
    "set_log_levels({'pymor': 'WARN'})"
   ]
  },
  {
   "cell_type": "markdown",
   "id": "3b7afc62",
   "metadata": {},
   "source": [
    "To impose the correct boundary conditions we need to declare which type of\n",
    "boundary condition should be active on which part of\n",
    "{math}`\\partial\\Omega` when defining the computational domain:"
   ]
  },
  {
   "cell_type": "code",
   "execution_count": null,
   "id": "51856b9d",
   "metadata": {},
   "outputs": [],
   "source": [
    "domain = RectDomain(bottom='neumann')"
   ]
  },
  {
   "cell_type": "markdown",
   "id": "5a2acd14",
   "metadata": {},
   "source": [
    "Then all we need is to pass the Neumann data function {math}`g_N` to the\n",
    "{{ StationaryProblem }}. Here, we can use again a {{ ConstantFunction }}.\n",
    "The diffusivity can be defined similarly as above:"
   ]
  },
  {
   "cell_type": "code",
   "execution_count": null,
   "id": "35cc5263",
   "metadata": {},
   "outputs": [],
   "source": [
    "neumann_data = ConstantFunction(-1., 2)\n",
    "\n",
    "diffusion = ExpressionFunction('1. - (sqrt( (x[0]-0.5)**2 + (x[1]-0.5)**2) <= 0.3) * 0.999' , 2)\n",
    "\n",
    "problem = StationaryProblem(\n",
    "   domain=domain,\n",
    "   diffusion=diffusion,\n",
    "   neumann_data=neumann_data\n",
    ")"
   ]
  },
  {
   "cell_type": "markdown",
   "id": "2830899f",
   "metadata": {},
   "source": [
    "Finally, we discretize and solve:"
   ]
  },
  {
   "cell_type": "code",
   "execution_count": null,
   "id": "78484289",
   "metadata": {},
   "outputs": [],
   "source": [
    "m, data = discretize_stationary_cg(problem, diameter=1/32)\n",
    "m.visualize(m.solve())"
   ]
  },
  {
   "cell_type": "markdown",
   "id": "f21d5373",
   "metadata": {},
   "source": [
    "## Another example\n",
    "\n",
    "Even with a single {{ ExpressionFunction }} we can build many different examples.\n",
    "For instance, to let {math}`\\sigma` be given by a periodic pattern of\n",
    "{math}`K\\times K` circular disks of radius {math}`0.3/K` we can use the\n",
    "following definition:"
   ]
  },
  {
   "cell_type": "code",
   "execution_count": null,
   "id": "2a892efe",
   "metadata": {},
   "outputs": [],
   "source": [
    "diffusion = ExpressionFunction(\n",
    "   '1. - (sqrt( ((x[0] % (1./K))-0.5/K)**2 + ((x[1] % (1./K))-0.5/K)**2) <= 0.3/K) * 0.999',\n",
    "   2, values={'K': 10}\n",
    ")"
   ]
  },
  {
   "cell_type": "markdown",
   "id": "2092c866",
   "metadata": {},
   "source": [
    "Here, we have used the `values` parameter of {{ ExpressionFunction }} to\n",
    "make `K` available as an additional constant in the defining\n",
    "expression. In particular, we can easily change `K` programatically\n",
    "without having to resort to string manipulations. The solution looks\n",
    "like this:"
   ]
  },
  {
   "cell_type": "code",
   "execution_count": null,
   "id": "2a2284e4",
   "metadata": {},
   "outputs": [],
   "source": [
    "problem = StationaryProblem(\n",
    "   domain=domain,\n",
    "   diffusion=diffusion,\n",
    "   neumann_data=neumann_data\n",
    ")\n",
    "\n",
    "\n",
    "m, data = discretize_stationary_cg(problem, diameter=1/100)\n",
    "m.visualize(m.solve())"
   ]
  },
  {
   "cell_type": "markdown",
   "id": "70cdec13",
   "metadata": {},
   "source": [
    "## Data functions defined from pixel graphics\n",
    "\n",
    "{{ BitmapFunction }} uses the Python Imaging Library (PIL) to read gray\n",
    "scale images in various image file formats. The resulting\n",
    "two-dimensional NumPy array of pixel values defines a piecewise constant\n",
    "data function on a rectangular domain, where the range of the function\n",
    "(from black to white) is specified via the `range` parameter. For\n",
    "instance, when using a {{ BitmapFunction }} for {math}`\\sigma` with the\n",
    "following graphic stored in `RB.png`:\n",
    "\n",
    "```{image} RB.png\n",
    "\n",
    "```\n",
    "\n",
    "and a range of `[0.001 1]` we obtain:"
   ]
  },
  {
   "cell_type": "code",
   "execution_count": null,
   "id": "d11d2b13",
   "metadata": {},
   "outputs": [],
   "source": [
    "diffusion = BitmapFunction('RB.png', range=[0.001, 1])\n",
    "problem = StationaryProblem(\n",
    "   domain=domain,\n",
    "   diffusion=diffusion,\n",
    "   neumann_data=neumann_data\n",
    ")\n",
    "\n",
    "m, data = discretize_stationary_cg(problem, diameter=1/100)\n",
    "m.visualize(m.solve())"
   ]
  },
  {
   "cell_type": "markdown",
   "id": "ebce2130",
   "metadata": {},
   "source": [
    "The displayed warning results from the fact that the used image file has\n",
    "an additional channel of transparency values (alpha channel) and can be\n",
    "ignored.\n",
    "\n",
    "## A parametric problem\n",
    "\n",
    "Now, let us consider the Neumann data function:\n",
    "\n",
    "```{math}\n",
    "g_N((x_0, x_1), \\mu_{neum}) := -\\cos(\\pi \\cdot x_0)^2 \\cdot\\mu_{neum}\n",
    "```\n",
    "\n",
    "with a single {{ Parameter }} {math}`\\mu_{neum} \\in \\mathbb{R}`.\n",
    "\n",
    "In pyMOR, {{ parameter_values }} are specified as a dictionary of one-dimensional\n",
    "{{ NumPy_arrays }}. Each value in the dictionary must have a correct size specified by the\n",
    "{{ Parameters }} of the {{ ParametricObject }}. In this example we have a single scalar\n",
    "valued parameter which we call `'neum'`. Thus, the {{ Parameters }} of the function\n",
    "will be\n",
    "\n",
    "```\n",
    "{'neum': 1}\n",
    "```\n",
    "\n",
    "We can then make the following definition of the Neumann data:"
   ]
  },
  {
   "cell_type": "code",
   "execution_count": null,
   "id": "661dce15",
   "metadata": {},
   "outputs": [],
   "source": [
    "neumann_data = ExpressionFunction('-cos(pi*x[0])**2*neum[0]', 2, parameters= {'neum': 1})"
   ]
  },
  {
   "cell_type": "markdown",
   "id": "df1272b0",
   "metadata": {},
   "source": [
    "Similar to the range of the function, pyMOR cannot infer from the given\n",
    "string expression the parameters used in the expression, so these\n",
    "{{ Parameters }} have to be provided as the `parameters` argument.\n",
    "The individual parameters are then available as variables in\n",
    "the expression.\n",
    "\n",
    "We can then proceed as usual and automatically obtain a parametric\n",
    "{{ Model }}:"
   ]
  },
  {
   "cell_type": "code",
   "execution_count": null,
   "id": "aa9e120d",
   "metadata": {},
   "outputs": [],
   "source": [
    "diffusion = ExpressionFunction(\n",
    "   '1. - (sqrt( ((x[0] % (1./K))-0.5/K)**2 + ((x[1] % (1./K))-0.5/K)**2) <= 0.3/K) * 0.999',\n",
    "   2, values={'K': 10}\n",
    ")\n",
    "problem = StationaryProblem(\n",
    "   domain=domain,\n",
    "   diffusion=diffusion,\n",
    "   neumann_data=neumann_data\n",
    ")\n",
    "\n",
    "m, data = discretize_stationary_cg(problem, diameter=1/100)\n",
    "m.parameters"
   ]
  },
  {
   "cell_type": "markdown",
   "id": "f00e539b",
   "metadata": {},
   "source": [
    "When solving the model, we now need to specify appropriate\n",
    "{{ parameter_values }}:"
   ]
  },
  {
   "cell_type": "code",
   "execution_count": null,
   "id": "6a511e39",
   "metadata": {},
   "outputs": [],
   "source": [
    "m.visualize(m.solve({'neum': [1.]}))"
   ]
  },
  {
   "cell_type": "markdown",
   "id": "65d6d4ce",
   "metadata": {},
   "source": [
    "For the {meth}`~pymor.models.interface.Model.solve` method, the\n",
    "parameter value can also be specified as a single number:"
   ]
  },
  {
   "cell_type": "code",
   "execution_count": null,
   "id": "ddc3a69e",
   "metadata": {},
   "outputs": [],
   "source": [
    "m.visualize(m.solve(-100))"
   ]
  },
  {
   "cell_type": "markdown",
   "id": "4db3637b",
   "metadata": {},
   "source": [
    "## Multiple parameters\n",
    "\n",
    "Next we also want to parameterize the diffusivity in the\n",
    "{math}`K \\times K` circular disks by a scalar factor\n",
    "{math}`\\mu_{diffu}`. To this end we define:"
   ]
  },
  {
   "cell_type": "code",
   "execution_count": null,
   "id": "1fc7cabb",
   "metadata": {},
   "outputs": [],
   "source": [
    "diffusion = ExpressionFunction(\n",
    "   '1. - (sqrt( ((x[0] % (1./K))-0.5/K)**2 + ((x[1] % (1./K))-0.5/K)**2) <= 0.3/K) * (1 - diffu[0])',\n",
    "   2, values={'K': 10},\n",
    "   parameters= {'diffu': 1}\n",
    ")"
   ]
  },
  {
   "cell_type": "markdown",
   "id": "14a24ce5",
   "metadata": {},
   "source": [
    "We proceed as usual:"
   ]
  },
  {
   "cell_type": "code",
   "execution_count": null,
   "id": "149ef5bf",
   "metadata": {},
   "outputs": [],
   "source": [
    "problem = StationaryProblem(\n",
    "   domain=domain,\n",
    "   diffusion=diffusion,\n",
    "   neumann_data=neumann_data\n",
    ")\n",
    "\n",
    "m, data = discretize_stationary_cg(problem, diameter=1/100)\n",
    "m.parameters"
   ]
  },
  {
   "cell_type": "markdown",
   "id": "07adf85c",
   "metadata": {},
   "source": [
    "As we can see, pyMOR automatically derives that in this case the model\n",
    "depends on two {{ Parameters }}, and we have to provide two values\n",
    "when solving the model:"
   ]
  },
  {
   "cell_type": "code",
   "execution_count": null,
   "id": "d8261d0e",
   "metadata": {},
   "outputs": [],
   "source": [
    "m.visualize(m.solve({'diffu': 0.001, 'neum': 1}))"
   ]
  },
  {
   "cell_type": "markdown",
   "id": "4086c551",
   "metadata": {},
   "source": [
    "For {meth}`~pymor.models.interface.Model.solve` we can also\n",
    "simply pass a list of parameter values, in which case\n",
    "pyMOR assumes an alphabetical ordering of the parameters:"
   ]
  },
  {
   "cell_type": "code",
   "execution_count": null,
   "id": "51713a95",
   "metadata": {},
   "outputs": [],
   "source": [
    "m.visualize(m.solve([1, -1]))"
   ]
  },
  {
   "cell_type": "markdown",
   "id": "ee864b43",
   "metadata": {},
   "source": [
    "## Parameter-separability\n",
    "\n",
    "For the generation of online-efficient reduced-order models, it is often\n",
    "crucial that data functions are parameter separable. We call a\n",
    "parametric function `f(x, \\mu)` parameter separable if it admits a\n",
    "decomposition\n",
    "\n",
    "```{math}\n",
    "f(x, \\mu) = \\sum_{q=1}^Q f_q(x) \\cdot \\theta_q(\\mu)\n",
    "```\n",
    "\n",
    "where the {math}`f_q` are non-parametric and the *parameter\n",
    "functionals* {math}`\\theta_q` map parameters to real numbers.\n",
    "\n",
    "To model such a decomposition using pyMOR’s discretization toolkit, we\n",
    "specify the {math}`f_q` as non-parametric {{ Functions }}, the\n",
    "{math}`\\theta_q` are represented by {{ ParameterFunctionals }} and the\n",
    "given sum decomposition is represented by a {{ LincombFunction }} of these\n",
    "objects.\n",
    "\n",
    "As an example let us go back to the case where the diffusivity is\n",
    "represented by indicator functions of point sets forming the letters\n",
    "`RB`. We now want to parameterize the diffusivity in the individual\n",
    "letters. This admits a decomposition of the form\n",
    "\n",
    "```{math}\n",
    "\\sigma(x,y) = 1 + f_R \\cdot (\\mu_R - 1) + f_B \\cdot (\\mu_L - 1)\n",
    "```\n",
    "\n",
    "Again, we define {math}`f_R` and {math}`f_L` as {{ BitmapFunctions }} for\n",
    "the following image files:\n",
    "\n",
    "```{image} R.png\n",
    "\n",
    "```\n",
    "\n",
    "```{image} B.png\n",
    "\n",
    "```"
   ]
  },
  {
   "cell_type": "code",
   "execution_count": null,
   "id": "836812b3",
   "metadata": {},
   "outputs": [],
   "source": [
    "f_R = BitmapFunction('R.png', range=[1, 0])\n",
    "f_B = BitmapFunction('B.png', range=[1, 0])"
   ]
  },
  {
   "cell_type": "markdown",
   "id": "a05a144f",
   "metadata": {},
   "source": [
    "Next we need to define the {{ ParameterFunctionals }}\n",
    "\n",
    "```{math}\n",
    "\\theta_R(\\mu) = \\mu_R - 1 \\quad\\text{and}\\quad \\theta_B(\\mu) = \\mu_B - 1.\n",
    "```\n",
    "\n",
    "Similar to an {{ ExpressionFunction }}, we can use\n",
    "{{ ExpressionParameterFunctionals }} for that:"
   ]
  },
  {
   "cell_type": "code",
   "execution_count": null,
   "id": "816987ce",
   "metadata": {},
   "outputs": [],
   "source": [
    "theta_R = ExpressionParameterFunctional('R[0] - 1', {'R': 1})\n",
    "theta_B = ExpressionParameterFunctional('B[0] - 1', {'B': 1})"
   ]
  },
  {
   "cell_type": "markdown",
   "id": "6c884132",
   "metadata": {},
   "source": [
    "Note that the second argument is again the {{ Parameters }}\n",
    "that are used in the expression. Finally, we form the linear\n",
    "combination using a {{ LincombFunction }} which is given a list of\n",
    "{{ Functions }} as the first and a corresponding list of\n",
    "{{ ParameterFunctionals }} or constants as the second argument:"
   ]
  },
  {
   "cell_type": "code",
   "execution_count": null,
   "id": "508dedbd",
   "metadata": {},
   "outputs": [],
   "source": [
    "diffusion = LincombFunction(\n",
    "   [ConstantFunction(1., 2), f_R, f_B],\n",
    "   [1., theta_R, theta_B]\n",
    ")\n",
    "diffusion.parameters"
   ]
  },
  {
   "cell_type": "markdown",
   "id": "b8033240",
   "metadata": {},
   "source": [
    "Again, pyMOR automatically derives that the evaluation of `diffusion`\n",
    "depends on the two {{ Parameters }} `'B'` and `'R'`. Now, we can\n",
    "proceed as usual:"
   ]
  },
  {
   "cell_type": "code",
   "execution_count": null,
   "id": "585553bd",
   "metadata": {},
   "outputs": [],
   "source": [
    "problem = StationaryProblem(\n",
    "   domain=domain,\n",
    "   diffusion=diffusion,\n",
    "   neumann_data=ConstantFunction(-1, 2)\n",
    ")\n",
    "m, data = discretize_stationary_cg(problem, diameter=1/100)\n",
    "m.visualize((m.solve([1., 0.001]), m.solve([0.001, 1])))"
   ]
  },
  {
   "cell_type": "markdown",
   "id": "b5ab8a5b",
   "metadata": {},
   "source": [
    "Looking at the {{ Model }} `m`, we can see that the decomposition of\n",
    "{math}`\\sigma` has been preserved by the discretizer:"
   ]
  },
  {
   "cell_type": "code",
   "execution_count": null,
   "id": "5e345ada",
   "metadata": {},
   "outputs": [],
   "source": [
    "m.operator"
   ]
  },
  {
   "cell_type": "markdown",
   "id": "7ea837d5",
   "metadata": {},
   "source": [
    "The {{ LincombFunction }} has become a {{ LincombOperator }}, with the same\n",
    "linear coefficients but the {{ BitmapFunctions }} replaced by\n",
    "corresponding stiffness matrices. Note that an additional summand\n",
    "appears which ensures correct enforcement of Dirichlet boundary values\n",
    "for all possible parameter value combinations.\n",
    "\n",
    "Download the code:\n",
    "{download}`tutorial_builtin_discretizer.md`\n",
    "{nb-download}`tutorial_builtin_discretizer.ipynb`"
   ]
  }
 ],
 "metadata": {
  "jupyter": {
   "jupytext": {
    "cell_metadata_filter": "-all",
    "formats": "ipynb,myst",
    "main_language": "python",
    "text_representation": {
     "extension": ".md",
     "format_name": "myst",
     "format_version": "1.3",
     "jupytext_version": "1.11.2"
    }
   }
  },
  "kernelspec": {
   "display_name": "Python 3",
   "name": "python3"
  }
 },
 "nbformat": 4,
 "nbformat_minor": 5
}
