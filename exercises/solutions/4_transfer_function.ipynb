{
 "cells": [
  {
   "cell_type": "code",
   "execution_count": null,
   "id": "c3d917d2",
   "metadata": {},
   "outputs": [],
   "source": [
    "import numpy as np\n",
    "import matplotlib.pyplot as plt"
   ]
  },
  {
   "cell_type": "code",
   "execution_count": null,
   "id": "2a36f36f",
   "metadata": {},
   "outputs": [],
   "source": [
    "plt.rcParams['font.size'] = 12\n",
    "plt.rcParams['figure.figsize'] = [9., 6.]"
   ]
  },
  {
   "cell_type": "markdown",
   "id": "e9b298e0",
   "metadata": {},
   "source": [
    "# Full-order model"
   ]
  },
  {
   "cell_type": "markdown",
   "id": "55ad6196",
   "metadata": {},
   "source": [
    "Let us consider a heat equation on a half-infinite rod:\n",
    "$$\n",
    "\\begin{align*}\n",
    "  \\partial_t T(\\xi, t) & = \\partial_{\\xi}^2 T(\\xi, t), & \\xi > 0, t > 0, \\\\\n",
    "  T(0, t) & = u(t), \\\\\n",
    "  \\lim_{\\xi \\to \\infty }T(\\xi, t) & = 0, \\\\\n",
    "  T(\\xi, 0) & = 0, \\\\\n",
    "  y(t) & = T(1, t).\n",
    "\\end{align*}\n",
    "$$"
   ]
  },
  {
   "cell_type": "markdown",
   "id": "ffc1a2fa",
   "metadata": {},
   "source": [
    "The Laplace transform applied to this system gives:\n",
    "$$\n",
    "\\begin{align*}\n",
    "  s T(\\xi, s) & = \\partial_{\\xi}^2 T(\\xi, s), & \\xi > 0, s \\in \\mathbb{C}_+, \\\\\n",
    "  T(0, s) & = u(s), \\\\\n",
    "  y(s) & = T(1, s).\n",
    "\\end{align*}\n",
    "$$"
   ]
  },
  {
   "cell_type": "markdown",
   "id": "c3f5901e",
   "metadata": {},
   "source": [
    "The solutions of the PDE in the first equation are of the form:\n",
    "$$T(\\xi, s) = c_1 e^{\\sqrt{s} \\xi} + c_2 e^{-\\sqrt{s} \\xi}.$$\n",
    "For the right boundary condition to be satisfied, we must have $c_1 = 0$.\n",
    "Then, from the left boundary condition, we get that $c_2 = u(s)$.\n",
    "Therefore,\n",
    "$$T(\\xi, s) = e^{-\\sqrt{s} \\xi} u(s),$$\n",
    "from which we see that\n",
    "$$y(s) = e^{-\\sqrt{s}} u(s).$$\n",
    "Finally, the transfer function is\n",
    "$$H(s) = e^{-\\sqrt{s}}.$$\n",
    "The derivative is\n",
    "$$H'(s) = -\\frac{e^{-\\sqrt{s}}}{2 \\sqrt{s}}.$$"
   ]
  },
  {
   "cell_type": "code",
   "execution_count": null,
   "id": "e2626276",
   "metadata": {},
   "outputs": [],
   "source": [
    "from pymor.models.iosys import TransferFunction"
   ]
  },
  {
   "cell_type": "code",
   "execution_count": null,
   "id": "343986e7",
   "metadata": {},
   "outputs": [],
   "source": [
    "H = lambda s: np.array([[np.exp(-np.sqrt(s))]])\n",
    "dH = lambda s: np.array([[-np.exp(-np.sqrt(s)) / (2 * np.sqrt(s))]])\n",
    "tf = TransferFunction(1, 1, H, dH)"
   ]
  },
  {
   "cell_type": "markdown",
   "id": "e274ac10",
   "metadata": {},
   "source": [
    "# TF-IRKA"
   ]
  },
  {
   "cell_type": "code",
   "execution_count": null,
   "id": "fb9cd750",
   "metadata": {},
   "outputs": [],
   "source": [
    "from pymor.reductors.h2 import TFIRKAReductor"
   ]
  },
  {
   "cell_type": "code",
   "execution_count": null,
   "id": "636e401f",
   "metadata": {},
   "outputs": [],
   "source": [
    "tfirka = TFIRKAReductor(tf)"
   ]
  },
  {
   "cell_type": "code",
   "execution_count": null,
   "id": "aeb97675",
   "metadata": {},
   "outputs": [],
   "source": [
    "rom = tfirka.reduce(10)"
   ]
  },
  {
   "cell_type": "code",
   "execution_count": null,
   "id": "3ae4b30d",
   "metadata": {},
   "outputs": [],
   "source": [
    "_ = plt.plot(rom.poles().real, rom.poles().imag, '.')"
   ]
  },
  {
   "cell_type": "code",
   "execution_count": null,
   "id": "5b715a1c",
   "metadata": {},
   "outputs": [],
   "source": [
    "w = np.logspace(-4, 3, 100)\n",
    "fig, ax = plt.subplots(2, 1, squeeze=False, tight_layout=True, figsize=(9, 12))\n",
    "_ = tf.bode_plot(w, ax=ax)\n",
    "_ = rom.bode_plot(w, ax=ax, linestyle='--')"
   ]
  },
  {
   "cell_type": "code",
   "execution_count": null,
   "id": "bbce1ee1",
   "metadata": {},
   "outputs": [],
   "source": [
    "err = tf - rom"
   ]
  },
  {
   "cell_type": "code",
   "execution_count": null,
   "id": "39752e18",
   "metadata": {},
   "outputs": [],
   "source": [
    "_ = err.mag_plot(w)"
   ]
  },
  {
   "cell_type": "code",
   "execution_count": null,
   "id": "0b6c8c8d",
   "metadata": {},
   "outputs": [],
   "source": [
    "err.h2_norm() / tf.h2_norm()"
   ]
  }
 ],
 "metadata": {
  "kernelspec": {
   "display_name": "Python 3 (ipykernel)",
   "language": "python",
   "name": "python3"
  },
  "language_info": {
   "codemirror_mode": {
    "name": "ipython",
    "version": 3
   },
   "file_extension": ".py",
   "mimetype": "text/x-python",
   "name": "python",
   "nbconvert_exporter": "python",
   "pygments_lexer": "ipython3",
   "version": "3.7.11"
  }
 },
 "nbformat": 4,
 "nbformat_minor": 5
}
