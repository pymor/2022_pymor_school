{
 "cells": [
  {
   "cell_type": "code",
   "execution_count": null,
   "id": "b68242ab",
   "metadata": {},
   "outputs": [],
   "source": [
    "import numpy as np\n",
    "import scipy.linalg as spla\n",
    "import scipy.sparse as sps\n",
    "import matplotlib.pyplot as plt\n",
    "\n",
    "from pymor.models.iosys import LTIModel"
   ]
  },
  {
   "cell_type": "code",
   "execution_count": null,
   "id": "8c7908a9",
   "metadata": {},
   "outputs": [],
   "source": [
    "plt.rcParams['font.size'] = 12\n",
    "plt.rcParams['figure.figsize'] = [9., 6.]"
   ]
  },
  {
   "cell_type": "markdown",
   "id": "d3e9d3e2",
   "metadata": {},
   "source": [
    "# Building an LTIModel"
   ]
  },
  {
   "cell_type": "markdown",
   "id": "21732264",
   "metadata": {},
   "source": [
    "## Heat equation over a steel rod\n",
    "\n",
    "In this exercise we consider [heat flow in a uniform rod](https://en.wikipedia.org/wiki/Heat_equation#Heat_flow_in_a_uniform_rod). In this model the temperature average over the entire rod as well as the temperature on the left-hand side are measured. Additionally, the heat flux on the left-hand side of the rod can be controlled by an input $u(t)$.\n",
    "\n",
    "$$\n",
    "\\begin{align*}\n",
    "  \\partial_t T(\\xi, t) & = \\alpha \\partial_{\\xi\\xi} T(\\xi, t), & \\xi \\in (0, 1),\\ t > 0, \\\\\n",
    "  \\partial_{\\xi} T(0, t) & = T(0, t) - u(t), & t > 0, \\\\\n",
    "  \\partial_{\\xi} T(1, t) & = -T(0, t), & t > 0, \\\\\n",
    "  y_1(t) & = T(0, t), & t > 0, \\\\\n",
    "  y_2(t) & = \\int_0^1 T(\\xi, t) \\,\\mathrm{d}\\xi, & t > 0.\n",
    "\\end{align*}\n",
    "$$\n",
    "\n",
    "$\\alpha = 1.172 \\times 10^{-5} \\frac{\\text{m}^2}{\\text{s}}$"
   ]
  },
  {
   "cell_type": "markdown",
   "id": "c3c6c03b",
   "metadata": {},
   "source": [
    "## Central difference discretization\n",
    "\n",
    "We consider $n$ equidistant grid points for a central difference discretization:\n",
    "\n",
    "$0 = \\xi_1 < \\xi_2 < \\ldots < \\xi_n = 1$,\n",
    "$h = \\frac{1}{n - 1}$,\n",
    "$\\xi_k = (k - 1) h$,\n",
    "$$\n",
    "\\begin{align*}\n",
    "  \\dot{x}_k(t) & = \\alpha \\frac{x_{k - 1}(t) - 2 x_k(t) + x_{k + 1}(t)}{h^2}, & k = 1, 2, \\ldots, n, \\\\\n",
    "  \\frac{x_2(t) - x_0(t)}{2 h} & = x_1(t) - u(t), \\\\\n",
    "  \\frac{x_{n + 1}(t) - x_{n - 1}(t)}{2 h} & = -x_n(t), \\\\\n",
    "  y_1(t) & = x_1(t), \\\\\n",
    "  y_2(t) & = \\frac{1}{n} \\sum_{k = 1}^n x_k(t).\n",
    "\\end{align*}\n",
    "$$"
   ]
  },
  {
   "cell_type": "markdown",
   "id": "de00bc84",
   "metadata": {},
   "source": [
    "## Simplification\n",
    "\n",
    "$$\n",
    "\\begin{align*}\n",
    "  \\frac{1}{2} \\dot{x}_1(t) & = \\alpha \\frac{-(1 + h) x_1(t) + x_2(t)}{h^2} + \\frac{\\alpha}{h} u(t), \\\\\n",
    "  \\dot{x}_k(t) & = \\alpha \\frac{x_{k - 1}(t) - 2 x_k(t) + x_{k + 1}(t)}{h^2}, & k = 2, 3, \\ldots, n - 1, \\\\\n",
    "  \\frac{1}{2} \\dot{x}_n(t) & = \\alpha \\frac{x_{n - 1}(t) - (1 + h) x_n(t)}{h^2}, \\\\\n",
    "  y_1(t) & = x_1(t), \\\\\n",
    "  y_2(t) & = \\frac{1}{n} \\sum_{k = 1}^n x_k(t).\n",
    "\\end{align*}\n",
    "$$"
   ]
  },
  {
   "cell_type": "code",
   "execution_count": null,
   "id": "3bc23533",
   "metadata": {},
   "outputs": [],
   "source": [
    "n = 100\n",
    "\n",
    "E = sps.eye(n, format='lil')\n",
    "E[0, 0] = E[-1, -1] = 0.5\n",
    "E = E.tocsc()\n",
    "\n",
    "alpha = 1.172e-5\n",
    "c = alpha * (n - 1)**2\n",
    "A = sps.diags([(n - 1) * [c], n * [-2 * c], (n - 1) * [c]], [-1, 0, 1], format='lil')\n",
    "A[0, 0] = -alpha * (n - 1) * n\n",
    "A[-1, -1] = -alpha * (n - 1) * n\n",
    "A = A.tocsc()\n",
    "\n",
    "B = np.zeros((n, 1))\n",
    "B[0, 0] = alpha * (n - 1)\n",
    "\n",
    "C = np.zeros((2, n))\n",
    "C[0, -1] = 1\n",
    "C[1, :] = 1/n"
   ]
  },
  {
   "cell_type": "markdown",
   "id": "5c19c222",
   "metadata": {},
   "source": [
    "Build an LTIModel from matrices A, B, C, E."
   ]
  },
  {
   "cell_type": "code",
   "execution_count": null,
   "id": "2418801f",
   "metadata": {},
   "outputs": [],
   "source": [
    "fom = ..."
   ]
  },
  {
   "cell_type": "code",
   "execution_count": null,
   "id": "59ab66d4",
   "metadata": {},
   "outputs": [],
   "source": [
    "fom"
   ]
  },
  {
   "cell_type": "code",
   "execution_count": null,
   "id": "67fc12ee",
   "metadata": {},
   "outputs": [],
   "source": [
    "print(fom)"
   ]
  },
  {
   "cell_type": "markdown",
   "id": "8bedd093",
   "metadata": {},
   "source": [
    "## Poles"
   ]
  },
  {
   "cell_type": "markdown",
   "id": "8bd283f3",
   "metadata": {},
   "source": [
    "Compute the poles using `fom.poles` and plot them."
   ]
  },
  {
   "cell_type": "code",
   "execution_count": null,
   "id": "0359c067",
   "metadata": {},
   "outputs": [],
   "source": []
  },
  {
   "cell_type": "markdown",
   "id": "850c42bf",
   "metadata": {},
   "source": [
    "## Bode plot"
   ]
  },
  {
   "cell_type": "markdown",
   "id": "6f718cb4",
   "metadata": {},
   "source": [
    "Plot the bode plot in the interval $[10^{-8}, 10]$ using `fom.transfer_function.bode_plot`. (Hint: [np.logspace](https://numpy.org/doc/stable/reference/generated/numpy.logspace.html) might be helpful.)"
   ]
  },
  {
   "cell_type": "code",
   "execution_count": null,
   "id": "d2df71d2",
   "metadata": {},
   "outputs": [],
   "source": []
  },
  {
   "cell_type": "markdown",
   "id": "81042870",
   "metadata": {},
   "source": [
    "## Magnitude plot"
   ]
  },
  {
   "cell_type": "markdown",
   "id": "2177c846",
   "metadata": {},
   "source": [
    "Plot the magnitude plot in the interval $[10^{-8}, 10]$ using `fom.transfer_function.mag_plot`."
   ]
  },
  {
   "cell_type": "code",
   "execution_count": null,
   "id": "395737a3",
   "metadata": {},
   "outputs": [],
   "source": []
  },
  {
   "cell_type": "markdown",
   "id": "df48a78b",
   "metadata": {},
   "source": [
    "## Hankel singular values"
   ]
  },
  {
   "cell_type": "markdown",
   "id": "d844975f",
   "metadata": {},
   "source": [
    "Compute the Hankel singular values using `fom.hsv` and plot them."
   ]
  },
  {
   "cell_type": "code",
   "execution_count": null,
   "id": "67cbdf41",
   "metadata": {},
   "outputs": [],
   "source": []
  },
  {
   "cell_type": "markdown",
   "id": "06c13993",
   "metadata": {},
   "source": [
    "## $\\mathcal{H}_2$ norm"
   ]
  },
  {
   "cell_type": "markdown",
   "id": "daa4eeb0",
   "metadata": {},
   "source": [
    "Compute the $\\mathcal{H}_2$ norm using `fom.h2_norm`."
   ]
  },
  {
   "cell_type": "code",
   "execution_count": null,
   "id": "aeaa55dc",
   "metadata": {},
   "outputs": [],
   "source": []
  },
  {
   "cell_type": "markdown",
   "id": "e0f1de79",
   "metadata": {},
   "source": [
    "## $\\mathcal{H}_\\infty$ norm"
   ]
  },
  {
   "cell_type": "markdown",
   "id": "4bfba665",
   "metadata": {},
   "source": [
    "Compute the $\\mathcal{H}_\\infty$ norm using `fom.hinf_norm` (needs Slycot)."
   ]
  },
  {
   "cell_type": "code",
   "execution_count": null,
   "id": "e41d19b8",
   "metadata": {},
   "outputs": [],
   "source": []
  },
  {
   "cell_type": "markdown",
   "id": "44b5c79b",
   "metadata": {},
   "source": [
    "# Balanced Truncation"
   ]
  },
  {
   "cell_type": "code",
   "execution_count": null,
   "id": "3099b28e",
   "metadata": {},
   "outputs": [],
   "source": [
    "from pymor.reductors.bt import BTReductor"
   ]
  },
  {
   "cell_type": "code",
   "execution_count": null,
   "id": "7aa79f7c",
   "metadata": {},
   "outputs": [],
   "source": [
    "bt = BTReductor(fom)"
   ]
  },
  {
   "cell_type": "markdown",
   "id": "b3f7bc2b",
   "metadata": {},
   "source": [
    "Compute a reduced-order model using `bt.reduce` with a tolerance of $10^{-5}$."
   ]
  },
  {
   "cell_type": "code",
   "execution_count": null,
   "id": "a0dbe3c7",
   "metadata": {},
   "outputs": [],
   "source": [
    "rom_bt = ..."
   ]
  },
  {
   "cell_type": "markdown",
   "id": "95ba3419",
   "metadata": {},
   "source": [
    "Compute another reduced-order model of order $10$ using `bt.reduce`."
   ]
  },
  {
   "cell_type": "code",
   "execution_count": null,
   "id": "69ad7fca",
   "metadata": {},
   "outputs": [],
   "source": [
    "rom_bt = ..."
   ]
  },
  {
   "cell_type": "code",
   "execution_count": null,
   "id": "f56354e2",
   "metadata": {},
   "outputs": [],
   "source": [
    "err_bt = fom - rom_bt"
   ]
  },
  {
   "cell_type": "markdown",
   "id": "08f9e8c8",
   "metadata": {},
   "source": [
    "## Poles"
   ]
  },
  {
   "cell_type": "markdown",
   "id": "e85181a6",
   "metadata": {},
   "source": [
    "Plot the poles of the reduced-order model."
   ]
  },
  {
   "cell_type": "code",
   "execution_count": null,
   "id": "6a925996",
   "metadata": {},
   "outputs": [],
   "source": []
  },
  {
   "cell_type": "markdown",
   "id": "4c628040",
   "metadata": {},
   "source": [
    "## Error magnitude plot"
   ]
  },
  {
   "cell_type": "markdown",
   "id": "6a03d43b",
   "metadata": {},
   "source": [
    "Plot the magnitude error plot of the error system in the interval $[10^{-8}, 10]$."
   ]
  },
  {
   "cell_type": "code",
   "execution_count": null,
   "id": "3b2cd4fe",
   "metadata": {},
   "outputs": [],
   "source": []
  },
  {
   "cell_type": "markdown",
   "id": "a59811ff",
   "metadata": {},
   "source": [
    "## Relative $\\mathcal{H}_2$ error"
   ]
  },
  {
   "cell_type": "markdown",
   "id": "b0c3fddb",
   "metadata": {},
   "source": [
    "Compute the relative $\\mathcal{H}_2$ error."
   ]
  },
  {
   "cell_type": "code",
   "execution_count": null,
   "id": "e507aad2",
   "metadata": {},
   "outputs": [],
   "source": []
  },
  {
   "cell_type": "markdown",
   "id": "3b96eed9",
   "metadata": {},
   "source": [
    "## Relative $\\mathcal{H}_\\infty$ error"
   ]
  },
  {
   "cell_type": "markdown",
   "id": "dc53deac",
   "metadata": {},
   "source": [
    "Compute the relative $\\mathcal{H}_\\infty$ error."
   ]
  },
  {
   "cell_type": "code",
   "execution_count": null,
   "id": "29508642",
   "metadata": {},
   "outputs": [],
   "source": []
  },
  {
   "cell_type": "markdown",
   "id": "02d09dd1",
   "metadata": {},
   "source": [
    "# IRKA"
   ]
  },
  {
   "cell_type": "code",
   "execution_count": null,
   "id": "96591e8b",
   "metadata": {},
   "outputs": [],
   "source": [
    "from pymor.reductors.h2 import IRKAReductor"
   ]
  },
  {
   "cell_type": "code",
   "execution_count": null,
   "id": "72239742",
   "metadata": {},
   "outputs": [],
   "source": [
    "irka = IRKAReductor(fom)"
   ]
  },
  {
   "cell_type": "markdown",
   "id": "1c33f233",
   "metadata": {},
   "source": [
    "Compute the reduced-order model using `irka.reduce`."
   ]
  },
  {
   "cell_type": "code",
   "execution_count": null,
   "id": "a306bf5c",
   "metadata": {},
   "outputs": [],
   "source": [
    "rom_irka = ..."
   ]
  },
  {
   "cell_type": "code",
   "execution_count": null,
   "id": "ca31ef10",
   "metadata": {},
   "outputs": [],
   "source": [
    "err_irka = fom - rom_irka"
   ]
  },
  {
   "cell_type": "markdown",
   "id": "e2951a50",
   "metadata": {},
   "source": [
    "## Poles"
   ]
  },
  {
   "cell_type": "markdown",
   "id": "69d83ad1",
   "metadata": {},
   "source": [
    "Plot the poles of the reduced-order model."
   ]
  },
  {
   "cell_type": "code",
   "execution_count": null,
   "id": "094378bf",
   "metadata": {},
   "outputs": [],
   "source": []
  },
  {
   "cell_type": "markdown",
   "id": "4e7406b1",
   "metadata": {},
   "source": [
    "## Error magnitude plot"
   ]
  },
  {
   "cell_type": "markdown",
   "id": "8b435fa5",
   "metadata": {},
   "source": [
    "Plot the magnitude error plot of the error system."
   ]
  },
  {
   "cell_type": "code",
   "execution_count": null,
   "id": "c754d125",
   "metadata": {},
   "outputs": [],
   "source": []
  },
  {
   "cell_type": "markdown",
   "id": "9886668b",
   "metadata": {},
   "source": [
    "## Relative $\\mathcal{H}_2$ error"
   ]
  },
  {
   "cell_type": "markdown",
   "id": "b6936969",
   "metadata": {},
   "source": [
    "Compute the relative $\\mathcal{H}_2$ error."
   ]
  },
  {
   "cell_type": "code",
   "execution_count": null,
   "id": "f50f1d06",
   "metadata": {},
   "outputs": [],
   "source": []
  },
  {
   "cell_type": "markdown",
   "id": "5e3102fb",
   "metadata": {},
   "source": [
    "## Relative $\\mathcal{H}_\\infty$ error"
   ]
  },
  {
   "cell_type": "markdown",
   "id": "b9e66f26",
   "metadata": {},
   "source": [
    "Compute the relative $\\mathcal{H}_\\infty$ error."
   ]
  },
  {
   "cell_type": "code",
   "execution_count": null,
   "id": "c82d62ae",
   "metadata": {},
   "outputs": [],
   "source": []
  }
 ],
 "metadata": {
  "kernelspec": {
   "display_name": "Python 3 (ipykernel)",
   "language": "python",
   "name": "python3"
  },
  "language_info": {
   "codemirror_mode": {
    "name": "ipython",
    "version": 3
   },
   "file_extension": ".py",
   "mimetype": "text/x-python",
   "name": "python",
   "nbconvert_exporter": "python",
   "pygments_lexer": "ipython3",
   "version": "3.8.13"
  }
 },
 "nbformat": 4,
 "nbformat_minor": 5
}
