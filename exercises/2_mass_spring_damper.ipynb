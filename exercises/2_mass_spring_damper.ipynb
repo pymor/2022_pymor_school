{
 "cells": [
  {
   "cell_type": "code",
   "execution_count": null,
   "id": "84346bda",
   "metadata": {},
   "outputs": [],
   "source": [
    "import numpy as np\n",
    "import scipy.linalg as spla\n",
    "import scipy.sparse as sps\n",
    "import matplotlib.pyplot as plt"
   ]
  },
  {
   "cell_type": "code",
   "execution_count": null,
   "id": "ef464460",
   "metadata": {},
   "outputs": [],
   "source": [
    "plt.rcParams['font.size'] = 12\n",
    "plt.rcParams['figure.figsize'] = [9., 6.]"
   ]
  },
  {
   "cell_type": "code",
   "execution_count": null,
   "id": "85bda8e6",
   "metadata": {},
   "outputs": [],
   "source": [
    "from pymor.core.logger import set_log_levels\n",
    "\n",
    "set_log_levels({'pymor.algorithms.gram_schmidt.gram_schmidt': 'ERROR'})"
   ]
  },
  {
   "cell_type": "markdown",
   "id": "e236b8d0",
   "metadata": {},
   "source": [
    "## Mass-spring-damper system\n",
    "In this exercise we consider a [mass-spring-damper model](https://en.wikipedia.org/wiki/Mass-spring-damper_model) in which $n$ masses are connected by springs and dampers."
   ]
  },
  {
   "cell_type": "code",
   "execution_count": null,
   "id": "39016a1d",
   "metadata": {},
   "outputs": [],
   "source": [
    "n = 100\n",
    "k = 1.\n",
    "d = 0.5\n",
    "\n",
    "M = sps.eye(n, format='csc')\n",
    "mat = sps.diags([(n - 1) * [-1], n * [2], (n - 1) * [-1]], [-1, 0, 1], format='csc')\n",
    "E = d * mat\n",
    "K = k * mat\n",
    "\n",
    "B = np.zeros((n, 1))\n",
    "B[0, 0] = 1\n",
    "\n",
    "C = np.zeros((1, n))\n",
    "C[0, n//2] = 1"
   ]
  },
  {
   "cell_type": "code",
   "execution_count": null,
   "id": "89166287",
   "metadata": {},
   "outputs": [],
   "source": [
    "from pymor.models.iosys import SecondOrderModel"
   ]
  },
  {
   "cell_type": "markdown",
   "id": "ca4cf0f0",
   "metadata": {},
   "source": [
    "Construct a `SecondOrderModel` from matrices `M`, `E`, `K`, `B`, `C`."
   ]
  },
  {
   "cell_type": "code",
   "execution_count": null,
   "id": "0aa2ce83",
   "metadata": {},
   "outputs": [],
   "source": [
    "fom = ..."
   ]
  },
  {
   "cell_type": "markdown",
   "id": "91d33c65",
   "metadata": {},
   "source": [
    "## Poles"
   ]
  },
  {
   "cell_type": "markdown",
   "id": "935d2604",
   "metadata": {},
   "source": [
    "Compute and plot the poles of the full-order model using `fom.poles`."
   ]
  },
  {
   "cell_type": "code",
   "execution_count": null,
   "id": "ff4736f3",
   "metadata": {},
   "outputs": [],
   "source": []
  },
  {
   "cell_type": "markdown",
   "id": "736dd11e",
   "metadata": {},
   "source": [
    "## Bode plot"
   ]
  },
  {
   "cell_type": "markdown",
   "id": "2e6da2aa",
   "metadata": {},
   "source": [
    "Plot the Bode plot in the interval $[10^{-3}, 1]$ using `fom.transfer_function.bode_plot`."
   ]
  },
  {
   "cell_type": "code",
   "execution_count": null,
   "id": "99e1b1f2",
   "metadata": {},
   "outputs": [],
   "source": []
  },
  {
   "cell_type": "markdown",
   "id": "2d461864",
   "metadata": {},
   "source": [
    "## Magnitude plot"
   ]
  },
  {
   "cell_type": "markdown",
   "id": "639bab1e",
   "metadata": {},
   "source": [
    "Plot the Magnitude plot in the interval $[10^{-3}, 1]$ using `fom.transfer_function.mag_plot`."
   ]
  },
  {
   "cell_type": "code",
   "execution_count": null,
   "id": "bdf50b9c",
   "metadata": {},
   "outputs": [],
   "source": []
  },
  {
   "cell_type": "markdown",
   "id": "5fdb7234",
   "metadata": {},
   "source": [
    "## Hankel singular values"
   ]
  },
  {
   "cell_type": "markdown",
   "id": "b2a05641",
   "metadata": {},
   "source": [
    "Compute and plot the Hankel singular values of the corresponding `LTIModel` using `fom.to_lti().hsv`."
   ]
  },
  {
   "cell_type": "code",
   "execution_count": null,
   "id": "22d643dd",
   "metadata": {},
   "outputs": [],
   "source": []
  },
  {
   "cell_type": "markdown",
   "id": "0b7610db",
   "metadata": {},
   "source": [
    "# Second-order balanced truncation"
   ]
  },
  {
   "cell_type": "code",
   "execution_count": null,
   "id": "1c0ac96d",
   "metadata": {},
   "outputs": [],
   "source": [
    "from pymor.reductors.sobt import SOBTReductor"
   ]
  },
  {
   "cell_type": "code",
   "execution_count": null,
   "id": "4ecf373e",
   "metadata": {},
   "outputs": [],
   "source": [
    "sobt = SOBTReductor(fom)"
   ]
  },
  {
   "cell_type": "markdown",
   "id": "e5a6135a",
   "metadata": {},
   "source": [
    "Compute a reduced-order model using `sobt.reduce`."
   ]
  },
  {
   "cell_type": "code",
   "execution_count": null,
   "id": "89a8631f",
   "metadata": {},
   "outputs": [],
   "source": [
    "rom_sobt = ..."
   ]
  },
  {
   "cell_type": "code",
   "execution_count": null,
   "id": "a533b10f",
   "metadata": {},
   "outputs": [],
   "source": [
    "err_sobt = fom - rom_sobt"
   ]
  },
  {
   "cell_type": "markdown",
   "id": "df999e82",
   "metadata": {},
   "source": [
    "## Poles"
   ]
  },
  {
   "cell_type": "markdown",
   "id": "ff863d30",
   "metadata": {},
   "source": [
    "Plot the poles of the reduced-order model."
   ]
  },
  {
   "cell_type": "code",
   "execution_count": null,
   "id": "ffbaec5e",
   "metadata": {},
   "outputs": [],
   "source": []
  },
  {
   "cell_type": "markdown",
   "id": "08f0a0a6",
   "metadata": {},
   "source": [
    "## Bode plots"
   ]
  },
  {
   "cell_type": "markdown",
   "id": "3373b418",
   "metadata": {},
   "source": [
    "Plot the Bode plots of the full-order model and reduced-order model over each other."
   ]
  },
  {
   "cell_type": "code",
   "execution_count": null,
   "id": "68d4398c",
   "metadata": {},
   "outputs": [],
   "source": []
  },
  {
   "cell_type": "markdown",
   "id": "bc7d31d0",
   "metadata": {},
   "source": [
    "## Error magnitude plot"
   ]
  },
  {
   "cell_type": "markdown",
   "id": "55b92b9e",
   "metadata": {},
   "source": [
    "Plot the magnitude plot of the error system."
   ]
  },
  {
   "cell_type": "code",
   "execution_count": null,
   "id": "2f4c4cee",
   "metadata": {},
   "outputs": [],
   "source": []
  },
  {
   "cell_type": "markdown",
   "id": "a44c8be9",
   "metadata": {},
   "source": [
    "## Relative $\\mathcal{H}_2$ error"
   ]
  },
  {
   "cell_type": "markdown",
   "id": "6d3ef0e3",
   "metadata": {},
   "source": [
    "Compute the relative $\\mathcal{H}_2$ error."
   ]
  },
  {
   "cell_type": "code",
   "execution_count": null,
   "id": "5f5fadf4",
   "metadata": {},
   "outputs": [],
   "source": []
  },
  {
   "cell_type": "markdown",
   "id": "ee6c0379",
   "metadata": {},
   "source": [
    "## Relative $\\mathcal{H}_\\infty$ error"
   ]
  },
  {
   "cell_type": "markdown",
   "id": "f16d6db7",
   "metadata": {},
   "source": [
    "Compute the relative $\\mathcal{H}_\\infty$ error."
   ]
  },
  {
   "cell_type": "code",
   "execution_count": null,
   "id": "5351991e",
   "metadata": {},
   "outputs": [],
   "source": []
  },
  {
   "cell_type": "markdown",
   "id": "3fd108b9",
   "metadata": {},
   "source": [
    "# Second-order reduced IRKA"
   ]
  },
  {
   "cell_type": "code",
   "execution_count": null,
   "id": "3ca569b0",
   "metadata": {},
   "outputs": [],
   "source": [
    "from pymor.reductors.sor_irka import SORIRKAReductor"
   ]
  },
  {
   "cell_type": "code",
   "execution_count": null,
   "id": "18dfd5db",
   "metadata": {},
   "outputs": [],
   "source": [
    "sorirka = SORIRKAReductor(fom)"
   ]
  },
  {
   "cell_type": "markdown",
   "id": "48916306",
   "metadata": {},
   "source": [
    "Compute a reduced-order model using `sobt.reduce`."
   ]
  },
  {
   "cell_type": "code",
   "execution_count": null,
   "id": "8a7123b0",
   "metadata": {
    "scrolled": true
   },
   "outputs": [],
   "source": [
    "rom_sorirka = ..."
   ]
  },
  {
   "cell_type": "code",
   "execution_count": null,
   "id": "cf44806e",
   "metadata": {},
   "outputs": [],
   "source": [
    "err_sorirka = fom - rom_sorirka"
   ]
  },
  {
   "cell_type": "markdown",
   "id": "9eb67b7e",
   "metadata": {},
   "source": [
    "## Poles"
   ]
  },
  {
   "cell_type": "markdown",
   "id": "70de7aa7",
   "metadata": {},
   "source": [
    "Plot the poles of the reduced-order model."
   ]
  },
  {
   "cell_type": "code",
   "execution_count": null,
   "id": "6c5d57fa",
   "metadata": {},
   "outputs": [],
   "source": []
  },
  {
   "cell_type": "markdown",
   "id": "5e3130d9",
   "metadata": {},
   "source": [
    "## Bode plots"
   ]
  },
  {
   "cell_type": "markdown",
   "id": "5e13a8c9",
   "metadata": {},
   "source": [
    "Plot the Bode plots of the full-order modal and reduced-order model over each other."
   ]
  },
  {
   "cell_type": "code",
   "execution_count": null,
   "id": "2e906d53",
   "metadata": {},
   "outputs": [],
   "source": []
  },
  {
   "cell_type": "markdown",
   "id": "674da895",
   "metadata": {},
   "source": [
    "## Error magnitude plot"
   ]
  },
  {
   "cell_type": "markdown",
   "id": "abcf66a2",
   "metadata": {},
   "source": [
    "Plot the magnitude plot of the error system."
   ]
  },
  {
   "cell_type": "code",
   "execution_count": null,
   "id": "ade98fab",
   "metadata": {},
   "outputs": [],
   "source": []
  },
  {
   "cell_type": "markdown",
   "id": "2a1955a0",
   "metadata": {},
   "source": [
    "## Relative $\\mathcal{H}_2$ error"
   ]
  },
  {
   "cell_type": "markdown",
   "id": "dcdc63f8",
   "metadata": {},
   "source": [
    "Compute the relative $\\mathcal{H}_2$ error."
   ]
  },
  {
   "cell_type": "code",
   "execution_count": null,
   "id": "5fc4209e",
   "metadata": {},
   "outputs": [],
   "source": []
  },
  {
   "cell_type": "markdown",
   "id": "cc15084a",
   "metadata": {},
   "source": [
    "## Relative $\\mathcal{H}_\\infty$ error"
   ]
  },
  {
   "cell_type": "markdown",
   "id": "233cf5fc",
   "metadata": {},
   "source": [
    "Compute the relative $\\mathcal{H}_\\infty$ error."
   ]
  },
  {
   "cell_type": "code",
   "execution_count": null,
   "id": "88645f89",
   "metadata": {},
   "outputs": [],
   "source": []
  }
 ],
 "metadata": {
  "kernelspec": {
   "display_name": "Python 3 (ipykernel)",
   "language": "python",
   "name": "python3"
  },
  "language_info": {
   "codemirror_mode": {
    "name": "ipython",
    "version": 3
   },
   "file_extension": ".py",
   "mimetype": "text/x-python",
   "name": "python",
   "nbconvert_exporter": "python",
   "pygments_lexer": "ipython3",
   "version": "3.8.13"
  }
 },
 "nbformat": 4,
 "nbformat_minor": 5
}
