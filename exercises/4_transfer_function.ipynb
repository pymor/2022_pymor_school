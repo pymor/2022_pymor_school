{
 "cells": [
  {
   "cell_type": "code",
   "execution_count": null,
   "id": "c3d917d2",
   "metadata": {},
   "outputs": [],
   "source": [
    "import numpy as np\n",
    "import matplotlib.pyplot as plt"
   ]
  },
  {
   "cell_type": "code",
   "execution_count": null,
   "id": "2a36f36f",
   "metadata": {},
   "outputs": [],
   "source": [
    "plt.rcParams['font.size'] = 12\n",
    "plt.rcParams['figure.figsize'] = [9., 6.]"
   ]
  },
  {
   "cell_type": "markdown",
   "id": "e9b298e0",
   "metadata": {},
   "source": [
    "# Full-order model"
   ]
  },
  {
   "cell_type": "markdown",
   "id": "55ad6196",
   "metadata": {},
   "source": [
    "Let us consider a heat equation on a half-infinite rod:\n",
    "$$\n",
    "\\begin{align*}\n",
    "  \\partial_t T(\\xi, t) & = \\partial_{\\xi}^2 T(\\xi, t), & \\xi > 0, t > 0, \\\\\n",
    "  T(0, t) & = u(t), \\\\\n",
    "  \\lim_{\\xi \\to \\infty }T(\\xi, t) & = 0, \\\\\n",
    "  T(\\xi, 0) & = 0, \\\\\n",
    "  y(t) & = T(1, t).\n",
    "\\end{align*}\n",
    "$$"
   ]
  },
  {
   "cell_type": "markdown",
   "id": "a14705d1",
   "metadata": {},
   "source": [
    "Show that the transfer function from $u$ to $y$ is $e^{-\\sqrt{s}}$."
   ]
  },
  {
   "cell_type": "markdown",
   "id": "0529aa26",
   "metadata": {},
   "source": [
    "Build a `TransferFunction` model."
   ]
  },
  {
   "cell_type": "code",
   "execution_count": null,
   "id": "e2626276",
   "metadata": {},
   "outputs": [],
   "source": [
    "from pymor.models.iosys import TransferFunction"
   ]
  },
  {
   "cell_type": "code",
   "execution_count": null,
   "id": "343986e7",
   "metadata": {},
   "outputs": [],
   "source": [
    "tf = ..."
   ]
  },
  {
   "cell_type": "markdown",
   "id": "e274ac10",
   "metadata": {},
   "source": [
    "# TF-IRKA"
   ]
  },
  {
   "cell_type": "markdown",
   "id": "f491f24a",
   "metadata": {},
   "source": [
    "Use TF-IRKA to construct a reduced-order `LTIModel` and analyse it."
   ]
  },
  {
   "cell_type": "code",
   "execution_count": null,
   "id": "fb9cd750",
   "metadata": {},
   "outputs": [],
   "source": [
    "from pymor.reductors.h2 import TFIRKAReductor"
   ]
  },
  {
   "cell_type": "code",
   "execution_count": null,
   "id": "eb6dae8a",
   "metadata": {},
   "outputs": [],
   "source": []
  }
 ],
 "metadata": {
  "kernelspec": {
   "display_name": "Python 3 (ipykernel)",
   "language": "python",
   "name": "python3"
  },
  "language_info": {
   "codemirror_mode": {
    "name": "ipython",
    "version": 3
   },
   "file_extension": ".py",
   "mimetype": "text/x-python",
   "name": "python",
   "nbconvert_exporter": "python",
   "pygments_lexer": "ipython3",
   "version": "3.7.11"
  }
 },
 "nbformat": 4,
 "nbformat_minor": 5
}
