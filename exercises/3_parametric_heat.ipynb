{
 "cells": [
  {
   "cell_type": "code",
   "execution_count": null,
   "id": "769a6a7d",
   "metadata": {},
   "outputs": [],
   "source": [
    "import numpy as np\n",
    "import scipy.linalg as spla\n",
    "import scipy.sparse as sps\n",
    "import matplotlib.pyplot as plt"
   ]
  },
  {
   "cell_type": "code",
   "execution_count": null,
   "id": "a1b392e4",
   "metadata": {},
   "outputs": [],
   "source": [
    "plt.rcParams['font.size'] = 12\n",
    "plt.rcParams['figure.figsize'] = [9., 6.]"
   ]
  },
  {
   "cell_type": "markdown",
   "id": "24b2a361",
   "metadata": {},
   "source": [
    "# Building a parametric `LTIModel`"
   ]
  },
  {
   "cell_type": "code",
   "execution_count": null,
   "id": "af551fac",
   "metadata": {},
   "outputs": [],
   "source": [
    "n = 100\n",
    "\n",
    "E = sps.eye(n, format='lil')\n",
    "E[0, 0] = E[-1, -1] = 0.5\n",
    "E = E.tocsc()\n",
    "\n",
    "alpha = 1.172e-5\n",
    "N = (n - 1)**2\n",
    "A0 = sps.diags([(n - 1) * [N], n * [-2 * N], (n - 1) * [N]], [-1, 0, 1], format='lil')\n",
    "A0[0, 0] = -(n - 1) * n\n",
    "A0[-1, -1] = -(n - 1) * n\n",
    "A1 = sps.lil_matrix((n, n))\n",
    "A1[:n//2, :] = alpha * A0[:n//2, :]\n",
    "A1 = A1.tocsc()\n",
    "A2 = sps.lil_matrix((n, n))\n",
    "A2[n//2:, :] = A0[n//2:, :]\n",
    "A2 = A2.tocsc()\n",
    "\n",
    "B = np.zeros((n, 1))\n",
    "B[0, 0] = alpha * (n - 1)\n",
    "\n",
    "C = np.zeros((2, n))\n",
    "C[0, -1] = 1\n",
    "C[1, :] = 1/n"
   ]
  },
  {
   "cell_type": "code",
   "execution_count": null,
   "id": "91686e02",
   "metadata": {},
   "outputs": [],
   "source": [
    "from pymor.models.iosys import LTIModel\n",
    "from pymor.operators.numpy import NumpyMatrixOperator\n",
    "from pymor.parameters.functionals import ProjectionParameterFunctional"
   ]
  },
  {
   "cell_type": "code",
   "execution_count": null,
   "id": "1ec4af08",
   "metadata": {},
   "outputs": [],
   "source": [
    "Eop = NumpyMatrixOperator(E)\n",
    "\n",
    "A1op = NumpyMatrixOperator(A1)\n",
    "A2op = NumpyMatrixOperator(A2)\n",
    "Aop = A1op + ProjectionParameterFunctional('p') * A2op\n",
    "\n",
    "Bop = NumpyMatrixOperator(B)\n",
    "\n",
    "Cop = NumpyMatrixOperator(C)"
   ]
  },
  {
   "cell_type": "code",
   "execution_count": null,
   "id": "0c7d3454",
   "metadata": {},
   "outputs": [],
   "source": [
    "fom = LTIModel(Aop, Bop, Cop, E=Eop)"
   ]
  },
  {
   "cell_type": "code",
   "execution_count": null,
   "id": "00e2b4a6",
   "metadata": {},
   "outputs": [],
   "source": [
    "fom"
   ]
  },
  {
   "cell_type": "code",
   "execution_count": null,
   "id": "53e9c744",
   "metadata": {},
   "outputs": [],
   "source": [
    "print(fom)"
   ]
  },
  {
   "cell_type": "code",
   "execution_count": null,
   "id": "9d50661e",
   "metadata": {},
   "outputs": [],
   "source": [
    "fom.parameters"
   ]
  },
  {
   "cell_type": "markdown",
   "id": "d224c34f",
   "metadata": {},
   "source": [
    "## Poles"
   ]
  },
  {
   "cell_type": "markdown",
   "id": "64b393cd",
   "metadata": {},
   "source": [
    "Compute and plot the poles for $p \\in \\{10^{-6}, 10^{-3}, 1\\}$."
   ]
  },
  {
   "cell_type": "code",
   "execution_count": null,
   "id": "904a3614",
   "metadata": {},
   "outputs": [],
   "source": []
  },
  {
   "cell_type": "markdown",
   "id": "ed25a935",
   "metadata": {},
   "source": [
    "## Magnitude plot"
   ]
  },
  {
   "cell_type": "markdown",
   "id": "b3056bb1",
   "metadata": {},
   "source": [
    "Plot the magnitude plot for $p \\in \\{10^{-6}, 10^{-3}, 1\\}$ and frequencies in the interval $[10^{-8}, 10]$."
   ]
  },
  {
   "cell_type": "code",
   "execution_count": null,
   "id": "3872c5bb",
   "metadata": {},
   "outputs": [],
   "source": []
  },
  {
   "cell_type": "markdown",
   "id": "e3e8790c",
   "metadata": {},
   "source": [
    "# Hankel singular values"
   ]
  },
  {
   "cell_type": "markdown",
   "id": "2f10b9a0",
   "metadata": {},
   "source": [
    "Plot the hankel singular values for $p \\in \\{10^{-6}, 10^{-3}, 1\\}$."
   ]
  },
  {
   "cell_type": "code",
   "execution_count": null,
   "id": "f0a70768",
   "metadata": {},
   "outputs": [],
   "source": []
  },
  {
   "cell_type": "markdown",
   "id": "ceeb828b",
   "metadata": {},
   "source": [
    "## $\\mathcal{H}_2$ norms"
   ]
  },
  {
   "cell_type": "markdown",
   "id": "53bc973b",
   "metadata": {},
   "source": [
    "Compute and plot the $\\mathcal{H}_2$ norm of $10$ different models for $p \\in [10^{-6}, 1]$."
   ]
  },
  {
   "cell_type": "code",
   "execution_count": null,
   "id": "4fdcc405",
   "metadata": {},
   "outputs": [],
   "source": []
  },
  {
   "cell_type": "markdown",
   "id": "3ef0e695",
   "metadata": {},
   "source": [
    "## $\\mathcal{H}_\\infty$ norms"
   ]
  },
  {
   "cell_type": "markdown",
   "id": "fd8c1913",
   "metadata": {},
   "source": [
    "Compute and plot the $\\mathcal{H}_\\infty$ norm of $10$ different models for $p \\in [10^{-6}, 1]$."
   ]
  },
  {
   "cell_type": "code",
   "execution_count": null,
   "id": "0101942e",
   "metadata": {},
   "outputs": [],
   "source": []
  },
  {
   "cell_type": "markdown",
   "id": "611de811",
   "metadata": {},
   "source": [
    "# Balanced Truncation"
   ]
  },
  {
   "cell_type": "markdown",
   "id": "9fb4271a",
   "metadata": {},
   "source": [
    "In the following our goal is to compute a reduced model which approximates the input-output behaviour of the full order for $p \\in \\{10^{-6}, 10^{-3}, 1\\}$. In order to do so, we first use the `BTReductor` to compute projection matrices with respect to each individual parameter. The final projection matrix is then constructed via pyMORs `cat_arrays` and `qr_svd` functions. "
   ]
  },
  {
   "cell_type": "code",
   "execution_count": null,
   "id": "af4649aa",
   "metadata": {},
   "outputs": [],
   "source": [
    "from pymor.reductors.bt import BTReductor\n",
    "from pymor.vectorarrays.constructions import cat_arrays"
   ]
  },
  {
   "cell_type": "code",
   "execution_count": null,
   "id": "b89c4522",
   "metadata": {
    "scrolled": true
   },
   "outputs": [],
   "source": [
    "p_list = [1e-6, 1e-3, 1]\n",
    "V = []\n",
    "W = []\n",
    "for p in p_list:\n",
    "    bt = BTReductor(fom, mu=p)\n",
    "    rom = bt.reduce(10)\n",
    "    V.append(bt.V)\n",
    "    W.append(bt.W)\n",
    "V = cat_arrays(V)\n",
    "W = cat_arrays(W)"
   ]
  },
  {
   "cell_type": "code",
   "execution_count": null,
   "id": "4c262622",
   "metadata": {},
   "outputs": [],
   "source": [
    "from pymor.algorithms.svd_va import qr_svd"
   ]
  },
  {
   "cell_type": "code",
   "execution_count": null,
   "id": "e8582b4f",
   "metadata": {
    "scrolled": true
   },
   "outputs": [],
   "source": [
    "V2, s, Vh = qr_svd(cat_arrays([V, W]))"
   ]
  },
  {
   "cell_type": "code",
   "execution_count": null,
   "id": "b569ec36",
   "metadata": {},
   "outputs": [],
   "source": [
    "_ = plt.semilogy(s, '.-')"
   ]
  },
  {
   "cell_type": "markdown",
   "id": "06be78f5",
   "metadata": {},
   "source": [
    "Use the `LTIPGReductor` to project the model via the computed bases."
   ]
  },
  {
   "cell_type": "code",
   "execution_count": null,
   "id": "b6c4fef1",
   "metadata": {},
   "outputs": [],
   "source": [
    "from pymor.reductors.basic import LTIPGReductor"
   ]
  },
  {
   "cell_type": "code",
   "execution_count": null,
   "id": "8f293309",
   "metadata": {},
   "outputs": [],
   "source": [
    "pg = LTIPGReductor(...)\n",
    "rom = ..."
   ]
  },
  {
   "cell_type": "code",
   "execution_count": null,
   "id": "87b6e729",
   "metadata": {},
   "outputs": [],
   "source": [
    "err = fom - rom"
   ]
  },
  {
   "cell_type": "markdown",
   "id": "d22bfc76",
   "metadata": {},
   "source": [
    "## Poles"
   ]
  },
  {
   "cell_type": "markdown",
   "id": "d8b68dc8",
   "metadata": {},
   "source": [
    "Compute and plot the poles of the reduced order model for $p \\in \\{10^{-6}, 10^{-3}, 1\\}$."
   ]
  },
  {
   "cell_type": "code",
   "execution_count": null,
   "id": "846e96ce",
   "metadata": {},
   "outputs": [],
   "source": []
  },
  {
   "cell_type": "markdown",
   "id": "a4cd306f",
   "metadata": {},
   "source": [
    "## Relative $\\mathcal{H}_2$ errors"
   ]
  },
  {
   "cell_type": "markdown",
   "id": "796484dc",
   "metadata": {},
   "source": [
    "Compute and plot the relative $\\mathcal{H}_2$ error of $10$ different reduced models for $p \\in [10^{-6}, 1]$."
   ]
  },
  {
   "cell_type": "code",
   "execution_count": null,
   "id": "3bd74fe8",
   "metadata": {},
   "outputs": [],
   "source": []
  },
  {
   "cell_type": "markdown",
   "id": "5d5189a5",
   "metadata": {},
   "source": [
    "## Relative $\\mathcal{H}_\\infty$ errors"
   ]
  },
  {
   "cell_type": "markdown",
   "id": "9a150399",
   "metadata": {},
   "source": [
    "Compute and plot the relative $\\mathcal{H}_\\infty$ error of $10$ different reduced models for $p \\in [10^{-6}, 1]$."
   ]
  },
  {
   "cell_type": "code",
   "execution_count": null,
   "id": "2edb4745",
   "metadata": {},
   "outputs": [],
   "source": []
  }
 ],
 "metadata": {
  "kernelspec": {
   "display_name": "Python 3",
   "language": "python",
   "name": "python3"
  },
  "language_info": {
   "codemirror_mode": {
    "name": "ipython",
    "version": 3
   },
   "file_extension": ".py",
   "mimetype": "text/x-python",
   "name": "python",
   "nbconvert_exporter": "python",
   "pygments_lexer": "ipython3",
   "version": "3.8.10"
  }
 },
 "nbformat": 4,
 "nbformat_minor": 5
}
