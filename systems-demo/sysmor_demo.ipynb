{
 "cells": [
  {
   "cell_type": "markdown",
   "id": "4debe1c3",
   "metadata": {},
   "source": [
    "<h1> Systems in pyMOR </h1>\n",
    "\n",
    "<br/>\n",
    "\n",
    "<font size=\"4\">\n",
    "\n",
    "  - `pymor.models.iosys` consists of base classes for system-theoretic models\n",
    "      - `LTIModel`\n",
    "      - `SecondOrderModel`\n",
    "      - ...\n",
    "  - Associated transfer function models are in `pymor.models.transfer_function`\n",
    "  - Problem-specific models can be implemented\n",
    "    \n",
    "</font>"
   ]
  },
  {
   "cell_type": "markdown",
   "id": "d58936d6",
   "metadata": {},
   "source": [
    "<h1> Triple Chain Oscillator </h1>\n",
    "\n",
    "<img src=\"triple_chain_oscillator_ctrl_obs.png\" width=\"750\">\n",
    "\n",
    "<font size=\"4\">\n",
    "\n",
    "  - $3$ rows of $l$ masses $m_1, m_2, m_3$ \n",
    "      - connected via springs to mass $m_0$\n",
    "      - fixed on left-hand side\n",
    "  - $k_0, k_1, k_2, k_3$ indicate stiffness of springs\n",
    "  - dampers on right-hand side have viscosity $\\nu_1, \\nu_2, \\nu_3$\n",
    "  - force applied to mass $m_0$ via control $u(t)$ \n",
    "  - measure displacement of masses directly connected to dampers\n",
    "\n",
    "</font>"
   ]
  },
  {
   "cell_type": "markdown",
   "id": "16dc3c4a",
   "metadata": {},
   "source": [
    "<h1> Parametric second-order system </h1>\n",
    "\n",
    "<br/>\n",
    "\n",
    "<font size=\"4\">\n",
    "    <br/>\n",
    "    \\begin{align}\n",
    "        M \\ddot{x}(t)\n",
    "            + E(\\alpha, \\beta) \\dot{x}(t)\n",
    "            + K x(t)\n",
    "            & =\n",
    "                B u(t), \\\\\n",
    "            y(t)\n",
    "            & =\n",
    "                C x(t)\n",
    "    \\end{align}\n",
    "    <br/>\n",
    "\n",
    "  - state $x(t) \\in \\mathbb{R}^n$ indicates displacement of the $n = 3l + 1$ masses\n",
    "  - mass matrix $M \\in \\mathbb{R}^{n \\times n}$, damping matrix $E(\\alpha, \\beta) \\in \\mathbb{R}^{n \\times n}$, stiffness matrix $K \\in \\mathbb{R}^{n \\times n}$\n",
    "      - consider Rayleigh damping with parameters $\\alpha, \\beta \\in \\mathbb{R}$ such that $E(\\alpha, \\beta) = E_0 + \\alpha M + \\beta K$\n",
    "      - parameter pair of interest $(\\alpha, \\beta) = (0.2, 0.2)$\n",
    "      - $E = E(0.2, 0.2)$\n",
    "  - input $u(t) \\in \\mathbb{R}$: actuating force applied to $m_0$\n",
    "  - measurement $y(t) \\in \\mathbb{R}^3$: displacement of three masses directly connected to dampers    \n",
    "  - see [N. Truhar, K. Veselić [2009]](https://epubs.siam.org/doi/pdf/10.1137/070683052?casa_token=Q_JwN-uMB_wAAAAA:6BM_3mfh1WfpG9TP8MJ_iUtX3dYGz5gEf-OYlTlFA0ByC0LnbYXlssmo9R8J7A-XiMK8MA0QzK4e) for the original model\n",
    "</font>"
   ]
  },
  {
   "cell_type": "markdown",
   "id": "b64ac1c9",
   "metadata": {},
   "source": [
    "<h1> Reducing the model with pyMOR </h1>\n",
    "<br/>\n",
    "\n",
    "<font size=\"4\">\n",
    "\n",
    "1. Get Numpy/Scipy objects for all system matrices.\n",
    "2. Build a `SecondOrderModel` using `NumpyMatrixOperators`.\n",
    "3. Choose a reductor from `pymor.models.reductors` that can be used for the model.\n",
    "4. Compute ROM.\n",
    "\n",
    "</font>"
   ]
  },
  {
   "cell_type": "code",
   "execution_count": 1,
   "id": "e3d9687d",
   "metadata": {},
   "outputs": [],
   "source": [
    "import matplotlib.pyplot as plt\n",
    "import numpy as np\n",
    "import scipy.sparse as sps\n",
    "from pymor.basic import *\n",
    "\n",
    "plt.rcParams['axes.grid'] = True\n",
    "\n",
    "# number of rows\n",
    "l = 50\n",
    "\n",
    "# number of masses\n",
    "n = 3*l+1\n",
    "\n",
    "# masses\n",
    "m1 = 1\n",
    "m2 = 2\n",
    "m3 = 3\n",
    "m0 = 10\n",
    "\n",
    "# spring stiffness\n",
    "k1 = 10\n",
    "k2 = 20\n",
    "k3 = 1\n",
    "k0 = 50\n",
    "\n",
    "# damper viscosity\n",
    "v = 5\n",
    "\n",
    "M = sps.spdiags(np.concatenate([m1*np.ones(l), m2*np.ones(l), m3*np.ones(l), [m0]]), 0, n, n)\n",
    "\n",
    "Ki = sps.diags([-np.ones(l-1), 2*np.ones(l), -np.ones(l-1)], [-1, 0, 1])\n",
    "\n",
    "K = sps.lil_matrix((n, n))\n",
    "K[:3*l, :3*l] = sps.block_diag([k1*Ki, k2*Ki, k3*Ki])\n",
    "\n",
    "el = sps.lil_matrix((l, 1))\n",
    "el[-1] = 1\n",
    "\n",
    "K[:3*l, -1] = sps.vstack([-k1*el, -k2*el, -k3*el])\n",
    "K[-1, :3*l] = K[:3*l, -1].T\n",
    "\n",
    "K[-1, -1] = k1 + k2 + k3 + k0\n",
    "\n",
    "E0 = sps.lil_matrix((n, n))\n",
    "E0[0, 0] = E0[l, l] = E0[2*l, 2*l] = v\n",
    "\n",
    "B = np.zeros((n, 1))\n",
    "B[-1] = 1\n",
    "\n",
    "C = np.zeros((3, n))\n",
    "C[0, 0] = C[1, l] = C[2, 2*l] = 1"
   ]
  },
  {
   "cell_type": "code",
   "execution_count": 2,
   "id": "4293dc4e",
   "metadata": {},
   "outputs": [
    {
     "name": "stdout",
     "output_type": "stream",
     "text": [
      "{a: 1, b: 1}\n"
     ]
    }
   ],
   "source": [
    "from pymor.models.iosys import SecondOrderModel\n",
    "\n",
    "Mop = NumpyMatrixOperator(M)\n",
    "Kop = NumpyMatrixOperator(K)\n",
    "E0op = NumpyMatrixOperator(E0)\n",
    "Bop = NumpyMatrixOperator(B)\n",
    "Cop = NumpyMatrixOperator(C)\n",
    "\n",
    "Eop = E0op + ProjectionParameterFunctional('a') * Mop + ProjectionParameterFunctional('b') * Kop\n",
    "\n",
    "pfom = SecondOrderModel(Mop, Eop, Kop, Bop, Cop)\n",
    "\n",
    "print(pfom.parameters)"
   ]
  },
  {
   "cell_type": "code",
   "execution_count": 3,
   "id": "c9a99a2e",
   "metadata": {},
   "outputs": [
    {
     "name": "stdout",
     "output_type": "stream",
     "text": [
      "SecondOrderModel\n",
      "    class: SecondOrderModel\n",
      "    number of equations: 151\n",
      "    number of inputs:    1\n",
      "    number of outputs:   3\n",
      "    continuous-time\n",
      "    second-order\n",
      "    linear time-invariant\n",
      "    solution_space:  NumpyVectorSpace(151)\n"
     ]
    }
   ],
   "source": [
    "print(pfom)"
   ]
  },
  {
   "cell_type": "code",
   "execution_count": 4,
   "id": "7a058887",
   "metadata": {},
   "outputs": [
    {
     "data": {
      "text/plain": [
       "SecondOrderModel(\n",
       "    NumpyMatrixOperator(<151x151 sparse, 151 nnz>),\n",
       "    LincombOperator(\n",
       "        (NumpyMatrixOperator(<151x151 sparse, 3 nnz>),\n",
       "         NumpyMatrixOperator(<151x151 sparse, 151 nnz>),\n",
       "         NumpyMatrixOperator(<151x151 sparse, 451 nnz>)),\n",
       "        (1.0, ProjectionParameterFunctional('a', index=0), ProjectionParameterFunctional('b', index=0))),\n",
       "    NumpyMatrixOperator(<151x151 sparse, 451 nnz>),\n",
       "    NumpyMatrixOperator(<151x1 dense>),\n",
       "    NumpyMatrixOperator(<3x151 dense>),\n",
       "    Cv=ZeroOperator(NumpyVectorSpace(3), NumpyVectorSpace(151)),\n",
       "    D=ZeroOperator(NumpyVectorSpace(3), NumpyVectorSpace(1)))"
      ]
     },
     "execution_count": 4,
     "metadata": {},
     "output_type": "execute_result"
    }
   ],
   "source": [
    "pfom"
   ]
  },
  {
   "cell_type": "code",
   "execution_count": 7,
   "id": "5a89a1b5",
   "metadata": {},
   "outputs": [
    {
     "data": {
      "text/plain": [
       "array([[-3.77011291e-04-1.68235310e-04j],\n",
       "       [-3.99327685e-04-2.49292646e-04j],\n",
       "       [ 6.29292966e-16-1.92654074e-15j]])"
      ]
     },
     "execution_count": 7,
     "metadata": {},
     "output_type": "execute_result"
    }
   ],
   "source": [
    "pfom.transfer_function.eval_tf(1.j, mu={'a': 0.2, 'b': 0.2})"
   ]
  },
  {
   "cell_type": "code",
   "execution_count": 8,
   "id": "75636e91",
   "metadata": {},
   "outputs": [
    {
     "data": {
      "text/plain": [
       "SecondOrderModel(\n",
       "    NumpyMatrixOperator(<151x151 sparse, 151 nnz>),\n",
       "    NumpyMatrixOperator(<151x151 sparse, 451 nnz>),\n",
       "    NumpyMatrixOperator(<151x151 sparse, 451 nnz>),\n",
       "    NumpyMatrixOperator(<151x1 dense>),\n",
       "    NumpyMatrixOperator(<3x151 dense>),\n",
       "    Cv=ZeroOperator(NumpyVectorSpace(3), NumpyVectorSpace(151)),\n",
       "    D=ZeroOperator(NumpyVectorSpace(3), NumpyVectorSpace(1)))"
      ]
     },
     "execution_count": 8,
     "metadata": {},
     "output_type": "execute_result"
    }
   ],
   "source": [
    "fom = pfom.with_(E = pfom.E.assemble(pfom.parameters.parse({'a':0.2, 'b':0.2})))\n",
    "\n",
    "fom"
   ]
  },
  {
   "cell_type": "code",
   "execution_count": 10,
   "id": "7068733f",
   "metadata": {},
   "outputs": [
    {
     "name": "stdout",
     "output_type": "stream",
     "text": [
      "SecondOrderModel\n",
      "    class: SecondOrderModel\n",
      "    number of equations: 151\n",
      "    number of inputs:    1\n",
      "    number of outputs:   3\n",
      "    continuous-time\n",
      "    second-order\n",
      "    linear time-invariant\n",
      "    solution_space:  NumpyVectorSpace(151, id='STATE')\n"
     ]
    }
   ],
   "source": [
    "E = E0 + 0.2 * M + 0.2 * K\n",
    "\n",
    "fom = SecondOrderModel.from_matrices(M, E, K, B, C)\n",
    "\n",
    "print(fom)"
   ]
  },
  {
   "cell_type": "markdown",
   "id": "90e4b26a",
   "metadata": {},
   "source": [
    "<h2> Transfer function evaluation </h2>\n",
    "<br/>\n",
    "<font size=\"4\">\n",
    "\\begin{align}\n",
    "    H(s) = C(s^2 M + s E + K)^{-1} B\n",
    "\\end{align}\n",
    "</font>"
   ]
  },
  {
   "cell_type": "code",
   "execution_count": 11,
   "id": "605d68e0",
   "metadata": {},
   "outputs": [
    {
     "name": "stdout",
     "output_type": "stream",
     "text": [
      "SecondOrderModel_transfer_function\n",
      "    class: FactorizedTransferFunction\n",
      "    number of inputs:  1\n",
      "    number of outputs: 3\n",
      "    continuous-time\n",
      "\n"
     ]
    }
   ],
   "source": [
    "print(fom.transfer_function)"
   ]
  },
  {
   "cell_type": "code",
   "execution_count": 12,
   "id": "52a5bd77",
   "metadata": {},
   "outputs": [
    {
     "data": {
      "text/plain": [
       "array([[-3.77011291e-04-1.68235310e-04j],\n",
       "       [-3.99327685e-04-2.49292646e-04j],\n",
       "       [ 6.29292966e-16-1.92654074e-15j]])"
      ]
     },
     "execution_count": 12,
     "metadata": {},
     "output_type": "execute_result"
    }
   ],
   "source": [
    "fom.transfer_function.eval_tf(1.j)"
   ]
  },
  {
   "cell_type": "markdown",
   "id": "701510eb",
   "metadata": {},
   "source": [
    "<h2> $\\mathcal{H}_\\infty$ Norm</h2>\n",
    "<br/>\n",
    "<font size=\"4\">\n",
    "For asymptotically stable systems it holds\n",
    "\n",
    "\\begin{align}\n",
    "\\lVert H \\rVert_{\\mathcal{H}_\\infty}\n",
    "= \\sup_{\\omega \\in \\mathbb{R}}\n",
    "\\lVert H(\\boldsymbol{\\imath} \\omega) \\rVert_2.\n",
    "\\end{align}\n",
    "</font>"
   ]
  },
  {
   "cell_type": "code",
   "execution_count": null,
   "id": "bedf0e01",
   "metadata": {},
   "outputs": [],
   "source": [
    "fom.hinf_norm()"
   ]
  },
  {
   "cell_type": "markdown",
   "id": "cedde666",
   "metadata": {},
   "source": [
    "<h3> Magnitude plot</h3>\n",
    "<br/>\n",
    "<font size=\"4\">\n",
    "For $\\omega \\in [\\omega_{min}, \\omega_{max}]$ plot $\\lVert H(\\boldsymbol{\\imath} \\omega) \\rVert_2$.\n",
    "</font>"
   ]
  },
  {
   "cell_type": "code",
   "execution_count": null,
   "id": "503a7474",
   "metadata": {},
   "outputs": [],
   "source": [
    "w = np.logspace(-3, 0, 100)\n",
    "_ = fom.transfer_function.mag_plot(w)"
   ]
  },
  {
   "cell_type": "markdown",
   "id": "7d7b0208",
   "metadata": {},
   "source": [
    "<h3> Equivalent LTI system </h3>\n",
    "\n",
    "<br/>\n",
    "<br/>\n",
    "<font size=\"4\">\n",
    "\\begin{align}\n",
    "    \\begin{bmatrix}\n",
    "                I & 0 \\\\\n",
    "                0 & M\n",
    "            \\end{bmatrix}\n",
    "            \\frac{\\mathrm{d}}{\\mathrm{d}t}\\!\n",
    "            \\begin{bmatrix}\n",
    "                x(t) \\\\\n",
    "                \\dot{x}(t)\n",
    "            \\end{bmatrix}\n",
    "            & =\n",
    "            \\begin{bmatrix}\n",
    "                0 & I \\\\\n",
    "                -K & -E\n",
    "            \\end{bmatrix}\n",
    "            \\begin{bmatrix}\n",
    "                x(t) \\\\\n",
    "                \\dot{x}(t)\n",
    "            \\end{bmatrix}\n",
    "            +\n",
    "            \\begin{bmatrix}\n",
    "                0 \\\\\n",
    "                B\n",
    "            \\end{bmatrix}\n",
    "            u(t), \\\\\n",
    "            y(t)\n",
    "            & =\n",
    "            \\begin{bmatrix}\n",
    "                C & 0\n",
    "            \\end{bmatrix}\n",
    "            \\begin{bmatrix}\n",
    "                x(t) \\\\\n",
    "                \\dot{x}(t)\n",
    "            \\end{bmatrix}\n",
    "\\end{align}\n",
    "\n",
    "  - state $[x(t), \\dot{x}(t)]^T \\in \\mathbb{R}^{2n}$ now includes displacement and velocity\n",
    "  - we can use any model reduction method for LTI systems to obtain reduced model\n",
    "    \n",
    "</font>"
   ]
  },
  {
   "cell_type": "code",
   "execution_count": null,
   "id": "132aeb1a",
   "metadata": {},
   "outputs": [],
   "source": [
    "lti = fom.to_lti()\n",
    "\n",
    "print(lti)"
   ]
  },
  {
   "cell_type": "code",
   "execution_count": null,
   "id": "a1cb4384",
   "metadata": {},
   "outputs": [],
   "source": [
    "from pymor.reductors.bt import BTReductor\n",
    "\n",
    "bt = BTReductor(lti)\n",
    "bt_rom = bt.reduce(r=10)"
   ]
  },
  {
   "cell_type": "code",
   "execution_count": null,
   "id": "6fbe76be",
   "metadata": {},
   "outputs": [],
   "source": [
    "bt_err = lti - bt_rom\n",
    "\n",
    "print(bt_err.h2_norm())"
   ]
  },
  {
   "cell_type": "code",
   "execution_count": null,
   "id": "3c1b50de",
   "metadata": {},
   "outputs": [],
   "source": [
    "hinf_err = bt_err.hinf_norm()\n",
    "error_bounds = bt.error_bounds()\n",
    "hsv = lti.hsv()\n",
    "\n",
    "fig, ax = plt.subplots()\n",
    "ax.semilogy(range(1, 20), error_bounds[0:19], '.-')\n",
    "ax.semilogy(range(1, 20), hsv[1:20], '.-')\n",
    "ax.semilogy(10, hinf_err, 'x')\n",
    "_ = ax.set_title(r'Upper and lower $\\mathcal{H}_\\infty$ error bounds')"
   ]
  },
  {
   "cell_type": "code",
   "execution_count": null,
   "id": "598ac01c",
   "metadata": {},
   "outputs": [],
   "source": [
    "from pymor.reductors.mt import MTReductor\n",
    "\n",
    "mt = MTReductor(lti)\n",
    "mt_rom = mt.reduce(r=10)"
   ]
  },
  {
   "cell_type": "code",
   "execution_count": null,
   "id": "ebbd8f8c",
   "metadata": {},
   "outputs": [],
   "source": [
    "mt_err = lti - mt_rom\n",
    "\n",
    "print(mt_err.h2_norm())\n",
    "print(mt_err.hinf_norm())"
   ]
  },
  {
   "cell_type": "code",
   "execution_count": null,
   "id": "6fb51bc7",
   "metadata": {},
   "outputs": [],
   "source": [
    "from pymor.reductors.h2 import IRKAReductor\n",
    "\n",
    "irka = IRKAReductor(lti)\n",
    "irka_rom = irka.reduce(10)"
   ]
  },
  {
   "cell_type": "code",
   "execution_count": null,
   "id": "dc02c752",
   "metadata": {},
   "outputs": [],
   "source": [
    "irka_err = lti - irka_rom\n",
    "\n",
    "print(irka_err.h2_norm())\n",
    "print(irka_err.hinf_norm())"
   ]
  },
  {
   "cell_type": "code",
   "execution_count": null,
   "id": "f19c2340",
   "metadata": {},
   "outputs": [],
   "source": [
    "w = np.logspace(-4, 2, 100)\n",
    "fig, ax = plt.subplots()\n",
    "\n",
    "_ = bt_err.transfer_function.mag_plot(w, ax=ax, label='bt')\n",
    "_ = mt_err.transfer_function.mag_plot(w, ax=ax, label='mt')\n",
    "_ = irka_err.transfer_function.mag_plot(w, ax=ax, label='irka')\n",
    "_ = ax.legend()"
   ]
  },
  {
   "cell_type": "markdown",
   "id": "a5c6b830",
   "metadata": {},
   "source": [
    "<h1> Structure preserving balanced truncation </h1>\n",
    "<br/>\n",
    "<font size=\"4\">\n",
    "\n",
    "- currently all ROMs are LTI systems\n",
    "- no physical interpretation (w.r.t. position and velocity) of the ROM's state is possible\n",
    "- structure preserving methods yield second-order ROM\n",
    "- consider the first order representation\n",
    "    \n",
    "\\begin{align}\n",
    "    \\begin{bmatrix}\n",
    "                I & 0 \\\\\n",
    "                0 & M\n",
    "            \\end{bmatrix}\n",
    "            \\frac{\\mathrm{d}}{\\mathrm{d}t}\\!\n",
    "            \\begin{bmatrix}\n",
    "                x(t) \\\\\n",
    "                \\dot{x}(t)\n",
    "            \\end{bmatrix}\n",
    "            & =\n",
    "            \\begin{bmatrix}\n",
    "                0 & I \\\\\n",
    "                -K & -E\n",
    "            \\end{bmatrix}\n",
    "            \\begin{bmatrix}\n",
    "                x(t) \\\\\n",
    "                \\dot{x}(t)\n",
    "            \\end{bmatrix}\n",
    "            +\n",
    "            \\begin{bmatrix}\n",
    "                0 \\\\\n",
    "                B\n",
    "            \\end{bmatrix}\n",
    "            u(t), \\\\\n",
    "            y(t)\n",
    "            & =\n",
    "            \\begin{bmatrix}\n",
    "                C & 0\n",
    "            \\end{bmatrix}\n",
    "            \\begin{bmatrix}\n",
    "                x(t) \\\\\n",
    "                \\dot{x}(t)\n",
    "            \\end{bmatrix}\n",
    "\\end{align}\n",
    "\n",
    "  with the controllability Gramian\n",
    "\n",
    "\\begin{align}\n",
    "    \\mathbf{P} = \\begin{bmatrix}\n",
    "                P_p & P_{12} \\\\\n",
    "                P_{12}^T & P_v\n",
    "            \\end{bmatrix}\n",
    "\\end{align}\n",
    "    \n",
    "- $P_p$ is called position controllability Gramian, $P_v$ is called velocity controllability Gramian\n",
    "- similarly $Q_p$ and $Q_v$ can be obtained\n",
    "- we can perform balancing of second-order system matrices with each combination of controllability and observability Gramians\n",
    "</font>"
   ]
  },
  {
   "cell_type": "code",
   "execution_count": null,
   "id": "bca8d3b5",
   "metadata": {
    "scrolled": true
   },
   "outputs": [],
   "source": [
    "from pymor.reductors.sobt import *"
   ]
  },
  {
   "cell_type": "code",
   "execution_count": null,
   "id": "73c7e149",
   "metadata": {},
   "outputs": [],
   "source": [
    "sobtp = SOBTpReductor(fom)\n",
    "sobtp_rom = sobtp.reduce(r=10)\n",
    "sobtp_err = fom - sobtp_rom"
   ]
  },
  {
   "cell_type": "code",
   "execution_count": null,
   "id": "b8da2721",
   "metadata": {},
   "outputs": [],
   "source": [
    "sobtv = SOBTvReductor(fom)\n",
    "sobtv_rom = sobtv.reduce(r=10)\n",
    "sobtv_err = fom - sobtv_rom"
   ]
  },
  {
   "cell_type": "code",
   "execution_count": null,
   "id": "def21c14",
   "metadata": {},
   "outputs": [],
   "source": [
    "sobtpv = SOBTpvReductor(fom)\n",
    "sobtpv_rom = sobtpv.reduce(r=10)\n",
    "sobtpv_err = fom - sobtpv_rom"
   ]
  },
  {
   "cell_type": "code",
   "execution_count": null,
   "id": "00fc801f",
   "metadata": {},
   "outputs": [],
   "source": [
    "sobtvp = SOBTvpReductor(fom)\n",
    "sobtvp_rom = sobtvp.reduce(r=10)\n",
    "sobtvp_err = fom - sobtvp_rom"
   ]
  },
  {
   "cell_type": "code",
   "execution_count": null,
   "id": "e0dc18b5",
   "metadata": {},
   "outputs": [],
   "source": [
    "sobt = SOBTReductor(fom)\n",
    "sobt_rom = sobt.reduce(r=10)\n",
    "sobt_err = fom - sobt_rom"
   ]
  },
  {
   "cell_type": "code",
   "execution_count": null,
   "id": "7f41c05e",
   "metadata": {},
   "outputs": [],
   "source": [
    "w = np.logspace(-4, 2, 100)\n",
    "fig, ax = plt.subplots()\n",
    "\n",
    "_ = sobtp_err.transfer_function.mag_plot(w, ax=ax, label='sobtp')\n",
    "_ = sobtv_err.transfer_function.mag_plot(w, ax=ax, label='sobtv')\n",
    "_ = sobtpv_err.transfer_function.mag_plot(w, ax=ax, label='sobtpv')\n",
    "_ = sobtvp_err.transfer_function.mag_plot(w, ax=ax, label='sobtvp')\n",
    "_ = sobt_err.transfer_function.mag_plot(w, ax=ax, label='sobt')\n",
    "_ = ax.legend()"
   ]
  },
  {
   "cell_type": "code",
   "execution_count": null,
   "id": "7a5d778f",
   "metadata": {},
   "outputs": [],
   "source": []
  }
 ],
 "metadata": {
  "kernelspec": {
   "display_name": "Python 3",
   "language": "python",
   "name": "python3"
  },
  "language_info": {
   "codemirror_mode": {
    "name": "ipython",
    "version": 3
   },
   "file_extension": ".py",
   "mimetype": "text/x-python",
   "name": "python",
   "nbconvert_exporter": "python",
   "pygments_lexer": "ipython3",
   "version": "3.8.10"
  }
 },
 "nbformat": 4,
 "nbformat_minor": 5
}
