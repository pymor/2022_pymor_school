{
 "cells": [
  {
   "cell_type": "markdown",
   "id": "de83b83e",
   "metadata": {
    "slideshow": {
     "slide_type": "slide"
    }
   },
   "source": [
    "<center><img src=\"img/pymor_logo.png\" width=\"70%\"></center>\n",
    "\n",
    "# Model Order Reduction with pyMOR -- an Interactive Crash Course\n",
    "\n",
    "## pyMOR School 2022\n",
    "## Stephan Rave, Petar Mlinarić"
   ]
  },
  {
   "cell_type": "markdown",
   "id": "760cfff4",
   "metadata": {
    "slideshow": {
     "slide_type": "subslide"
    }
   },
   "source": [
    "# Outline\n",
    "\n",
    "## What is pyMOR?\n",
    "\n",
    "## Reduced Basis Methods with pyMOR\n",
    "\n",
    "## System-Theoretic Methods with pyMOR"
   ]
  },
  {
   "cell_type": "markdown",
   "id": "4bcc1189",
   "metadata": {
    "slideshow": {
     "slide_type": "slide"
    }
   },
   "source": [
    "# What is pyMOR?"
   ]
  },
  {
   "cell_type": "markdown",
   "id": "98b1c11a",
   "metadata": {
    "slideshow": {
     "slide_type": "fragment"
    }
   },
   "source": [
    "pyMOR is ..."
   ]
  },
  {
   "cell_type": "markdown",
   "id": "d85139aa",
   "metadata": {
    "slideshow": {
     "slide_type": "fragment"
    }
   },
   "source": [
    "- a software library for writing **M**odel **O**rder **R**eduction applications"
   ]
  },
  {
   "cell_type": "markdown",
   "id": "f30ac126",
   "metadata": {
    "slideshow": {
     "slide_type": "fragment"
    }
   },
   "source": [
    "- in the **py**thon programming language."
   ]
  },
  {
   "cell_type": "markdown",
   "id": "8fe6c205",
   "metadata": {
    "slideshow": {
     "slide_type": "fragment"
    }
   },
   "source": [
    "- BSD-licensed, fork us on [Github](https://github.com/pymor/pymor)."
   ]
  },
  {
   "cell_type": "markdown",
   "id": "0c6799b9",
   "metadata": {
    "slideshow": {
     "slide_type": "fragment"
    }
   },
   "source": [
    "- Started 2012, 23k lines of code, 8k commits."
   ]
  },
  {
   "cell_type": "markdown",
   "id": "eb073b18",
   "metadata": {
    "slideshow": {
     "slide_type": "subslide"
    }
   },
   "source": [
    "## Design Goals"
   ]
  },
  {
   "cell_type": "markdown",
   "id": "9dd6cf5e",
   "metadata": {
    "slideshow": {
     "slide_type": "fragment"
    }
   },
   "source": [
    "> **Goal 1:** One library for algorithm development *and* large-scale applications."
   ]
  },
  {
   "cell_type": "markdown",
   "id": "95e1df66",
   "metadata": {
    "slideshow": {
     "slide_type": "fragment"
    }
   },
   "source": [
    "- Small NumPy/SciPy-based discretization toolkit for easy prototyping.\n",
    "- `VectorArray`, `Operator`, `Model` interfaces for seamless integration with high-performance PDE solvers."
   ]
  },
  {
   "cell_type": "markdown",
   "id": "23f55cbf",
   "metadata": {
    "slideshow": {
     "slide_type": "fragment"
    }
   },
   "source": [
    "> **Goal 2:** Unified view on MOR."
   ]
  },
  {
   "cell_type": "markdown",
   "id": "56eb588c",
   "metadata": {
    "slideshow": {
     "slide_type": "fragment"
    }
   },
   "source": [
    "- Implement RB and system-theoretic methods in one common language."
   ]
  },
  {
   "cell_type": "markdown",
   "id": "3f1170d7",
   "metadata": {
    "slideshow": {
     "slide_type": "subslide"
    }
   },
   "source": [
    "## Implemented Algorithms\n",
    "\n",
    "- Gram-Schmidt, POD, HAPOD.\n",
    "- Greedy basis generation with different extension algorithms.\n",
    "- Automatic (Petrov-)Galerkin projection of arbitrarily nested affine combinations of operators.\n",
    "- Interpolation of arbitrary (nonlinear) operators, EI-Greedy, DEIM.\n",
    "- A posteriori error estimation.\n",
    "- System theory methods: balanced truncation, IRKA, ...\n",
    "- Iterative linear solvers, eigenvalue computation, Newton algorithm, time-stepping algorithms.\n",
    "- Non-intrusive MOR using artificial neural networks.\n",
    "- **New!** Dynamic Mode Decomposition\n",
    "- **New!** Discrete-time systems\n",
    "- **New!** Structure preserving methods for symplectic models"
   ]
  },
  {
   "cell_type": "markdown",
   "id": "f216dc9e",
   "metadata": {
    "slideshow": {
     "slide_type": "subslide"
    }
   },
   "source": [
    "## PDE Solvers\n",
    "\n",
    "### Official Support:\n",
    "\n",
    "- [deal.II](https://dealii.org)\n",
    "- [FEniCS](https://fenicsproject.org)\n",
    "- [NGSolve](https://ngsolve.org)\n",
    "- [DUNE](https://dune-project.org)\n",
    "- experimental support for [FEniCSx](https://fenicsproject.org) (see fenicsx branch)\n",
    "\n",
    "\n",
    "### Used with:\n",
    "\n",
    "- [BEST](https://www.itwm.fraunhofer.de/en/departments/sms/products-services/best-battery-electrochemistry-simulation-tool.html)\n",
    "- [GridLOD](https://github.com/fredrikhellman/gridlod)\n",
    "- [PoreChem](https://www.itwm.fraunhofer.de/en/departments/sms/products-services/porechem.html)\n",
    "- file I/O, e.g. [COMSOL](https://comsol.com)\n",
    "- ..."
   ]
  },
  {
   "cell_type": "markdown",
   "id": "1d39b125",
   "metadata": {
    "slideshow": {
     "slide_type": "subslide"
    }
   },
   "source": [
    "## pyMOR Development\n",
    "\n",
    "### Main Developers\n",
    "<table><tr>\n",
    "<td><img src=\"img/balicki.png\"></td>\n",
    "<td><img src=\"img/fritze.jpg\"></td>\n",
    "<td><img src=\"img/mlinaric.jpeg\"></td>\n",
    "<td><img src=\"img/rave.jpg\"></td>\n",
    "<td><img src=\"img/schindler.png\"></td>\n",
    "</tr></table>"
   ]
  },
  {
   "cell_type": "markdown",
   "id": "3d292c12",
   "metadata": {
    "slideshow": {
     "slide_type": "fragment"
    }
   },
   "source": [
    "### Contributions\n",
    "- everyone can/should(!) contribute (see talk on Friday)\n",
    "- everyone can become main developer"
   ]
  },
  {
   "cell_type": "markdown",
   "id": "d302af61",
   "metadata": {
    "slideshow": {
     "slide_type": "subslide"
    }
   },
   "source": [
    "## Installing pyMOR"
   ]
  },
  {
   "cell_type": "markdown",
   "id": "95e6560a",
   "metadata": {
    "slideshow": {
     "slide_type": "subslide"
    }
   },
   "source": [
    "### Installing pyMOR using pip\n",
    " \n",
    "- minimal installation:\n",
    "  \n",
    "  ```\n",
    "  pip3 install pymor\n",
    "  ```\n",
    "\n",
    "- all bells and whistles\n",
    "  \n",
    "  ```\n",
    "  pip3 install pymor[full]  # needed for GUI\n",
    "  pip3 install mpi4py  # requires C compiler / MPI headers\n",
    "  pip3 install slycot  # requires Fortran / OpenBLAS headers\n",
    "  ```\n",
    "  \n",
    "  [M.E.S.S.](https://www.mpi-magdeburg.mpg.de/projects/mess) (Matrix Equation Sparse Solver), `pip install pymess`\n",
    "\n",
    "Using a [virtual environment](https://docs.python.org/3/tutorial/venv.html) is highly recommended."
   ]
  },
  {
   "cell_type": "markdown",
   "id": "a8c6ef8d",
   "metadata": {
    "slideshow": {
     "slide_type": "subslide"
    }
   },
   "source": [
    "### Installing pyMOR using conda\n",
    "\n",
    "\n",
    "- all bells and whistles (windows)\n",
    "\n",
    "  ```\n",
    "  conda install -c conda-forge pymor\n",
    "  conda install -c conda-forge slycot\n",
    "  conda install -c pytorch pytorch  # no conda-forge package available\n",
    "  ```\n",
    "  \n",
    "- all bells and whistles (linux)\n",
    "  ```\n",
    "  conda install -c conda-forge pymor\n",
    "  conda install -c conda-forge slycot\n",
    "  conda install -c conda-forge pytorch\n",
    "  conda install -c conda-forge fenics  # not on windows\n",
    "  ```\n",
    "  \n",
    "Avoid mixing [conda-forge](https://conda-forge.org) with other channels,\n",
    "  \n",
    "  ```\n",
    "  conda config --set channel_priority strict \n",
    "  ```\n",
    "  \n",
    "and use a separate environment. (NGSolve is incompatible.)"
   ]
  },
  {
   "cell_type": "markdown",
   "id": "35088615",
   "metadata": {
    "slideshow": {
     "slide_type": "subslide"
    }
   },
   "source": [
    "### Using the docker container\n",
    "\n",
    "```\n",
    "docker pull pymor/demo:main\n",
    "```\n",
    "\n",
    "Comes with everything pre-installed, including FEniCS and NGSolve."
   ]
  },
  {
   "cell_type": "markdown",
   "id": "4cee9bde",
   "metadata": {
    "slideshow": {
     "slide_type": "subslide"
    }
   },
   "source": [
    "### Using our Binderhub\n",
    "Go to\n",
    "\n",
    ">  https://binderhub.uni-muenster.de/v2/gh/pymor/pymor/2021.1.0?token=ko5zhb3pn5ue4tbl\n",
    "\n",
    "- Runs our docker image.\n",
    "- Persistent storage during pyMOR School.\n",
    "- Create your own directory and don't open other people's stuff!"
   ]
  },
  {
   "cell_type": "markdown",
   "id": "d9d2f18f",
   "metadata": {
    "slideshow": {
     "slide_type": "subslide"
    }
   },
   "source": [
    "## Hello pyMOR!"
   ]
  },
  {
   "cell_type": "code",
   "execution_count": null,
   "id": "84d98ee6",
   "metadata": {
    "slideshow": {
     "slide_type": "fragment"
    }
   },
   "outputs": [],
   "source": [
    "import pymor\n",
    "pymor.config"
   ]
  },
  {
   "cell_type": "code",
   "execution_count": null,
   "id": "f6005621",
   "metadata": {
    "slideshow": {
     "slide_type": "subslide"
    }
   },
   "outputs": [],
   "source": [
    "from pymor.basic import *\n",
    "print_defaults()"
   ]
  },
  {
   "cell_type": "markdown",
   "id": "dd3c8e4f",
   "metadata": {
    "slideshow": {
     "slide_type": "subslide"
    }
   },
   "source": [
    "## Subpackages of the pymor Package\n",
    "\n",
    "|                                |                                                      |\n",
    "| :-                             | :-                                                   |\n",
    "| **`pymor.algorithms`**         | generic algorithms                                   |\n",
    "| **`pymor.analyticalproblems`** | problem descriptions for use with discretizers       |\n",
    "| `pymor.bindings`               | bindings to external solvers                         |\n",
    "| `pymor.core`                   | base classes/caching/defaults/logging                |\n",
    "| **`pymor.discretizers`**       | create `Models` from `analyticalproblems`            |\n",
    "| **`pymor.models`**             | `Model` interface/implementations                    |\n",
    "| **`pymor.operators`**          | `Operator` interface/constructions                   |\n",
    "| `pymor.parallel`               | `WorkerPools` for parallelization                    |\n",
    "| **`pymor.parameters`**         | parameter support/`ParameterFunctionals`             |\n",
    "| **`pymor.reductors`**          | most MOR algorithms (rest in `pymor.algorithms`)     |\n",
    "| `pymor.scripts`                | executable helper scripts for demos/visualization    |\n",
    "| `pymor.tools`                  | non MOR-specific support code (pprint/floatcmp, ...) |\n",
    "| **`pymor.vectorarrays`**       | `VectorArray` interface/implementations              |"
   ]
  },
  {
   "cell_type": "markdown",
   "id": "d0d772c2",
   "metadata": {
    "slideshow": {
     "slide_type": "subslide"
    }
   },
   "source": [
    "## Getting help\n",
    "\n",
    "- pyMOR's documentation can be found at\n",
    "\n",
    "  > https://docs.pymor.org\n",
    "\n",
    "- Be sure to read the [introduction](https://docs.pymor.org/2022-1-0/getting_started.html),\n",
    "  the [technical overview](https://docs.pymor.org/2022-1-0/technical_overview.html) and\n",
    "  the [tutorials](https://docs.pymor.org/2022-1-0/tutorials.html)."
   ]
  },
  {
   "cell_type": "markdown",
   "id": "c05fd11d",
   "metadata": {
    "slideshow": {
     "slide_type": "fragment"
    }
   },
   "source": [
    "- Ask questions on\n",
    "\n",
    "  > https://github.com/pymor/pymor/discussions"
   ]
  },
  {
   "cell_type": "markdown",
   "id": "c5e9e267",
   "metadata": {
    "slideshow": {
     "slide_type": "slide"
    }
   },
   "source": [
    "# Reduced Basis Methods with pyMOR"
   ]
  },
  {
   "cell_type": "markdown",
   "id": "382487d9",
   "metadata": {
    "slideshow": {
     "slide_type": "subslide"
    }
   },
   "source": [
    "## Building the FOM"
   ]
  },
  {
   "cell_type": "markdown",
   "id": "3be02fbd",
   "metadata": {
    "slideshow": {
     "slide_type": "subslide"
    }
   },
   "source": [
    "### The Thermal Block Problem\n",
    "\n",
    "Solve:\n",
    "\n",
    "\\begin{align}\n",
    "- \\nabla \\cdot [d(x, \\mu) \\nabla u(x, \\mu)] &= f(x),  & x &\\in \\Omega,\\\\\n",
    "                                  u(x, \\mu) &= 0,     & x &\\in \\partial\\Omega,\n",
    "\\end{align}\n",
    "\n",
    "where\n",
    "\n",
    "\\begin{align}\n",
    "d(x, \\mu) &= \\sum_{q=1}^Q \\mathbb{1}_{\\Omega_q}, \\\\\n",
    "f(x)      &= 1.\n",
    "\\end{align}\n",
    "\n",
    "satisfying $\\overline{\\Omega} = \\overline{\\dot{\\bigcup}_{i=1}^{Q} \\Omega_q}$."
   ]
  },
  {
   "cell_type": "markdown",
   "id": "6c34b049",
   "metadata": {
    "slideshow": {
     "slide_type": "subslide"
    }
   },
   "source": [
    "### Setting up an analytical description of the thermal block problem\n",
    "\n",
    "The thermal block problem already comes with pyMOR:"
   ]
  },
  {
   "cell_type": "code",
   "execution_count": null,
   "id": "c4c88f9a",
   "metadata": {},
   "outputs": [],
   "source": [
    "from pymor.basic import *\n",
    "p = thermal_block_problem([2,2])"
   ]
  },
  {
   "cell_type": "markdown",
   "id": "e86dee44",
   "metadata": {
    "slideshow": {
     "slide_type": "fragment"
    }
   },
   "source": [
    "Our problem is parameterized:"
   ]
  },
  {
   "cell_type": "code",
   "execution_count": null,
   "id": "014dba66",
   "metadata": {},
   "outputs": [],
   "source": [
    "p.parameters"
   ]
  },
  {
   "cell_type": "markdown",
   "id": "97261b38",
   "metadata": {
    "slideshow": {
     "slide_type": "subslide"
    }
   },
   "source": [
    "### Looking at the definition\n",
    "\n",
    "We can easily look at the definition of `p` by printing its `repr`:"
   ]
  },
  {
   "cell_type": "code",
   "execution_count": null,
   "id": "89d0a843",
   "metadata": {},
   "outputs": [],
   "source": [
    "p"
   ]
  },
  {
   "cell_type": "markdown",
   "id": "ee2fb3c3",
   "metadata": {
    "slideshow": {
     "slide_type": "subslide"
    }
   },
   "source": [
    "### Building a discrete model\n",
    "\n",
    "We use the builtin discretizer `discretize_stationary_cg` to compute a finite-element discretization of the problem:"
   ]
  },
  {
   "cell_type": "code",
   "execution_count": null,
   "id": "5ddff6f7",
   "metadata": {},
   "outputs": [],
   "source": [
    "from pymor.basic import *\n",
    "fom, data = discretize_stationary_cg(p, diameter=1/100)"
   ]
  },
  {
   "cell_type": "markdown",
   "id": "f48f6da6",
   "metadata": {
    "slideshow": {
     "slide_type": "fragment"
    }
   },
   "source": [
    "`fom` is a `Model`. It has the same `Parameters` as `p`:"
   ]
  },
  {
   "cell_type": "code",
   "execution_count": null,
   "id": "a3434221",
   "metadata": {},
   "outputs": [],
   "source": [
    "fom.parameters"
   ]
  },
  {
   "cell_type": "markdown",
   "id": "9bcad6d4",
   "metadata": {
    "slideshow": {
     "slide_type": "subslide"
    }
   },
   "source": [
    "### Looking at the model\n",
    "\n",
    "`fom` inherits its structure from `p`:"
   ]
  },
  {
   "cell_type": "code",
   "execution_count": null,
   "id": "b037370b",
   "metadata": {},
   "outputs": [],
   "source": [
    "fom"
   ]
  },
  {
   "cell_type": "markdown",
   "id": "468af6fd",
   "metadata": {
    "slideshow": {
     "slide_type": "subslide"
    }
   },
   "source": [
    "### Note\n",
    "\n",
    "> Using an `analyticalproblem` and a `discretizer` is just one way\n",
    "  to build the FOM.\n",
    "  \n",
    "> Everything that follows works the same for a FOM built using an external PDE solver."
   ]
  },
  {
   "cell_type": "markdown",
   "id": "384d6b3f",
   "metadata": {
    "slideshow": {
     "slide_type": "subslide"
    }
   },
   "source": [
    "### Solving the FOM\n",
    "\n",
    "Remember the FOM's parameters:"
   ]
  },
  {
   "cell_type": "code",
   "execution_count": null,
   "id": "738501de",
   "metadata": {},
   "outputs": [],
   "source": [
    "fom.parameters"
   ]
  },
  {
   "cell_type": "markdown",
   "id": "91951ab5",
   "metadata": {
    "slideshow": {
     "slide_type": "fragment"
    }
   },
   "source": [
    "To `solve` the FOM, we need to specify values for those parameters:"
   ]
  },
  {
   "cell_type": "code",
   "execution_count": null,
   "id": "5f08a321",
   "metadata": {},
   "outputs": [],
   "source": [
    "U = fom.solve({'diffusion': [1., 0.01, 0.1, 1]})"
   ]
  },
  {
   "cell_type": "markdown",
   "id": "165e46d4",
   "metadata": {
    "slideshow": {
     "slide_type": "fragment"
    }
   },
   "source": [
    "`U` is a `VectorArray`, an ordered collection of vectors of the same dimension:"
   ]
  },
  {
   "cell_type": "code",
   "execution_count": null,
   "id": "ed2cbb28",
   "metadata": {},
   "outputs": [],
   "source": [
    "U"
   ]
  },
  {
   "cell_type": "markdown",
   "id": "80864d75",
   "metadata": {
    "slideshow": {
     "slide_type": "fragment"
    }
   },
   "source": [
    "> There is not the notion of a single vector in pyMOR! Don't try to get hold of one!"
   ]
  },
  {
   "cell_type": "markdown",
   "id": "b1de9b38",
   "metadata": {
    "slideshow": {
     "slide_type": "subslide"
    }
   },
   "source": [
    "### Some words about VectorArrays\n",
    "\n",
    "Each `VectorArray` has a length, giving you the number of vectors:"
   ]
  },
  {
   "cell_type": "code",
   "execution_count": null,
   "id": "761fa341",
   "metadata": {},
   "outputs": [],
   "source": [
    "len(U)"
   ]
  },
  {
   "cell_type": "markdown",
   "id": "e7ab4b1d",
   "metadata": {
    "slideshow": {
     "slide_type": "fragment"
    }
   },
   "source": [
    "Its dimension gives you the *uniform* size of each vector in the array:"
   ]
  },
  {
   "cell_type": "code",
   "execution_count": null,
   "id": "54141cc1",
   "metadata": {},
   "outputs": [],
   "source": [
    "U.dim"
   ]
  },
  {
   "cell_type": "markdown",
   "id": "b45acfa3",
   "metadata": {
    "slideshow": {
     "slide_type": "subslide"
    }
   },
   "source": [
    "### Supported Operations:\n",
    "\n",
    "|                  |                                                        |\n",
    "| :-               | :-                                                     |\n",
    "| `+`/`-`/`*`      | elementwise addition/subtraction/scalar multiplication |\n",
    "| `inner`          | matrix of inner products between all vectors           |\n",
    "| `pairwise_inner` | list of pairwise inner products                        |\n",
    "| `lincomb`        | linear combination of the vectors in the array         |\n",
    "| `scal`           | in-place scalar multiplication                         |\n",
    "| `axpy`           | in-place BLAS axpy operation                           |\n",
    "| `dofs`           | return some degrees of freedom as NumPy array          |\n",
    "| `norm`           | list of norms                                          |\n",
    "| `append`         | append vectors from another array                      |"
   ]
  },
  {
   "cell_type": "markdown",
   "id": "c32a647c",
   "metadata": {
    "slideshow": {
     "slide_type": "subslide"
    }
   },
   "source": [
    "### Playing a bit with VectorArrays\n",
    "\n",
    "> All `VectorArrays` are created by their `VectorSpace`"
   ]
  },
  {
   "cell_type": "code",
   "execution_count": null,
   "id": "03c48ce9",
   "metadata": {},
   "outputs": [],
   "source": [
    "V = fom.solution_space.empty()"
   ]
  },
  {
   "cell_type": "markdown",
   "id": "d4dd98ab",
   "metadata": {},
   "source": [
    "Let's accumulate some solutions:"
   ]
  },
  {
   "cell_type": "code",
   "execution_count": null,
   "id": "05e55e3e",
   "metadata": {},
   "outputs": [],
   "source": [
    "for mu in p.parameter_space.sample_randomly(10):\n",
    "    V.append(fom.solve(mu))"
   ]
  },
  {
   "cell_type": "code",
   "execution_count": null,
   "id": "99cfdc04",
   "metadata": {},
   "outputs": [],
   "source": [
    "# your code here ..."
   ]
  },
  {
   "cell_type": "markdown",
   "id": "cf8c2fcb",
   "metadata": {
    "slideshow": {
     "slide_type": "subslide"
    }
   },
   "source": [
    "### Indexing\n",
    "We can index a `VectorArray` using numbers, sequences of numbers, or slices, e.g.:"
   ]
  },
  {
   "cell_type": "code",
   "execution_count": null,
   "id": "5aa941c7",
   "metadata": {},
   "outputs": [],
   "source": [
    "V_indexed = V[3:6]"
   ]
  },
  {
   "cell_type": "markdown",
   "id": "262169c0",
   "metadata": {},
   "source": [
    "Indexing **always** create a view on the original array:"
   ]
  },
  {
   "cell_type": "code",
   "execution_count": null,
   "id": "a326f0d6",
   "metadata": {},
   "outputs": [],
   "source": [
    "print(V_indexed.is_view)\n",
    "V_indexed *= 0\n",
    "V.norm()"
   ]
  },
  {
   "cell_type": "markdown",
   "id": "ac7adf4d",
   "metadata": {
    "slideshow": {
     "slide_type": "subslide"
    }
   },
   "source": [
    "### Looking at the solution\n",
    "\n",
    "We can use the `visualize` method to plot the solution:"
   ]
  },
  {
   "cell_type": "code",
   "execution_count": null,
   "id": "f9ff618e",
   "metadata": {},
   "outputs": [],
   "source": [
    "fom.visualize(U)"
   ]
  },
  {
   "cell_type": "markdown",
   "id": "983e2da1",
   "metadata": {
    "slideshow": {
     "slide_type": "subslide"
    }
   },
   "source": [
    "### Looking at the solution\n",
    "\n",
    "An array with multiple elements is visualized as a time-series:"
   ]
  },
  {
   "cell_type": "code",
   "execution_count": null,
   "id": "ac1fa527",
   "metadata": {},
   "outputs": [],
   "source": [
    "fom.visualize(V)"
   ]
  },
  {
   "cell_type": "markdown",
   "id": "cfd06a11",
   "metadata": {
    "slideshow": {
     "slide_type": "subslide"
    }
   },
   "source": [
    "### Is the solution really a solution?\n",
    "\n",
    "We compute the residual:"
   ]
  },
  {
   "cell_type": "code",
   "execution_count": null,
   "id": "5114fa35",
   "metadata": {},
   "outputs": [],
   "source": [
    "mu = fom.parameters.parse([1., 0.01, 0.1, 1])\n",
    "U = fom.solve(mu)\n",
    "(fom.operator.apply(U, mu=mu) - fom.rhs.as_vector(mu)).norm()"
   ]
  },
  {
   "cell_type": "markdown",
   "id": "35f4abd5",
   "metadata": {},
   "source": [
    "> If you implement a `Model`, make sure that `solve` really returns solutions with zero residual!"
   ]
  },
  {
   "cell_type": "markdown",
   "id": "71570f86",
   "metadata": {
    "slideshow": {
     "slide_type": "subslide"
    }
   },
   "source": [
    "### So how is `fom.rhs` defined?\n",
    "\n",
    "Let's look at it:"
   ]
  },
  {
   "cell_type": "code",
   "execution_count": null,
   "id": "5fb01fef",
   "metadata": {},
   "outputs": [],
   "source": [
    "fom.rhs"
   ]
  },
  {
   "cell_type": "markdown",
   "id": "784a3f5f",
   "metadata": {
    "slideshow": {
     "slide_type": "fragment"
    }
   },
   "source": [
    "What does `as_vector` do?"
   ]
  },
  {
   "cell_type": "code",
   "execution_count": null,
   "id": "b7c274cf",
   "metadata": {},
   "outputs": [],
   "source": [
    "from pymor.tools.formatsrc import print_source\n",
    "print_source(fom.rhs.as_vector)"
   ]
  },
  {
   "cell_type": "markdown",
   "id": "c872e5dd",
   "metadata": {
    "slideshow": {
     "slide_type": "subslide"
    }
   },
   "source": [
    "## Reducing the FOM"
   ]
  },
  {
   "cell_type": "markdown",
   "id": "d0622621",
   "metadata": {
    "slideshow": {
     "slide_type": "subslide"
    }
   },
   "source": [
    "### Building an approximation space\n",
    "\n",
    "As before, we compute some random solution **snapshots** of the FOM, which will\n",
    "span our **reduced** approximation space:"
   ]
  },
  {
   "cell_type": "code",
   "execution_count": null,
   "id": "d2c55129",
   "metadata": {},
   "outputs": [],
   "source": [
    "snapshots = fom.solution_space.empty()\n",
    "for mu in p.parameter_space.sample_randomly(10):\n",
    "    snapshots.append(fom.solve(mu))"
   ]
  },
  {
   "cell_type": "markdown",
   "id": "156bedd0",
   "metadata": {},
   "source": [
    "It's a good idea, to orthonormalize the basis:"
   ]
  },
  {
   "cell_type": "code",
   "execution_count": null,
   "id": "349651cd",
   "metadata": {},
   "outputs": [],
   "source": [
    "basis = gram_schmidt(snapshots)"
   ]
  },
  {
   "cell_type": "markdown",
   "id": "14ee9f90",
   "metadata": {
    "slideshow": {
     "slide_type": "subslide"
    }
   },
   "source": [
    "### Projecting the Model\n",
    "\n",
    "In pyMOR, ROMs are built using a `Reductor`. Let's pick the most basic `Reductor`\n",
    "available for a `StationaryModel`:"
   ]
  },
  {
   "cell_type": "code",
   "execution_count": null,
   "id": "4c8bbdff",
   "metadata": {},
   "outputs": [],
   "source": [
    "reductor = StationaryRBReductor(fom, basis)"
   ]
  },
  {
   "cell_type": "markdown",
   "id": "6f2f6489",
   "metadata": {},
   "source": [
    "Every reductor has a `reduce` method, which builds the ROM:"
   ]
  },
  {
   "cell_type": "code",
   "execution_count": null,
   "id": "23371d55",
   "metadata": {},
   "outputs": [],
   "source": [
    "rom = reductor.reduce()"
   ]
  },
  {
   "cell_type": "markdown",
   "id": "23dc0386",
   "metadata": {
    "slideshow": {
     "slide_type": "subslide"
    }
   },
   "source": [
    "### Comparing ROM and FOM"
   ]
  },
  {
   "cell_type": "code",
   "execution_count": null,
   "id": "b8fed82b",
   "metadata": {},
   "outputs": [],
   "source": [
    "fom"
   ]
  },
  {
   "cell_type": "code",
   "execution_count": null,
   "id": "34ed8293",
   "metadata": {},
   "outputs": [],
   "source": [
    "rom"
   ]
  },
  {
   "cell_type": "markdown",
   "id": "946ba086",
   "metadata": {
    "slideshow": {
     "slide_type": "subslide"
    }
   },
   "source": [
    "### Solving the ROM\n",
    "\n",
    "To solve the ROM, we just use `solve` again,"
   ]
  },
  {
   "cell_type": "code",
   "execution_count": null,
   "id": "63b514b2",
   "metadata": {},
   "outputs": [],
   "source": [
    "mu = fom.parameters.parse([1., 0.01, 0.1, 1])\n",
    "u_rom = rom.solve(mu)"
   ]
  },
  {
   "cell_type": "markdown",
   "id": "16ac2118",
   "metadata": {
    "slideshow": {
     "slide_type": "fragment"
    }
   },
   "source": [
    "to get the reduced coefficients:"
   ]
  },
  {
   "cell_type": "code",
   "execution_count": null,
   "id": "95aef102",
   "metadata": {},
   "outputs": [],
   "source": [
    "u_rom"
   ]
  },
  {
   "cell_type": "markdown",
   "id": "7c3c76a8",
   "metadata": {
    "slideshow": {
     "slide_type": "fragment"
    }
   },
   "source": [
    "A high-dimensional representation is obtained from the `reductor`:"
   ]
  },
  {
   "cell_type": "code",
   "execution_count": null,
   "id": "351c8cfc",
   "metadata": {},
   "outputs": [],
   "source": [
    "U_rom = reductor.reconstruct(u_rom)"
   ]
  },
  {
   "cell_type": "markdown",
   "id": "397692e5",
   "metadata": {
    "slideshow": {
     "slide_type": "subslide"
    }
   },
   "source": [
    "### Computing the MOR error\n",
    "\n",
    "Let's compute the error:"
   ]
  },
  {
   "cell_type": "code",
   "execution_count": null,
   "id": "0c2dddf5",
   "metadata": {},
   "outputs": [],
   "source": [
    "U = fom.solve(mu)\n",
    "ERR = U - U_rom\n",
    "ERR.norm() / U.norm()"
   ]
  },
  {
   "cell_type": "markdown",
   "id": "b509255b",
   "metadata": {
    "slideshow": {
     "slide_type": "fragment"
    }
   },
   "source": [
    "and look at it:"
   ]
  },
  {
   "cell_type": "code",
   "execution_count": null,
   "id": "54f2c071",
   "metadata": {},
   "outputs": [],
   "source": [
    "fom.visualize(ERR)"
   ]
  },
  {
   "cell_type": "markdown",
   "id": "f8d89761",
   "metadata": {
    "slideshow": {
     "slide_type": "subslide"
    }
   },
   "source": [
    "### Certified Reduced Basis Method\n",
    "\n",
    "Let's use use a more sophisticated `reductor` which assembles an efficient\n",
    "upper bound for the MOR error:"
   ]
  },
  {
   "cell_type": "code",
   "execution_count": null,
   "id": "275f2a77",
   "metadata": {},
   "outputs": [],
   "source": [
    "reductor = CoerciveRBReductor(\n",
    "   fom,\n",
    "   product=fom.h1_0_semi_product,\n",
    "   coercivity_estimator=ExpressionParameterFunctional('min(diffusion)', fom.parameters)\n",
    ")"
   ]
  },
  {
   "cell_type": "markdown",
   "id": "b83557ce",
   "metadata": {
    "slideshow": {
     "slide_type": "fragment"
    }
   },
   "source": [
    "and build a basis using a greedy search over the parameter space:"
   ]
  },
  {
   "cell_type": "code",
   "execution_count": null,
   "id": "874a01f5",
   "metadata": {},
   "outputs": [],
   "source": [
    "training_set = p.parameter_space.sample_uniformly(4)\n",
    "print(training_set[0])"
   ]
  },
  {
   "cell_type": "code",
   "execution_count": null,
   "id": "3f253651",
   "metadata": {},
   "outputs": [],
   "source": [
    "greedy_data = rb_greedy(fom, reductor, training_set, max_extensions=20)\n",
    "print(greedy_data.keys())\n",
    "rom = greedy_data['rom']"
   ]
  },
  {
   "cell_type": "markdown",
   "id": "50cdd35f",
   "metadata": {
    "slideshow": {
     "slide_type": "subslide"
    }
   },
   "source": [
    "### Testing the ROM\n",
    "\n",
    "Let's compute the error again:"
   ]
  },
  {
   "cell_type": "code",
   "execution_count": null,
   "id": "ccf9c07a",
   "metadata": {},
   "outputs": [],
   "source": [
    "mu = p.parameter_space.sample_randomly()\n",
    "U = fom.solve(mu)\n",
    "u_rom = rom.solve(mu)\n",
    "ERR = U - reductor.reconstruct(u_rom)\n",
    "ERR.norm(fom.h1_0_semi_product)"
   ]
  },
  {
   "cell_type": "markdown",
   "id": "e0902300",
   "metadata": {
    "slideshow": {
     "slide_type": "fragment"
    }
   },
   "source": [
    "and compare it with the estimated error:"
   ]
  },
  {
   "cell_type": "code",
   "execution_count": null,
   "id": "b3f412ca",
   "metadata": {},
   "outputs": [],
   "source": [
    "rom.estimate_error(mu)"
   ]
  },
  {
   "cell_type": "markdown",
   "id": "26f139e4",
   "metadata": {
    "slideshow": {
     "slide_type": "subslide"
    }
   },
   "source": [
    "### Is it faster?\n",
    "\n",
    "Finally, we compute some timings:"
   ]
  },
  {
   "cell_type": "code",
   "execution_count": null,
   "id": "e91e60b6",
   "metadata": {},
   "outputs": [],
   "source": [
    "from time import perf_counter\n",
    "mus = p.parameter_space.sample_randomly(10)\n",
    "tic = perf_counter()\n",
    "for mu in mus:\n",
    "    fom.solve(mu)\n",
    "t_fom = perf_counter() - tic\n",
    "tic = perf_counter()\n",
    "for mu in mus:\n",
    "    rom.solve(mu)\n",
    "t_rom = perf_counter() - tic\n",
    "print(f'Speedup: {t_fom/t_rom}')"
   ]
  },
  {
   "cell_type": "markdown",
   "id": "bbc49387",
   "metadata": {
    "slideshow": {
     "slide_type": "subslide"
    }
   },
   "source": [
    "### Some things to try\n",
    "\n",
    "- Plot the MOR error vs. the dimension of the reduced space.\n",
    " \n",
    "- Plot the speedup vs. the dimension of the reduced space.\n",
    "\n",
    "- Compute the maximum/minimum efficiency of the error estimator over the parameter space.\n",
    "\n",
    "- Try different numbers of subdomains."
   ]
  },
  {
   "cell_type": "markdown",
   "id": "4d766f6c",
   "metadata": {
    "slideshow": {
     "slide_type": "slide"
    }
   },
   "source": [
    "# System-Theoretic Methods with pyMOR"
   ]
  },
  {
   "cell_type": "markdown",
   "id": "e791bd77",
   "metadata": {
    "slideshow": {
     "slide_type": "subslide"
    }
   },
   "source": [
    "## Building the FOM"
   ]
  },
  {
   "cell_type": "markdown",
   "id": "506fafb9",
   "metadata": {
    "slideshow": {
     "slide_type": "fragment"
    }
   },
   "source": [
    "### Linear Time-Invariant (LTI) System\n",
    "\n",
    "\\begin{align}\n",
    "  \\dot{x}(t) & = A x(t) + B u(t), \\quad x(0) = 0, \\\\\n",
    "  y(t) & = C x(t),\n",
    "\\end{align}\n",
    "\n",
    "- $u(t) \\in \\mathbb{R}^m$ is the input,\n",
    "- $x(t) \\in \\mathbb{R}^n$ is the state,\n",
    "- $y(t) \\in \\mathbb{R}^p$ is the output."
   ]
  },
  {
   "cell_type": "code",
   "execution_count": null,
   "id": "fbf236d0",
   "metadata": {
    "slideshow": {
     "slide_type": "subslide"
    }
   },
   "outputs": [],
   "source": [
    "from pymor.basic import *\n",
    "lti = LTIModel.from_mat_file('files/build.mat')"
   ]
  },
  {
   "cell_type": "code",
   "execution_count": null,
   "id": "9d705d10",
   "metadata": {
    "slideshow": {
     "slide_type": "fragment"
    }
   },
   "outputs": [],
   "source": [
    "lti"
   ]
  },
  {
   "cell_type": "code",
   "execution_count": null,
   "id": "388f1725",
   "metadata": {
    "slideshow": {
     "slide_type": "fragment"
    }
   },
   "outputs": [],
   "source": [
    "print(lti)"
   ]
  },
  {
   "cell_type": "markdown",
   "id": "bc3382c8",
   "metadata": {
    "slideshow": {
     "slide_type": "subslide"
    }
   },
   "source": [
    "### FOM Poles"
   ]
  },
  {
   "cell_type": "code",
   "execution_count": null,
   "id": "930c2ca4",
   "metadata": {},
   "outputs": [],
   "source": [
    "import matplotlib.pyplot as plt\n",
    "poles = lti.poles()\n",
    "_ = plt.plot(poles.real, poles.imag, '.')"
   ]
  },
  {
   "cell_type": "markdown",
   "id": "c6c3bf76",
   "metadata": {
    "slideshow": {
     "slide_type": "subslide"
    }
   },
   "source": [
    "### FOM Hankel Singular Values"
   ]
  },
  {
   "cell_type": "code",
   "execution_count": null,
   "id": "812a1b2a",
   "metadata": {},
   "outputs": [],
   "source": [
    "_ = plt.semilogy(lti.hsv(), '.-')"
   ]
  },
  {
   "cell_type": "markdown",
   "id": "81fae7f1",
   "metadata": {
    "slideshow": {
     "slide_type": "subslide"
    }
   },
   "source": [
    "### FOM Bode Plot"
   ]
  },
  {
   "cell_type": "code",
   "execution_count": null,
   "id": "f8a0ad35",
   "metadata": {},
   "outputs": [],
   "source": [
    "w = np.logspace(-1, 3, 1000)\n",
    "_ = lti.transfer_function.bode_plot(w)"
   ]
  },
  {
   "cell_type": "markdown",
   "id": "0dcca681",
   "metadata": {
    "slideshow": {
     "slide_type": "subslide"
    }
   },
   "source": [
    "### Balanced Truncation"
   ]
  },
  {
   "cell_type": "code",
   "execution_count": null,
   "id": "da09e9ad",
   "metadata": {
    "slideshow": {
     "slide_type": "fragment"
    }
   },
   "outputs": [],
   "source": [
    "bt = BTReductor(lti)"
   ]
  },
  {
   "cell_type": "code",
   "execution_count": null,
   "id": "9377d3e2",
   "metadata": {
    "slideshow": {
     "slide_type": "fragment"
    }
   },
   "outputs": [],
   "source": [
    "rom_bt = bt.reduce(4)"
   ]
  },
  {
   "cell_type": "code",
   "execution_count": null,
   "id": "335e666c",
   "metadata": {
    "slideshow": {
     "slide_type": "subslide"
    }
   },
   "outputs": [],
   "source": [
    "rom_bt"
   ]
  },
  {
   "cell_type": "code",
   "execution_count": null,
   "id": "61d021ae",
   "metadata": {
    "slideshow": {
     "slide_type": "fragment"
    }
   },
   "outputs": [],
   "source": [
    "print(rom_bt)"
   ]
  },
  {
   "cell_type": "markdown",
   "id": "c7cb3acb",
   "metadata": {
    "slideshow": {
     "slide_type": "subslide"
    }
   },
   "source": [
    "### ROM poles"
   ]
  },
  {
   "cell_type": "code",
   "execution_count": null,
   "id": "64e1f02f",
   "metadata": {},
   "outputs": [],
   "source": [
    "poles = lti.poles()\n",
    "poles_rom = rom_bt.poles()\n",
    "_ = plt.plot(poles.real, poles.imag, '.')\n",
    "_ = plt.plot(poles_rom.real, poles_rom.imag, 'x')"
   ]
  },
  {
   "cell_type": "markdown",
   "id": "3e07c6cd",
   "metadata": {
    "slideshow": {
     "slide_type": "subslide"
    }
   },
   "source": [
    "### ROM Hankel Singular Values"
   ]
  },
  {
   "cell_type": "code",
   "execution_count": null,
   "id": "776564e1",
   "metadata": {},
   "outputs": [],
   "source": [
    "_ = plt.semilogy(lti.hsv(), '.-')\n",
    "_ = plt.semilogy(rom_bt.hsv(), '.-')"
   ]
  },
  {
   "cell_type": "markdown",
   "id": "b6074146",
   "metadata": {
    "slideshow": {
     "slide_type": "subslide"
    }
   },
   "source": [
    "### ROM Bode Plot"
   ]
  },
  {
   "cell_type": "code",
   "execution_count": null,
   "id": "3472571b",
   "metadata": {},
   "outputs": [],
   "source": [
    "fig, ax = plt.subplots(2, 1, squeeze=False, figsize=(6, 8), tight_layout=True)\n",
    "_ = lti.transfer_function.bode_plot(w, ax=ax)\n",
    "_ = rom_bt.transfer_function.bode_plot(w, ax=ax, linestyle='--')"
   ]
  },
  {
   "cell_type": "markdown",
   "id": "f0b40166",
   "metadata": {
    "slideshow": {
     "slide_type": "subslide"
    }
   },
   "source": [
    "### Error Magnitude Plot"
   ]
  },
  {
   "cell_type": "code",
   "execution_count": null,
   "id": "d48c09ea",
   "metadata": {},
   "outputs": [],
   "source": [
    "err_bt = lti - rom_bt\n",
    "_ = err_bt.transfer_function.mag_plot(w)"
   ]
  },
  {
   "cell_type": "markdown",
   "id": "fa9e02a1",
   "metadata": {
    "slideshow": {
     "slide_type": "fragment"
    }
   },
   "source": [
    "### Relative Errors"
   ]
  },
  {
   "cell_type": "code",
   "execution_count": null,
   "id": "19740529",
   "metadata": {},
   "outputs": [],
   "source": [
    "print(err_bt.hinf_norm() / lti.hinf_norm())\n",
    "print(err_bt.h2_norm() / lti.h2_norm())"
   ]
  }
 ],
 "metadata": {
  "jupytext": {
   "formats": "ipynb,md:myst"
  },
  "kernelspec": {
   "display_name": "Python 3 (ipykernel)",
   "language": "python",
   "name": "python3"
  }
 },
 "nbformat": 4,
 "nbformat_minor": 5
}
